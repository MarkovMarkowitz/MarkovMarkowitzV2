{
  "cells": [
    {
      "cell_type": "markdown",
      "metadata": {
        "id": "view-in-github",
        "colab_type": "text"
      },
      "source": [
        "<a href=\"https://colab.research.google.com/github/MarkovMarkowitz/MarkovMarkowitzV2/blob/MarkovMarkowitz-patch-1/ON1_Trading_Strategy_Functions_v22_NAS100.ipynb\" target=\"_parent\"><img src=\"https://colab.research.google.com/assets/colab-badge.svg\" alt=\"Open In Colab\"/></a>"
      ]
    },
    {
      "cell_type": "code",
      "source": [
        "\n",
        "\n",
        "# @title Markov Markowitz Company / Asset List Generator\n",
        "# @markdown ---\n",
        "# @markdown Input parameters for asset selection\n",
        "\n",
        "LOOKBACK_YEARS = 1 # @param {type:\"number\"}\n",
        "LOOKBACK_MONTHS = 0 # @param {type:\"number\"}\n",
        "LOOKBACK_DAYS = 0 # @param {type:\"number\"}\n",
        "WIN_TR_OC = 0.01  # @param {type: \"number\"}\n",
        "WIN_TR = 0.01  # @param {type: \"number\"}\n",
        "WIN_US = 0.01  # @param {type: \"number\"}\n",
        "RETURN_THRESHOLD = 0.00  # @param {type: \"number\"}\n",
        "USE_PRESET_START_END = False # @param {type: \"boolean\"}\n",
        "CLEAN_OC_ASSETS = False  # @param {type: \"boolean\"}  #\n",
        "OVERNIGHT_STRATEGY = False  # @param {type: \"boolean\"}\n",
        "ADD_COMMODITIES = False # @param {type:\"boolean\"}\n",
        "COMISSION_PERCENT = 0.0006  # @param {type: \"number\"}\n",
        "# @markdown ---\n",
        "# @markdown Generate asset list for:\n",
        "FONERIA_ENABLE = False  # @param {type: \"boolean\"}\n",
        "INDICES_ENABLE = True  # @param {type: \"boolean\"}\n",
        "BIST_30 = False # @param {type:\"boolean\"}\n",
        "BIST_100 = False # @param {type:\"boolean\"}\n",
        "BIST_BANKA = False # @param {type:\"boolean\"}\n",
        "DOW_30 = True # @param {type:\"boolean\"}\n",
        "NAS_100 = True # @param {type:\"boolean\"}\n",
        "SP_500 = False # @param {type:\"boolean\"}\n",
        "SP500_SAMPLE_SIZE = 70  # @param {type: \"number\"}\n",
        "CRYPTOS_ENABLE = False # @param {type:\"boolean\"}\n",
        "SHOW_GRAPHICS = False  # @param {type: \"boolean\"}\n",
        "\n",
        "\n",
        "# @markdown ---"
      ],
      "metadata": {
        "id": "gowS_j-q8i1w"
      },
      "execution_count": 226,
      "outputs": []
    },
    {
      "cell_type": "code",
      "source": [
        "print(\"Selected = \", LOOKBACK_YEARS, WIN_TR, WIN_US)"
      ],
      "metadata": {
        "colab": {
          "base_uri": "https://localhost:8080/"
        },
        "id": "niJNE91i867T",
        "outputId": "5b94a7a8-e1f3-4aff-9f45-8665dbf24d03"
      },
      "execution_count": 227,
      "outputs": [
        {
          "output_type": "stream",
          "name": "stdout",
          "text": [
            "Selected =  1 0.01 0.01\n"
          ]
        }
      ]
    },
    {
      "cell_type": "code",
      "source": [
        "# show current directory\n",
        "import os\n",
        "from pathlib import Path\n",
        "from IPython.display import display\n",
        "from PIL import Image\n",
        "\n",
        "from google.colab import files\n",
        "\n",
        "filename = \"MARKOVMAR5.png\"\n",
        "\n",
        "# my_file = Path(f\"/content/{filename}\")\n",
        "# if my_file.is_file():\n",
        "#     pass\n",
        "# else:\n",
        "#     files.upload_file(filename)\n",
        "\n",
        "# display(Image.open(filename))\n"
      ],
      "metadata": {
        "id": "4psp8LDCd8QW"
      },
      "execution_count": 228,
      "outputs": []
    },
    {
      "cell_type": "markdown",
      "source": [
        "## Special Eyes-Only Report on\n",
        "# **Individual Portfolio Analysis and Further Suggestions**\n",
        "#### Report written by **Markov Markowitz Company**\n",
        "#### Report issued on **27.08.2023**\n",
        "\n",
        "Any comments should be sent to: info@markovmarkowitz.com\n",
        "\n",
        "\n",
        "\n",
        "--------------------------------------------------\n",
        "\n",
        "# Portfolio Construction with Maximum Win Probability and Maximum Sharpe Ratio Portfolio upon **BIST**100 Assets(\"**Borsa ISTanbul\", Turkey**) using:\n",
        "\n",
        "## 1. **Markov Chain Probabilistic Model**\n",
        "\n",
        "A Markov Chain is a probabilistic model used to represent a system that undergoes a sequence of states over time, where the probability of transitioning from one state to another depends only on the current state. It's named after Andrey Markov, a Russian mathematician who pioneered its development. This model is defined by a set of states and transition probabilities between these states. Each state represents a possible condition or situation of the system, and the transitions between states are governed by probabilities.\n",
        "\n",
        "The key assumption of a Markov Chain is the Markov property, which states that the future state of the system depends only on its current state and is independent of its past states. In other words, the system has no memory of its history beyond its current state. Markov Chains are widely used in various fields, including finance, natural language processing, and biology, for modeling dynamic processes like stock price movements, text generation, and genetic mutations. They are often employed to make predictions, simulate system behavior, and analyze the long-term statistical properties of a system as it evolves through different states.\n",
        "\n",
        "\n",
        "\n",
        "<a href = \"https://doi.org/10.1017/CBO9780511810633\">  Norris </a>, J. R. (1998). Markov Chains. Cambridge University Press.\n",
        "\n",
        "<a href = \"https://www.cs.ubc.ca/~murphyk/Bayes/rabiner.pdf\"> Rabiner </a>, L. R. (1989). A Tutorial on Hidden Markov Models and Selected Applications in Speech Recognition.\n",
        "Proceedings of the IEEE, 77(2), 257-286.\n",
        "\n",
        "\n",
        "\n",
        "## 2. **Markowitz's Modern Portfolio Theory**\n",
        "\n",
        "Modern Portfolio Theory (MPT) is a Nobel Prize-winning economic theory.\n",
        "It explains how risk-averse investors can construct portfolios to optimize or maximize expected return based on a given level of market risk. <a href = \"https://en.wikipedia.org/wiki/Harry_Markowitz\">Harry Markowitz</a> pioneered this theory in his paper <a href = \"https://onlinelibrary.wiley.com/doi/full/10.1111/j.1540-6261.1952.tb01525.x\">Portfolio Selection</a> , which was published in the Journal of Finance in 1952. He was later awarded a Nobel Prize for his work on modern portfolio theory. Modern Portfolio Theory suggests diversification of all your securities and asset classes and not putting all your eggs in one basket. It emphasises the importance of portfolios, diversification, risk and the connections among different kinds of securities.\n",
        "\n",
        "\n",
        "## Table of contents\n",
        "1. [Volatility](#volat)\n",
        "2. [Variance and Standard Deviation](#type_vol)\n",
        "3. [Managing Portfolio Variance and Portfolio Variance Formula](#manpor)\n",
        "4. [Asset Selection](#asset_sel)\n",
        "5. [Select Backtesting Testing Dates](#select_dates)\n",
        "6. [Download the adjusted close prices of stocks](#downloads)\n",
        "7. [Plotting daily prices of all the stocks](#plot_daily)\n",
        "8. [Finding Daily returns](#daily_rets)\n",
        "9. [Standard deviations volatility and covariance matrix](#stddevs)\n",
        "10. [Correlation and heatmaps of correlation and effects on volatility](#heatmaps)\n",
        "11. [Markovitz Model Explanation](#markovitz)\n",
        "12. [Model portfolio with minimum risk amd its performance evaluation](#model)\n",
        "\n",
        "## Volatility <a name=\"volat\"></a>\n",
        "\n",
        "Volatility is a statistical measure of the dispersion of returns for a given security or market index. In most cases, the higher the volatility, the riskier the security. Volatility is often measured as either the standard deviation or variance between returns from that same security or market index.\n",
        "\n",
        "## Variance and Standard Deviation <a name=\"type_vol\"></a>\n",
        "\n",
        "Investors have to keep volatility in mind as well when choosing an investment. For example, a pension fund may need to be extra careful with its money and will want to ensure they aren’t getting into any extremely volatile investments. There are also hedge funds, which short stocks and even trade volatility with options. As you can see, whether you’re risk-seeking or risk-averse, the volatility (risk) of an investment is something you should care about.\n",
        "\n",
        "A simple measure of volatility is the variance. Variance is used to see how far away each data point in a set is away from the mean. Variance is calculated with the following steps:\n",
        "\n",
        "Take the difference between each data point and the mean Square each difference so that they're all positive values Sum up the squared results Divide this by the count of data points minus one $\\sigma^2 = \\frac{\\sum(x_i - \\overline{x}^2)}{n-1}$\n",
        "\n",
        "where\n",
        "\n",
        "$\\sigma^2 = \\textrm{Sample Variance}$\n",
        "\n",
        "$x_i = \\textrm{value of one observation}$\n",
        "\n",
        "$\\overline{x} = \\textrm{mean of all observations}$\n",
        "\n",
        "$n = \\textrm{number of observations}$\n",
        "\n",
        "The larger the variance, the further spread out it is from the mean. Variance treats all deviations from the mean the same way, regardless of whether they are less than or greater than the mean. A variance of zero would indicate that each data point is the same.\n",
        "\n",
        "Standard deviation is easy to calculate once you have the variance. All you have to do is take the square root of the variance:\n",
        "\n",
        "$\\sigma = \\sqrt{\\sigma^2}$\n",
        "\n",
        "where\n",
        "\n",
        "$\\sigma = \\textrm{standard deviation}$\n",
        "\n",
        "Standard deviation is another commonly used statistical measure to quantify market volatility. You would expect newer growth stocks to have higher standard deviations and more established blue-chip stocks to have lower standard deviations of returns. We will illustrate this by comparing daily returns from the last five years of the S&P 500 and NASDAQ, as well as Bitcoin prices. While Bitcoin isn't necessarily a growth stock, it's still very new compared to the S&P 500 and NASDAQ, so you would expect to see bigger swings in the price when compared to those two stock indices.\n",
        "\n",
        "This is illustrated below by taking the standard deviations of returns over the last five years. These results are as expected: Both the S&P 500 and NASDAQ have very similar daily standard deviations. Bitcoin, on the other hand, has almost five times the standard deviation of the two stock indices.\n",
        "\n",
        "## Managing Portfolio Variance and Portfolio Variance Formula <a name=\"manpor\"></a>\n",
        "\n",
        "In order to try to minimize portfolio variance, a good starting point is the formula itself to calculate variance with a two-asset portfolio.\n",
        "\n",
        "$\\textrm{Portfolio Variance} = w_x^2 \\sigma_x^2 + w_y^2 \\sigma_y^2 + 2w_x w_y Cov_{x,y}$\n",
        "\n",
        "where\n",
        "\n",
        "* $w_x$ = portfolio weight of asset x\n",
        "* $w_y$ = portfolio weight of asset y\n",
        "* $\\sigma_x$ = standard deviation of asset x\n",
        "* $\\sigma_y$ = standard deviation of asset y\n",
        "* $Cov_{x,y}$ = Covariance of the two assets\n",
        "\n",
        "Also, building off the previous lesson this means that\n",
        "$\\textrm{Portfolio Standard Deviation} = \\sqrt{\\textrm{Portfolio Variance}}$\n",
        "\n",
        "\n",
        "\n",
        "With this information in mind, there are 3 things we can do to minimize variance.\n",
        "\n",
        "1. We can pick assets with lower standard deviations of returns. This may seem obvious, but if we really want to reduce the variance of our portfolio, the simplest thing to do is just pick assets that have relatively low volatilities.\n",
        "2. Invest a higher percentage of your portfolio into your less risky asset(s). For our previous example with JPM and Bitcoin, we could further reduce our portfolio variance by investing a bigger portion of our funds into JPM since it had a lower standard deviation than Bitcoin.\n",
        "\n",
        "Sometimes, it's the case that an investor may still want to invest in a riskier asset like Bitcoin. This brings us to the third thing we can do to reduce variance.\n",
        "\n",
        "3. Check for assets with a low covariance. If you look at the right side of our portfolio variance function, you'll notice we have the covariance of two assets as a function parameter. If we can reduce that, we can reduce the overall variance of our portfolio.\n",
        "\n",
        "This is an important point and should be expanded upon further.\n",
        "\n",
        "\n",
        "## Covariance-Correlation Relationship\n",
        "If you recall from a previous lesson, the formula for correlation is:\n",
        "\n",
        "$\\rho_{x,y} = \\frac{Cov_{x,y}}{\\sigma_x*\\sigma_y}$\n",
        "\n",
        "We can rearrange this to get the covariance formula:\n",
        "\n",
        "$Cov_{x,y} = \\rho_{x,y}\\sigma_x\\sigma_y$\n",
        "\n",
        "Then, we can plug this back into our portfolio variance formula:\n",
        "\n",
        "$\\textrm{Portfolio Variance} = w_x^2 \\sigma_x^2 + w_y^2 \\sigma_y^2 + 2w_x w_y \\rho_{x,y}\\sigma_x\\sigma_y$\n",
        "\n",
        "\n",
        "These formulas are basically to show that we need to minimize correlations in order to minimize portfolio variance. Owning uncorrelated assets illustrates the efficient benefits of diversification. Let's write some reusable functions to sum up the work we did above and really display how this works with a few examples.\n",
        "\n",
        "\n",
        "As seen in the formula, in order to minimize portfolio variance we need to minimize the covariance term. And this can be done by minimization coefficents of this covariance term"
      ],
      "metadata": {
        "id": "tNXlxIlUps7Z"
      }
    },
    {
      "cell_type": "code",
      "execution_count": 229,
      "metadata": {
        "id": "Ia1DEDPuVS4b",
        "colab": {
          "base_uri": "https://localhost:8080/"
        },
        "outputId": "4ce1d361-d7e3-45f1-acf8-f982d1ba4ead"
      },
      "outputs": [
        {
          "output_type": "stream",
          "name": "stdout",
          "text": [
            "Requirement already satisfied: pyfolio in /usr/local/lib/python3.10/dist-packages (0.9.2)\n",
            "Requirement already satisfied: ipython>=3.2.3 in /usr/local/lib/python3.10/dist-packages (from pyfolio) (7.34.0)\n",
            "Requirement already satisfied: matplotlib>=1.4.0 in /usr/local/lib/python3.10/dist-packages (from pyfolio) (3.7.1)\n",
            "Requirement already satisfied: numpy>=1.11.1 in /usr/local/lib/python3.10/dist-packages (from pyfolio) (1.25.2)\n",
            "Requirement already satisfied: pandas>=0.18.1 in /usr/local/lib/python3.10/dist-packages (from pyfolio) (1.5.3)\n",
            "Requirement already satisfied: pytz>=2014.10 in /usr/local/lib/python3.10/dist-packages (from pyfolio) (2023.4)\n",
            "Requirement already satisfied: scipy>=0.14.0 in /usr/local/lib/python3.10/dist-packages (from pyfolio) (1.11.4)\n",
            "Requirement already satisfied: scikit-learn>=0.16.1 in /usr/local/lib/python3.10/dist-packages (from pyfolio) (1.2.2)\n",
            "Requirement already satisfied: seaborn>=0.7.1 in /usr/local/lib/python3.10/dist-packages (from pyfolio) (0.13.1)\n",
            "Requirement already satisfied: empyrical>=0.5.0 in /usr/local/lib/python3.10/dist-packages (from pyfolio) (0.5.5)\n",
            "Requirement already satisfied: pandas-datareader>=0.2 in /usr/local/lib/python3.10/dist-packages (from empyrical>=0.5.0->pyfolio) (0.10.0)\n",
            "Requirement already satisfied: setuptools>=18.5 in /usr/local/lib/python3.10/dist-packages (from ipython>=3.2.3->pyfolio) (67.7.2)\n",
            "Requirement already satisfied: jedi>=0.16 in /usr/local/lib/python3.10/dist-packages (from ipython>=3.2.3->pyfolio) (0.19.1)\n",
            "Requirement already satisfied: decorator in /usr/local/lib/python3.10/dist-packages (from ipython>=3.2.3->pyfolio) (4.4.2)\n",
            "Requirement already satisfied: pickleshare in /usr/local/lib/python3.10/dist-packages (from ipython>=3.2.3->pyfolio) (0.7.5)\n",
            "Requirement already satisfied: traitlets>=4.2 in /usr/local/lib/python3.10/dist-packages (from ipython>=3.2.3->pyfolio) (5.7.1)\n",
            "Requirement already satisfied: prompt-toolkit!=3.0.0,!=3.0.1,<3.1.0,>=2.0.0 in /usr/local/lib/python3.10/dist-packages (from ipython>=3.2.3->pyfolio) (3.0.43)\n",
            "Requirement already satisfied: pygments in /usr/local/lib/python3.10/dist-packages (from ipython>=3.2.3->pyfolio) (2.16.1)\n",
            "Requirement already satisfied: backcall in /usr/local/lib/python3.10/dist-packages (from ipython>=3.2.3->pyfolio) (0.2.0)\n",
            "Requirement already satisfied: matplotlib-inline in /usr/local/lib/python3.10/dist-packages (from ipython>=3.2.3->pyfolio) (0.1.6)\n",
            "Requirement already satisfied: pexpect>4.3 in /usr/local/lib/python3.10/dist-packages (from ipython>=3.2.3->pyfolio) (4.9.0)\n",
            "Requirement already satisfied: contourpy>=1.0.1 in /usr/local/lib/python3.10/dist-packages (from matplotlib>=1.4.0->pyfolio) (1.2.0)\n",
            "Requirement already satisfied: cycler>=0.10 in /usr/local/lib/python3.10/dist-packages (from matplotlib>=1.4.0->pyfolio) (0.12.1)\n",
            "Requirement already satisfied: fonttools>=4.22.0 in /usr/local/lib/python3.10/dist-packages (from matplotlib>=1.4.0->pyfolio) (4.49.0)\n",
            "Requirement already satisfied: kiwisolver>=1.0.1 in /usr/local/lib/python3.10/dist-packages (from matplotlib>=1.4.0->pyfolio) (1.4.5)\n",
            "Requirement already satisfied: packaging>=20.0 in /usr/local/lib/python3.10/dist-packages (from matplotlib>=1.4.0->pyfolio) (24.0)\n",
            "Requirement already satisfied: pillow>=6.2.0 in /usr/local/lib/python3.10/dist-packages (from matplotlib>=1.4.0->pyfolio) (9.4.0)\n",
            "Requirement already satisfied: pyparsing>=2.3.1 in /usr/local/lib/python3.10/dist-packages (from matplotlib>=1.4.0->pyfolio) (3.1.2)\n",
            "Requirement already satisfied: python-dateutil>=2.7 in /usr/local/lib/python3.10/dist-packages (from matplotlib>=1.4.0->pyfolio) (2.8.2)\n",
            "Requirement already satisfied: joblib>=1.1.1 in /usr/local/lib/python3.10/dist-packages (from scikit-learn>=0.16.1->pyfolio) (1.3.2)\n",
            "Requirement already satisfied: threadpoolctl>=2.0.0 in /usr/local/lib/python3.10/dist-packages (from scikit-learn>=0.16.1->pyfolio) (3.3.0)\n",
            "Requirement already satisfied: parso<0.9.0,>=0.8.3 in /usr/local/lib/python3.10/dist-packages (from jedi>=0.16->ipython>=3.2.3->pyfolio) (0.8.3)\n",
            "Requirement already satisfied: lxml in /usr/local/lib/python3.10/dist-packages (from pandas-datareader>=0.2->empyrical>=0.5.0->pyfolio) (4.9.4)\n",
            "Requirement already satisfied: requests>=2.19.0 in /usr/local/lib/python3.10/dist-packages (from pandas-datareader>=0.2->empyrical>=0.5.0->pyfolio) (2.31.0)\n",
            "Requirement already satisfied: ptyprocess>=0.5 in /usr/local/lib/python3.10/dist-packages (from pexpect>4.3->ipython>=3.2.3->pyfolio) (0.7.0)\n",
            "Requirement already satisfied: wcwidth in /usr/local/lib/python3.10/dist-packages (from prompt-toolkit!=3.0.0,!=3.0.1,<3.1.0,>=2.0.0->ipython>=3.2.3->pyfolio) (0.2.13)\n",
            "Requirement already satisfied: six>=1.5 in /usr/local/lib/python3.10/dist-packages (from python-dateutil>=2.7->matplotlib>=1.4.0->pyfolio) (1.16.0)\n",
            "Requirement already satisfied: charset-normalizer<4,>=2 in /usr/local/lib/python3.10/dist-packages (from requests>=2.19.0->pandas-datareader>=0.2->empyrical>=0.5.0->pyfolio) (3.3.2)\n",
            "Requirement already satisfied: idna<4,>=2.5 in /usr/local/lib/python3.10/dist-packages (from requests>=2.19.0->pandas-datareader>=0.2->empyrical>=0.5.0->pyfolio) (3.6)\n",
            "Requirement already satisfied: urllib3<3,>=1.21.1 in /usr/local/lib/python3.10/dist-packages (from requests>=2.19.0->pandas-datareader>=0.2->empyrical>=0.5.0->pyfolio) (2.0.7)\n",
            "Requirement already satisfied: certifi>=2017.4.17 in /usr/local/lib/python3.10/dist-packages (from requests>=2.19.0->pandas-datareader>=0.2->empyrical>=0.5.0->pyfolio) (2024.2.2)\n",
            "Requirement already satisfied: datetime in /usr/local/lib/python3.10/dist-packages (5.4)\n",
            "Requirement already satisfied: zope.interface in /usr/local/lib/python3.10/dist-packages (from datetime) (6.2)\n",
            "Requirement already satisfied: pytz in /usr/local/lib/python3.10/dist-packages (from datetime) (2023.4)\n",
            "Requirement already satisfied: setuptools in /usr/local/lib/python3.10/dist-packages (from zope.interface->datetime) (67.7.2)\n"
          ]
        }
      ],
      "source": [
        "!pip3 install pyfolio\n",
        "!pip install datetime"
      ]
    },
    {
      "cell_type": "markdown",
      "metadata": {
        "id": "ih7-VamUZ4qc"
      },
      "source": []
    },
    {
      "cell_type": "markdown",
      "metadata": {
        "id": "kQK6fotMVYtJ"
      },
      "source": [
        "# Notebook Instructions\n",
        "\n",
        "1. If you are new to Jupyter notebooks, please go through this introductory manual <a href='https://quantra.quantinsti.com/quantra-notebook' target=\"_blank\">here</a>.\n",
        "1. Any changes made in this notebook would be lost after you close the browser window. **You can download the notebook to save your work on your PC.**\n",
        "1. Before running this notebook on your local PC:<br>\n",
        "i.  You need to set up a Python environment and the relevant packages on your local PC. To do so, go through the section on \"**Run Codes Locally on Your Machine**\" in the course.<br>\n",
        "ii. You need to **download the zip file available in the last unit** of this course. The zip file contains the data files and/or python modules that might be required to run this notebook."
      ]
    },
    {
      "cell_type": "code",
      "execution_count": 230,
      "metadata": {
        "id": "a9nKTtg-wv5c",
        "colab": {
          "base_uri": "https://localhost:8080/"
        },
        "outputId": "1ce8f488-6b84-45b0-af34-c04b4e012c3b"
      },
      "outputs": [
        {
          "output_type": "execute_result",
          "data": {
            "text/plain": [
              "('2023-3-13', '2024-3-13')"
            ]
          },
          "metadata": {},
          "execution_count": 230
        }
      ],
      "source": [
        "import os\n",
        "import pandas_datareader.data as web\n",
        "from datetime import datetime\n",
        "from pprint import pprint\n",
        "import pandas as pd\n",
        "\n",
        "import datetime\n",
        "import pyfolio as pyf\n",
        "import pandas as pd\n",
        "import numpy as np\n",
        "import yfinance as yf\n",
        "import matplotlib.pyplot as plt\n",
        "\n",
        "pd.set_option('display.max_rows', None)\n",
        "\n",
        "\n",
        "current_date = datetime.datetime.now()\n",
        "\n",
        "delta = LOOKBACK_YEARS\n",
        "d2 = LOOKBACK_MONTHS\n",
        "d3 = LOOKBACK_DAYS\n",
        "day = current_date.day - d3\n",
        "month = current_date.month - d2\n",
        "year = current_date.year - delta\n",
        "\n",
        "START = f'{year}-{month}-{day}'\n",
        "END = f'{year+delta}-{month+d2}-{day+d3}'\n",
        "\n",
        "LEFT, RIGHT = datetime.date(year, month, day), datetime.date(year+delta, month+d2, day+d3)\n",
        "START, END\n"
      ]
    },
    {
      "cell_type": "code",
      "source": [
        "def LoadFileFromGithub(src_dir,csv_file):\n",
        "  user = \"MarkovMarkowitz\"\n",
        "  repo = \"MarkovMarkowitzV2\"\n",
        "  url = f\"https://raw.githubusercontent.com/{user}/{repo}/{src_dir}/{csv_file}\"\n",
        "  !wget --no-cache --backups=1 {url}"
      ],
      "metadata": {
        "id": "pAvYfaD_nw9Z"
      },
      "execution_count": 231,
      "outputs": []
    },
    {
      "cell_type": "code",
      "source": [
        "if NAS_100:\n",
        "  EXCHANGE_FILE = \"nasdaq_100_stocks.xlsx\"\n",
        "  LoadFileFromGithub( src_dir = \"MarkovMarkowitz-patch-1/XLS-CSV\", csv_file = EXCHANGE_FILE)\n",
        "  NAS100_STOCKS =  pd.read_excel(EXCHANGE_FILE).Ticker.to_list()\n",
        ""
      ],
      "metadata": {
        "colab": {
          "base_uri": "https://localhost:8080/"
        },
        "id": "-055SyTpn1MR",
        "outputId": "38954312-058e-4c93-d5b9-94f9a1436e6c"
      },
      "execution_count": 232,
      "outputs": [
        {
          "output_type": "stream",
          "name": "stdout",
          "text": [
            "--2024-03-13 22:00:09--  https://raw.githubusercontent.com/MarkovMarkowitz/MarkovMarkowitzV2/MarkovMarkowitz-patch-1/XLS-CSV/nasdaq_100_stocks.xlsx\n",
            "Resolving raw.githubusercontent.com (raw.githubusercontent.com)... 185.199.110.133, 185.199.111.133, 185.199.108.133, ...\n",
            "Connecting to raw.githubusercontent.com (raw.githubusercontent.com)|185.199.110.133|:443... connected.\n",
            "HTTP request sent, awaiting response... 200 OK\n",
            "Length: 33181 (32K) [application/octet-stream]\n",
            "Saving to: ‘nasdaq_100_stocks.xlsx’\n",
            "\n",
            "\rnasdaq_100_stocks.x   0%[                    ]       0  --.-KB/s               \rnasdaq_100_stocks.x 100%[===================>]  32.40K  --.-KB/s    in 0.002s  \n",
            "\n",
            "2024-03-13 22:00:09 (13.1 MB/s) - ‘nasdaq_100_stocks.xlsx’ saved [33181/33181]\n",
            "\n"
          ]
        }
      ]
    },
    {
      "cell_type": "code",
      "source": [
        "NAS100_STOCKS"
      ],
      "metadata": {
        "colab": {
          "base_uri": "https://localhost:8080/"
        },
        "id": "z39J1DvIpgEr",
        "outputId": "f74bf0f5-77c9-4836-b658-9a8d5cb30dc1"
      },
      "execution_count": 233,
      "outputs": [
        {
          "output_type": "execute_result",
          "data": {
            "text/plain": [
              "['AAPL',\n",
              " 'ADBE',\n",
              " 'ADI',\n",
              " 'ADP',\n",
              " 'ADSK',\n",
              " 'ALGN',\n",
              " 'ALXN',\n",
              " 'AMAT',\n",
              " 'AMD',\n",
              " 'AMGN',\n",
              " 'AMZN',\n",
              " 'ASML',\n",
              " 'ATVI',\n",
              " 'AVGO',\n",
              " 'BIDU',\n",
              " 'BIIB',\n",
              " 'BKNG',\n",
              " 'BMRN',\n",
              " 'CDNS',\n",
              " 'CHTR',\n",
              " 'CMCSA',\n",
              " 'COST',\n",
              " 'CPRT',\n",
              " 'CRWD',\n",
              " 'CSCO',\n",
              " 'CSX',\n",
              " 'CTAS',\n",
              " 'CTSH',\n",
              " 'DDOG',\n",
              " 'DLTR',\n",
              " 'DOCU',\n",
              " 'DXCM',\n",
              " 'EA',\n",
              " 'EBAY',\n",
              " 'EXC',\n",
              " 'FAST',\n",
              " 'FB',\n",
              " 'FISV',\n",
              " 'FTNT',\n",
              " 'GILD',\n",
              " 'GOOG',\n",
              " 'GOOGL',\n",
              " 'HON',\n",
              " 'IDXX',\n",
              " 'ILMN',\n",
              " 'INTC',\n",
              " 'INTU',\n",
              " 'ISRG',\n",
              " 'JD',\n",
              " 'KDP',\n",
              " 'KHC',\n",
              " 'KLAC',\n",
              " 'LCID',\n",
              " 'LRCX',\n",
              " 'LULU',\n",
              " 'MAR',\n",
              " 'MCHP',\n",
              " 'MDLZ',\n",
              " 'MELI',\n",
              " 'MNST',\n",
              " 'MRNA',\n",
              " 'MRVL',\n",
              " 'MSFT',\n",
              " 'MTCH',\n",
              " 'MU',\n",
              " 'NFLX',\n",
              " 'NTES',\n",
              " 'NVDA',\n",
              " 'NXPI',\n",
              " 'OKTA',\n",
              " 'ORLY',\n",
              " 'PANW',\n",
              " 'PAYX',\n",
              " 'PCAR',\n",
              " 'PDD',\n",
              " 'PEP',\n",
              " 'PTON',\n",
              " 'PYPL',\n",
              " 'QCOM',\n",
              " 'REGN',\n",
              " 'ROST',\n",
              " 'SBUX',\n",
              " 'SGEN',\n",
              " 'SIRI',\n",
              " 'SNPS',\n",
              " 'SPLK',\n",
              " 'SWKS',\n",
              " 'TEAM',\n",
              " 'TMUS',\n",
              " 'TSLA',\n",
              " 'TTWO',\n",
              " 'TXN',\n",
              " 'VRSK',\n",
              " 'VRSN',\n",
              " 'VRTX',\n",
              " 'WBA',\n",
              " 'WDAY',\n",
              " 'XEL',\n",
              " 'XLNX',\n",
              " 'ZM',\n",
              " 'ZS']"
            ]
          },
          "metadata": {},
          "execution_count": 233
        }
      ]
    },
    {
      "cell_type": "code",
      "source": [
        "TARGET_RETURN = 0.00\n",
        "VOLATILITY_FACTOR = 0.45\n",
        "\n",
        "WINNER_LIMIT_TR_OC = WIN_TR_OC\n",
        "WINNER_LIMIT_TR = WIN_TR\n",
        "WINNER_LIMIT_US = WIN_US\n",
        "R_WINDOW = 32\n",
        "REVERSED = True\n",
        "\n",
        "\n",
        "\n",
        "Ticker = \"EREGL\"    # EREGL, ASELS, KCHOL THYAO akşam al sabah sata uygun\n",
        "TickerIS = Ticker + \".IS\"\n",
        "\n",
        "TR_Tickers = [\"EREGL\", \"CANTE\", \"GARAN\", \"KCHOL\", \"EUPWR\"]\n",
        "US_Tickers = [\"TSLA\", \"AAPL\", \"GOOGL\", \"BA\", \"V\"]\n",
        "DOW30 = [\"AXP\",\"AMGN\",\"AAPL\",\"BA\",\"CAT\",\"CSCO\",\"CVX\",\"GS\",\"HD\",\"HON\",\"IBM\",\"JNJ\",\"KO\",\"JPM\",\n",
        "         \"MCD\",\"MMM\",\"MRK\",\"MSFT\",\"NKE\",\"PG\",\"TRV\",\"UNH\",\"CRM\",\"VZ\",\"V\",\"WBA\",\"WMT\",\"DIS\"]\n",
        "\n",
        "BIST30 = [ \"AKBNK\",\"ALARK\",\"ARCLK\",\"ASTOR\",\"ASELS\",\"BIMAS\",\"EKGYO\",\"ENKAI\",\"EREGL\",\"FROTO\",\"GARAN\",\n",
        "          \"GUBRF\",\"HEKTS\",\"ISCTR\",\"KOZAA\",\"KOZAL\",\"KRDMD\",\"PETKM\",\"PGSUS\",\"SAHOL\",\"SASA\",\n",
        "          \"ODAS\",\"SISE\",\"TAVHL\",\"TCELL\",\"THYAO\",\"TOASO\",\"TUPRS\",\"YKBNK\",\"EUPWR\", \"XU100\"]\n",
        "\n",
        "FONERIA = [ \"AGHOL\",\"ANSGR\",\"ASELS\", \"BIMAS\", \"EKGYO\", \"ENJSA\", \"ISMEN\", \"MAVI\", \"TAVHL\", \"TCELL\", \"THYAO\", \"TTKOM\", \"ULKER\"]\n",
        "\n",
        "          # ODAS 15.9.2022 daki tavanı sebebiyle çıkarıldı\n",
        "BIST30.remove(\"SASA\")\n",
        "BIST30.remove(\"HEKTS\")\n",
        "BIST30.remove(\"ODAS\")\n",
        "BIST30.remove(\"ASTOR\")\n",
        "BIST30.remove(\"EUPWR\")\n",
        "\n",
        "if FONERIA_ENABLE == True:\n",
        "  BIST30 = FONERIA\n",
        "\n",
        "INDICES = [  \"XU030.IS\",\"XU100.IS\",\"^GSPC\", \"NQ=F\",\"GC=F\", \"SI=F\", \"CL=F\",\"^FCHI\", \"^GDAXI\" ]\n",
        "\n",
        "if INDICES_ENABLE == True:\n",
        "  DOW30 = INDICES\n",
        "\n",
        "if NAS_100:\n",
        "  DOW30 = NAS100_STOCKS\n",
        "  NAS100_STOCKS.remove(\"ALXN\")\n",
        "  NAS100_STOCKS.remove(\"ATVI\")\n",
        "  NAS100_STOCKS.remove(\"FB\")\n",
        "  NAS100_STOCKS.remove(\"FISV\")\n",
        "  NAS100_STOCKS.remove(\"SGEN\")\n",
        "  NAS100_STOCKS.remove(\"XLNX\")\n",
        "  NAS100_STOCKS.remove(\"CRWD\")\n",
        "  NAS100_STOCKS.remove(\"DDOG\")\n",
        "  NAS100_STOCKS.remove( \"PTON\")\n",
        "  NAS100_STOCKS.remove(\"ZM\")\n",
        "  NAS100_STOCKS.remove(\"LCID\")\n",
        "\n",
        "\n",
        "if ADD_COMMODITIES:\n",
        "  BIST30.append(\"GC=F\")\n",
        "  BIST30.append(\"CL=F\")\n",
        "\n",
        "BANKALAR =   [  \"AKBNK\", \"GARAN\",\n",
        "                \"ISCTR\", \"YKBNK\",\n",
        "                \"ALBRK\", \"HALKB\",\n",
        "                \"SKBNK\", \"TSKB\",\n",
        "                \"VAKBN\" ]\n",
        "\n",
        "\n",
        "\n",
        "\n",
        "CRYPTOS = [\n",
        "\n",
        "\"BTC-USD\",\n",
        "\"ETH-USD\",\n",
        "# \"USDT-USD\",\n",
        "# \"BNB-USD\",\n",
        "# \"USDC-USD\",\n",
        "\"XRP-USD\",\n",
        "# \"SOL-USD\",\n",
        "# \"LUNA1-USD\",\n",
        "\"ADA-USD\",\n",
        "# \"HEX-USD\",\n",
        "# \"AVAX-USD\",\n",
        "# \"DOGE-USD\",\n",
        "# \"BUSD-USD\",\n",
        "# \"SHIB-USD\",\n",
        "# \"WBTC-USD\",\n",
        "# \"MATIC-USD\",\n",
        "# \"STETH-USD\",\n",
        "# \"NEAR-USD\",\n",
        "# \"CRO-USD\",\n",
        "# \"DAI-USD\",\n",
        "# \"LTC-USD\",\n",
        "# \"TRX-USD\",\n",
        "# \"ATOM-USD\",\n",
        "# \"LINK-USD\",\n",
        "# \"UNI1-USD\",\n",
        "# \"BCH-USD\",\n",
        "# \"LEO-USD\"\n",
        "\n",
        "          ]\n",
        "\n",
        "USD_EUR = [\"TRY=X\", \"EURTRY=X\"]\n",
        "USDTR_GOLD = [\"GC=F\", \"TRY=X\", \"EURTRY=X\"]\n",
        "Metals = [\"GC=F\", \"TRY=X\",  \"SI=F\"]\n",
        "Metals_Oil = [\"GC=F\",  \"SI=F\", \"CL=F\"]\n",
        "Gold_Oil_ETFS = [\"AAAU\",  \"GDX\", \"OIL\"]\n",
        "\n",
        "\n",
        "BIST100 = [\"AKBNK\",\"ALARK\",\"ARCLK\",\"ASELS\",\"BIMAS\",\"EKGYO\",\"ENKAI\",\"EREGL\",\"FROTO\",\"GARAN\",\n",
        "          \"GUBRF\",\"HEKTS\",\"ISCTR\",\"KOZAA\",\"KOZAL\",\"KRDMD\",\"ODAS\",\"PETKM\",\"PGSUS\",\"SAHOL\",\"SASA\",\n",
        "          \"SISE\",\"TCELL\",\"THYAO\",\"TOASO\",\"TUPRS\",\"YKBNK\",\n",
        "          \"AEFES\",\"AGHOL\",\"AHGAZ\",\"AKCNS\",\"AKFGY\",\"AKSA\",\"AKSEN\",\n",
        "           \"ALBRK\",\"ASUZU\",\"AYDEM\",\"BAGFS\",\"BERA\",\n",
        "           \"BRSAN\",\"BRYAT\",\"BUCIM\",\"CANTE\",\"CCOLA\",\"CEMTS\",\"CIMSA\",\n",
        "           \"DOAS\",\"DOHOL\",\"ECILC\",\"ECZYT\",\"EGEEN\",\"ENJSA\",\n",
        "           \"GENIL\",\"GESAN\",\"GLYHO\",\"GSDHO\",\"GWIND\",\"HALKB\",\"IPEKE\",\n",
        "           \"ISDMR\",\"ISGYO\",\"ISMEN\",\"IZMDC\",\"KARSN\",\"KMPUR\",\n",
        "           \"KONTR\",\"KONYA\",\"KORDS\",\"KZBGY\",\"MAVI\",\"OTKAR\",\"OYAKC\",\n",
        "           \"PENTA\",\"QUAGR\",\"SELEC\",\"SKBNK\",\"SMRTG\",\n",
        "           \"SNGYO\",\"SOKM\",\"TAVHL\",\"TKFEN\",\"TKNSA\",\"TSKB\",\n",
        "           \"TTKOM\",\"TTRAK\",\"TUKAS\",\"ULKER\",\"VAKBN\",\"VESBE\",\"ZOREN\",\n",
        "           \"EUPWR\", \"TURSG\"]\n",
        "\n",
        "BIST100.remove(\"GENIL\")\n",
        "BIST100.remove(\"CANTE\")\n",
        "BIST100.remove(\"SASA\")\n",
        "BIST100.remove(\"MAVI\")\n",
        "BIST100.remove(\"ZOREN\")\n",
        "BIST100.remove(\"EUPWR\")\n",
        "\n",
        "if ADD_COMMODITIES:\n",
        "  BIST100.append(\"GC=F\")\n",
        "  BIST100.append(\"CL=F\")\n",
        "\n",
        "\n",
        "sp_url = 'https://en.wikipedia.org/wiki/List_of_S%26P_500_companies'\n",
        "\n",
        "sp500_constituents = pd.read_html(sp_url, header=0)[0]\n",
        "sp500_constituents = sp500_constituents[sp500_constituents.Symbol != \"BRK.B\"]\n",
        "sp500_constituents = sp500_constituents[sp500_constituents.Symbol != \"BF.B\" ]\n",
        "sp500_constituents = sp500_constituents[sp500_constituents.Symbol != \"LNC\" ]\n",
        "\n",
        "\n",
        "\n",
        "sp500_constituents.Symbol;\n",
        "\n",
        "sp500_constituents = sp500_constituents.sample(n=SP500_SAMPLE_SIZE, random_state=1)\n",
        "\n",
        "sp500_constituents = sp500_constituents[sp500_constituents.Symbol != \"CTVA\" ]\n",
        "sp500_constituents\n"
      ],
      "metadata": {
        "id": "1rwHxJGJQY-s",
        "outputId": "7454e0cd-c363-4ad2-e2d7-b90a944e31ac",
        "colab": {
          "base_uri": "https://localhost:8080/",
          "height": 1000
        }
      },
      "execution_count": 234,
      "outputs": [
        {
          "output_type": "execute_result",
          "data": {
            "text/plain": [
              "    Symbol                          Security             GICS Sector  \\\n",
              "307    MKC               McCormick & Company        Consumer Staples   \n",
              "343   NTRS                    Northern Trust              Financials   \n",
              "47       T                              AT&T  Communication Services   \n",
              "68      BX                        Blackstone              Financials   \n",
              "360    PKG  Packaging Corporation of America               Materials   \n",
              "488    WDC                   Western Digital  Information Technology   \n",
              "313    MET                           MetLife              Financials   \n",
              "31     AMP              Ameriprise Financial              Financials   \n",
              "251   PODD                           Insulet             Health Care   \n",
              "92    CBOE               Cboe Global Markets              Financials   \n",
              "302    MMC                    Marsh McLennan              Financials   \n",
              "170   ENPH                           Enphase  Information Technology   \n",
              "121    CMA                          Comerica              Financials   \n",
              "67     BLK                         BlackRock              Financials   \n",
              "308    MCD                        McDonald's  Consumer Discretionary   \n",
              "191   FICO                        Fair Isaac  Information Technology   \n",
              "374    PXD         Pioneer Natural Resources                  Energy   \n",
              "292    LMT                   Lockheed Martin             Industrials   \n",
              "144   XRAY                   Dentsply Sirona             Health Care   \n",
              "148    DLR                    Digital Realty             Real Estate   \n",
              "296    LYB                    LyondellBasell               Materials   \n",
              "291    LKQ                   LKQ Corporation  Consumer Discretionary   \n",
              "314    MTD                    Mettler Toledo             Health Care   \n",
              "495   WYNN                      Wynn Resorts  Consumer Discretionary   \n",
              "66    BIIB                            Biogen             Health Care   \n",
              "362   PARA                  Paramount Global  Communication Services   \n",
              "34     APH                          Amphenol  Information Technology   \n",
              "345   NCLH    Norwegian Cruise Line Holdings  Consumer Discretionary   \n",
              "175    EFX                           Equifax             Industrials   \n",
              "203   FTNT                          Fortinet  Information Technology   \n",
              "181     EG                        Everest Re              Financials   \n",
              "309    MCK                          McKesson             Health Care   \n",
              "235    HON                         Honeywell             Industrials   \n",
              "445    TJX                     TJX Companies  Consumer Discretionary   \n",
              "330    MSI                Motorola Solutions  Information Technology   \n",
              "341   NDSN               Nordson Corporation             Industrials   \n",
              "4      ACN                         Accenture  Information Technology   \n",
              "481    WBD            Warner Bros. Discovery  Communication Services   \n",
              "364   PAYX                           Paychex             Industrials   \n",
              "348   NVDA                            Nvidia  Information Technology   \n",
              "453    TSN                       Tyson Foods        Consumer Staples   \n",
              "357   ORCL                Oracle Corporation  Information Technology   \n",
              "215     GE                  General Electric             Industrials   \n",
              "333   NTAP                            NetApp  Information Technology   \n",
              "332   NDAQ                      Nasdaq, Inc.              Financials   \n",
              "417   SWKS                Skyworks Solutions  Information Technology   \n",
              "482     WM                  Waste Management             Industrials   \n",
              "409    CRM                        Salesforce  Information Technology   \n",
              "104    CVX               Chevron Corporation                  Energy   \n",
              "166     EA                   Electronic Arts  Communication Services   \n",
              "216    GIS                     General Mills        Consumer Staples   \n",
              "5     ADBE                        Adobe Inc.  Information Technology   \n",
              "422    SWK            Stanley Black & Decker             Industrials   \n",
              "452    TYL                Tyler Technologies  Information Technology   \n",
              "63     BBY                          Best Buy  Consumer Discretionary   \n",
              "494    GWW                    W. W. Grainger             Industrials   \n",
              "375    PNC            PNC Financial Services              Financials   \n",
              "17     LNT                    Alliant Energy               Utilities   \n",
              "353   ODFL                      Old Dominion             Industrials   \n",
              "405    ROP                Roper Technologies  Information Technology   \n",
              "87     KMX                            CarMax  Consumer Discretionary   \n",
              "259    IVZ                           Invesco              Financials   \n",
              "444    TMO          Thermo Fisher Scientific             Health Care   \n",
              "388   QRVO                             Qorvo  Information Technology   \n",
              "312   META                    Meta Platforms  Communication Services   \n",
              "487    WST      West Pharmaceutical Services             Health Care   \n",
              "342    NSC          Norfolk Southern Railway             Industrials   \n",
              "287   LDOS                            Leidos             Industrials   \n",
              "164    EIX              Edison International               Utilities   \n",
              "\n",
              "                                  GICS Sub-Industry  \\\n",
              "307                          Packaged Foods & Meats   \n",
              "343                Asset Management & Custody Banks   \n",
              "47            Integrated Telecommunication Services   \n",
              "68                 Asset Management & Custody Banks   \n",
              "360  Paper & Plastic Packaging Products & Materials   \n",
              "488      Technology Hardware, Storage & Peripherals   \n",
              "313                         Life & Health Insurance   \n",
              "31                 Asset Management & Custody Banks   \n",
              "251                           Health Care Equipment   \n",
              "92                       Financial Exchanges & Data   \n",
              "302                               Insurance Brokers   \n",
              "170             Semiconductor Materials & Equipment   \n",
              "121                               Diversified Banks   \n",
              "67                 Asset Management & Custody Banks   \n",
              "308                                     Restaurants   \n",
              "191                            Application Software   \n",
              "374              Oil & Gas Exploration & Production   \n",
              "292                             Aerospace & Defense   \n",
              "144                            Health Care Supplies   \n",
              "148                               Data Center REITs   \n",
              "296                             Specialty Chemicals   \n",
              "291                                    Distributors   \n",
              "314                  Life Sciences Tools & Services   \n",
              "495                                Casinos & Gaming   \n",
              "66                                    Biotechnology   \n",
              "362                          Movies & Entertainment   \n",
              "34                            Electronic Components   \n",
              "345                  Hotels, Resorts & Cruise Lines   \n",
              "175                  Research & Consulting Services   \n",
              "203                                Systems Software   \n",
              "181                                     Reinsurance   \n",
              "309                        Health Care Distributors   \n",
              "235                        Industrial Conglomerates   \n",
              "445                                  Apparel Retail   \n",
              "330                        Communications Equipment   \n",
              "341    Industrial Machinery & Supplies & Components   \n",
              "4                    IT Consulting & Other Services   \n",
              "481                                    Broadcasting   \n",
              "364            Human Resource & Employment Services   \n",
              "348                                  Semiconductors   \n",
              "453                          Packaged Foods & Meats   \n",
              "357                            Application Software   \n",
              "215                        Industrial Conglomerates   \n",
              "333      Technology Hardware, Storage & Peripherals   \n",
              "332                      Financial Exchanges & Data   \n",
              "417                                  Semiconductors   \n",
              "482             Environmental & Facilities Services   \n",
              "409                            Application Software   \n",
              "104                            Integrated Oil & Gas   \n",
              "166                  Interactive Home Entertainment   \n",
              "216                          Packaged Foods & Meats   \n",
              "5                              Application Software   \n",
              "422    Industrial Machinery & Supplies & Components   \n",
              "452                            Application Software   \n",
              "63                    Computer & Electronics Retail   \n",
              "494    Industrial Machinery & Supplies & Components   \n",
              "375                                  Regional Banks   \n",
              "17                               Electric Utilities   \n",
              "353                     Cargo Ground Transportation   \n",
              "405              Electronic Equipment & Instruments   \n",
              "87                                Automotive Retail   \n",
              "259                Asset Management & Custody Banks   \n",
              "444                  Life Sciences Tools & Services   \n",
              "388                                  Semiconductors   \n",
              "312                    Interactive Media & Services   \n",
              "487                            Health Care Supplies   \n",
              "342                             Rail Transportation   \n",
              "287                    Diversified Support Services   \n",
              "164                              Electric Utilities   \n",
              "\n",
              "           Headquarters Location  Date added      CIK  \\\n",
              "307        Hunt Valley, Maryland  2003-03-20    63754   \n",
              "343            Chicago, Illinois  1998-01-30    73124   \n",
              "47                 Dallas, Texas  1983-11-30   732717   \n",
              "68       New York City, New York  2023-09-18  1393818   \n",
              "360        Lake Forest, Illinois  2017-07-26    75677   \n",
              "488         San Jose, California  2009-07-01   106040   \n",
              "313      New York City, New York  2000-12-11  1099219   \n",
              "31        Minneapolis, Minnesota  2005-10-03   820027   \n",
              "251         Acton, Massachusetts  2023-03-15  1145197   \n",
              "92             Chicago, Illinois  2017-03-01  1374310   \n",
              "302      New York City, New York  1987-08-31    62709   \n",
              "170          Fremont, California  2021-01-07  1463101   \n",
              "121                Dallas, Texas  1995-12-01    28412   \n",
              "67       New York City, New York  2011-04-04  1364742   \n",
              "308            Chicago, Illinois  1970-06-30    63908   \n",
              "191             Bozeman, Montana  2023-03-20   814547   \n",
              "374                Irving, Texas  2008-09-24  1038357   \n",
              "292           Bethesda, Maryland  1957-03-04   936468   \n",
              "144    Charlotte, North Carolina  2008-11-14   818479   \n",
              "148                Austin, Texas  2016-05-18  1297996   \n",
              "296       Rotterdam, Netherlands  2012-09-05  1489393   \n",
              "291            Chicago, Illinois  2016-05-23  1065696   \n",
              "314               Columbus, Ohio  2016-09-06  1037646   \n",
              "495             Paradise, Nevada  2008-11-14  1174922   \n",
              "66      Cambridge, Massachusetts  2003-11-13   875045   \n",
              "362      New York City, New York  1994-09-30   813828   \n",
              "34      Wallingford, Connecticut  2008-09-30   820313   \n",
              "345               Miami, Florida  2017-10-13  1513761   \n",
              "175             Atlanta, Georgia  1997-06-19    33185   \n",
              "203        Sunnyvale, California  2018-10-11  1262039   \n",
              "181            Hamilton, Bermuda  2017-06-19  1095073   \n",
              "309                Irving, Texas  1999-01-13   927653   \n",
              "235    Charlotte, North Carolina  1957-03-04   773840   \n",
              "445    Framingham, Massachusetts  1985-09-30   109198   \n",
              "330            Chicago, Illinois  1957-03-04    68505   \n",
              "341               Westlake, Ohio  2022-02-15    72331   \n",
              "4                Dublin, Ireland  2011-07-06  1467373   \n",
              "481      New York City, New York  2022-04-11  1437107   \n",
              "364           Penfield, New York  1998-10-01   723531   \n",
              "348      Santa Clara, California  2001-11-30  1045810   \n",
              "453         Springdale, Arkansas  2005-08-10   100493   \n",
              "357                Austin, Texas  1989-08-31  1341439   \n",
              "215        Boston, Massachusetts  1957-03-04    40545   \n",
              "333         San Jose, California  1999-06-25  1002047   \n",
              "332      New York City, New York  2008-10-22  1120193   \n",
              "417           Irvine, California  2015-03-12     4127   \n",
              "482               Houston, Texas  1998-08-31   823768   \n",
              "409    San Francisco, California  2008-09-15  1108524   \n",
              "104        San Ramon, California  1957-03-04    93410   \n",
              "166     Redwood City, California  2002-07-22   712515   \n",
              "216     Golden Valley, Minnesota  1957-03-04    40704   \n",
              "5           San Jose, California  1997-05-05   796343   \n",
              "422     New Britain, Connecticut  1982-09-30    93556   \n",
              "452                 Plano, Texas  2020-06-22   860731   \n",
              "63          Richfield, Minnesota  1999-06-29   764478   \n",
              "494        Lake Forest, Illinois  1981-06-30   277135   \n",
              "375     Pittsburgh, Pennsylvania  1988-04-30   713676   \n",
              "17            Madison, Wisconsin  2016-07-01   352541   \n",
              "353  Thomasville, North Carolina  2019-12-09   878927   \n",
              "405            Sarasota, Florida  2009-12-23   882835   \n",
              "87            Richmond, Virginia  2010-06-28  1170010   \n",
              "259             Atlanta, Georgia  2008-08-21   914208   \n",
              "444       Waltham, Massachusetts  2004-08-03    97745   \n",
              "388   Greensboro, North Carolina  2015-06-11  1604778   \n",
              "312       Menlo Park, California  2013-12-23  1326801   \n",
              "487          Exton, Pennsylvania  2020-05-22   105770   \n",
              "342             Atlanta, Georgia  1957-03-04   702165   \n",
              "287             Reston, Virginia  2019-08-09  1336920   \n",
              "164         Rosemead, California  1957-03-04   827052   \n",
              "\n",
              "                            Founded  \n",
              "307                            1889  \n",
              "343                            1889  \n",
              "47                      1983 (1885)  \n",
              "68                             1985  \n",
              "360                            1959  \n",
              "488                            1970  \n",
              "313                            1868  \n",
              "31                             1894  \n",
              "251                            2000  \n",
              "92                             1973  \n",
              "302                            1905  \n",
              "170                            2006  \n",
              "121                            1849  \n",
              "67                             1988  \n",
              "308                            1940  \n",
              "191                            1956  \n",
              "374                            1997  \n",
              "292                            1995  \n",
              "144                     2016 (1969)  \n",
              "148                            2004  \n",
              "296                            2007  \n",
              "291                            1998  \n",
              "314                            1945  \n",
              "495                            2002  \n",
              "66                             1978  \n",
              "362  2019 (Paramount Pictures 1912)  \n",
              "34                             1932  \n",
              "345                     2011 (1966)  \n",
              "175                            1899  \n",
              "203                            2000  \n",
              "181                            1973  \n",
              "309                            1833  \n",
              "235                            1906  \n",
              "445                            1987  \n",
              "330                     1928 (2011)  \n",
              "341                            1935  \n",
              "4                              1989  \n",
              "481        2022 (Warner Bros. 1923)  \n",
              "364                            1971  \n",
              "348                            1993  \n",
              "453                            1935  \n",
              "357                            1977  \n",
              "215                            1892  \n",
              "333                            1992  \n",
              "332                            1971  \n",
              "417                            2002  \n",
              "482                            1968  \n",
              "409                            1999  \n",
              "104                            1879  \n",
              "166                            1982  \n",
              "216                            1856  \n",
              "5                              1982  \n",
              "422                            1843  \n",
              "452                            1966  \n",
              "63                             1966  \n",
              "494                            1927  \n",
              "375                            1845  \n",
              "17                             1917  \n",
              "353                            1934  \n",
              "405                            1981  \n",
              "87                             1993  \n",
              "259                            1935  \n",
              "444                     2006 (1902)  \n",
              "388                            2015  \n",
              "312                            2004  \n",
              "487                            1923  \n",
              "342                1881/1894 (1980)  \n",
              "287                            1969  \n",
              "164                            1886  "
            ],
            "text/html": [
              "\n",
              "  <div id=\"df-5206a3bd-c831-48dc-bfe9-5fe0967f94c0\" class=\"colab-df-container\">\n",
              "    <div>\n",
              "<style scoped>\n",
              "    .dataframe tbody tr th:only-of-type {\n",
              "        vertical-align: middle;\n",
              "    }\n",
              "\n",
              "    .dataframe tbody tr th {\n",
              "        vertical-align: top;\n",
              "    }\n",
              "\n",
              "    .dataframe thead th {\n",
              "        text-align: right;\n",
              "    }\n",
              "</style>\n",
              "<table border=\"1\" class=\"dataframe\">\n",
              "  <thead>\n",
              "    <tr style=\"text-align: right;\">\n",
              "      <th></th>\n",
              "      <th>Symbol</th>\n",
              "      <th>Security</th>\n",
              "      <th>GICS Sector</th>\n",
              "      <th>GICS Sub-Industry</th>\n",
              "      <th>Headquarters Location</th>\n",
              "      <th>Date added</th>\n",
              "      <th>CIK</th>\n",
              "      <th>Founded</th>\n",
              "    </tr>\n",
              "  </thead>\n",
              "  <tbody>\n",
              "    <tr>\n",
              "      <th>307</th>\n",
              "      <td>MKC</td>\n",
              "      <td>McCormick &amp; Company</td>\n",
              "      <td>Consumer Staples</td>\n",
              "      <td>Packaged Foods &amp; Meats</td>\n",
              "      <td>Hunt Valley, Maryland</td>\n",
              "      <td>2003-03-20</td>\n",
              "      <td>63754</td>\n",
              "      <td>1889</td>\n",
              "    </tr>\n",
              "    <tr>\n",
              "      <th>343</th>\n",
              "      <td>NTRS</td>\n",
              "      <td>Northern Trust</td>\n",
              "      <td>Financials</td>\n",
              "      <td>Asset Management &amp; Custody Banks</td>\n",
              "      <td>Chicago, Illinois</td>\n",
              "      <td>1998-01-30</td>\n",
              "      <td>73124</td>\n",
              "      <td>1889</td>\n",
              "    </tr>\n",
              "    <tr>\n",
              "      <th>47</th>\n",
              "      <td>T</td>\n",
              "      <td>AT&amp;T</td>\n",
              "      <td>Communication Services</td>\n",
              "      <td>Integrated Telecommunication Services</td>\n",
              "      <td>Dallas, Texas</td>\n",
              "      <td>1983-11-30</td>\n",
              "      <td>732717</td>\n",
              "      <td>1983 (1885)</td>\n",
              "    </tr>\n",
              "    <tr>\n",
              "      <th>68</th>\n",
              "      <td>BX</td>\n",
              "      <td>Blackstone</td>\n",
              "      <td>Financials</td>\n",
              "      <td>Asset Management &amp; Custody Banks</td>\n",
              "      <td>New York City, New York</td>\n",
              "      <td>2023-09-18</td>\n",
              "      <td>1393818</td>\n",
              "      <td>1985</td>\n",
              "    </tr>\n",
              "    <tr>\n",
              "      <th>360</th>\n",
              "      <td>PKG</td>\n",
              "      <td>Packaging Corporation of America</td>\n",
              "      <td>Materials</td>\n",
              "      <td>Paper &amp; Plastic Packaging Products &amp; Materials</td>\n",
              "      <td>Lake Forest, Illinois</td>\n",
              "      <td>2017-07-26</td>\n",
              "      <td>75677</td>\n",
              "      <td>1959</td>\n",
              "    </tr>\n",
              "    <tr>\n",
              "      <th>488</th>\n",
              "      <td>WDC</td>\n",
              "      <td>Western Digital</td>\n",
              "      <td>Information Technology</td>\n",
              "      <td>Technology Hardware, Storage &amp; Peripherals</td>\n",
              "      <td>San Jose, California</td>\n",
              "      <td>2009-07-01</td>\n",
              "      <td>106040</td>\n",
              "      <td>1970</td>\n",
              "    </tr>\n",
              "    <tr>\n",
              "      <th>313</th>\n",
              "      <td>MET</td>\n",
              "      <td>MetLife</td>\n",
              "      <td>Financials</td>\n",
              "      <td>Life &amp; Health Insurance</td>\n",
              "      <td>New York City, New York</td>\n",
              "      <td>2000-12-11</td>\n",
              "      <td>1099219</td>\n",
              "      <td>1868</td>\n",
              "    </tr>\n",
              "    <tr>\n",
              "      <th>31</th>\n",
              "      <td>AMP</td>\n",
              "      <td>Ameriprise Financial</td>\n",
              "      <td>Financials</td>\n",
              "      <td>Asset Management &amp; Custody Banks</td>\n",
              "      <td>Minneapolis, Minnesota</td>\n",
              "      <td>2005-10-03</td>\n",
              "      <td>820027</td>\n",
              "      <td>1894</td>\n",
              "    </tr>\n",
              "    <tr>\n",
              "      <th>251</th>\n",
              "      <td>PODD</td>\n",
              "      <td>Insulet</td>\n",
              "      <td>Health Care</td>\n",
              "      <td>Health Care Equipment</td>\n",
              "      <td>Acton, Massachusetts</td>\n",
              "      <td>2023-03-15</td>\n",
              "      <td>1145197</td>\n",
              "      <td>2000</td>\n",
              "    </tr>\n",
              "    <tr>\n",
              "      <th>92</th>\n",
              "      <td>CBOE</td>\n",
              "      <td>Cboe Global Markets</td>\n",
              "      <td>Financials</td>\n",
              "      <td>Financial Exchanges &amp; Data</td>\n",
              "      <td>Chicago, Illinois</td>\n",
              "      <td>2017-03-01</td>\n",
              "      <td>1374310</td>\n",
              "      <td>1973</td>\n",
              "    </tr>\n",
              "    <tr>\n",
              "      <th>302</th>\n",
              "      <td>MMC</td>\n",
              "      <td>Marsh McLennan</td>\n",
              "      <td>Financials</td>\n",
              "      <td>Insurance Brokers</td>\n",
              "      <td>New York City, New York</td>\n",
              "      <td>1987-08-31</td>\n",
              "      <td>62709</td>\n",
              "      <td>1905</td>\n",
              "    </tr>\n",
              "    <tr>\n",
              "      <th>170</th>\n",
              "      <td>ENPH</td>\n",
              "      <td>Enphase</td>\n",
              "      <td>Information Technology</td>\n",
              "      <td>Semiconductor Materials &amp; Equipment</td>\n",
              "      <td>Fremont, California</td>\n",
              "      <td>2021-01-07</td>\n",
              "      <td>1463101</td>\n",
              "      <td>2006</td>\n",
              "    </tr>\n",
              "    <tr>\n",
              "      <th>121</th>\n",
              "      <td>CMA</td>\n",
              "      <td>Comerica</td>\n",
              "      <td>Financials</td>\n",
              "      <td>Diversified Banks</td>\n",
              "      <td>Dallas, Texas</td>\n",
              "      <td>1995-12-01</td>\n",
              "      <td>28412</td>\n",
              "      <td>1849</td>\n",
              "    </tr>\n",
              "    <tr>\n",
              "      <th>67</th>\n",
              "      <td>BLK</td>\n",
              "      <td>BlackRock</td>\n",
              "      <td>Financials</td>\n",
              "      <td>Asset Management &amp; Custody Banks</td>\n",
              "      <td>New York City, New York</td>\n",
              "      <td>2011-04-04</td>\n",
              "      <td>1364742</td>\n",
              "      <td>1988</td>\n",
              "    </tr>\n",
              "    <tr>\n",
              "      <th>308</th>\n",
              "      <td>MCD</td>\n",
              "      <td>McDonald's</td>\n",
              "      <td>Consumer Discretionary</td>\n",
              "      <td>Restaurants</td>\n",
              "      <td>Chicago, Illinois</td>\n",
              "      <td>1970-06-30</td>\n",
              "      <td>63908</td>\n",
              "      <td>1940</td>\n",
              "    </tr>\n",
              "    <tr>\n",
              "      <th>191</th>\n",
              "      <td>FICO</td>\n",
              "      <td>Fair Isaac</td>\n",
              "      <td>Information Technology</td>\n",
              "      <td>Application Software</td>\n",
              "      <td>Bozeman, Montana</td>\n",
              "      <td>2023-03-20</td>\n",
              "      <td>814547</td>\n",
              "      <td>1956</td>\n",
              "    </tr>\n",
              "    <tr>\n",
              "      <th>374</th>\n",
              "      <td>PXD</td>\n",
              "      <td>Pioneer Natural Resources</td>\n",
              "      <td>Energy</td>\n",
              "      <td>Oil &amp; Gas Exploration &amp; Production</td>\n",
              "      <td>Irving, Texas</td>\n",
              "      <td>2008-09-24</td>\n",
              "      <td>1038357</td>\n",
              "      <td>1997</td>\n",
              "    </tr>\n",
              "    <tr>\n",
              "      <th>292</th>\n",
              "      <td>LMT</td>\n",
              "      <td>Lockheed Martin</td>\n",
              "      <td>Industrials</td>\n",
              "      <td>Aerospace &amp; Defense</td>\n",
              "      <td>Bethesda, Maryland</td>\n",
              "      <td>1957-03-04</td>\n",
              "      <td>936468</td>\n",
              "      <td>1995</td>\n",
              "    </tr>\n",
              "    <tr>\n",
              "      <th>144</th>\n",
              "      <td>XRAY</td>\n",
              "      <td>Dentsply Sirona</td>\n",
              "      <td>Health Care</td>\n",
              "      <td>Health Care Supplies</td>\n",
              "      <td>Charlotte, North Carolina</td>\n",
              "      <td>2008-11-14</td>\n",
              "      <td>818479</td>\n",
              "      <td>2016 (1969)</td>\n",
              "    </tr>\n",
              "    <tr>\n",
              "      <th>148</th>\n",
              "      <td>DLR</td>\n",
              "      <td>Digital Realty</td>\n",
              "      <td>Real Estate</td>\n",
              "      <td>Data Center REITs</td>\n",
              "      <td>Austin, Texas</td>\n",
              "      <td>2016-05-18</td>\n",
              "      <td>1297996</td>\n",
              "      <td>2004</td>\n",
              "    </tr>\n",
              "    <tr>\n",
              "      <th>296</th>\n",
              "      <td>LYB</td>\n",
              "      <td>LyondellBasell</td>\n",
              "      <td>Materials</td>\n",
              "      <td>Specialty Chemicals</td>\n",
              "      <td>Rotterdam, Netherlands</td>\n",
              "      <td>2012-09-05</td>\n",
              "      <td>1489393</td>\n",
              "      <td>2007</td>\n",
              "    </tr>\n",
              "    <tr>\n",
              "      <th>291</th>\n",
              "      <td>LKQ</td>\n",
              "      <td>LKQ Corporation</td>\n",
              "      <td>Consumer Discretionary</td>\n",
              "      <td>Distributors</td>\n",
              "      <td>Chicago, Illinois</td>\n",
              "      <td>2016-05-23</td>\n",
              "      <td>1065696</td>\n",
              "      <td>1998</td>\n",
              "    </tr>\n",
              "    <tr>\n",
              "      <th>314</th>\n",
              "      <td>MTD</td>\n",
              "      <td>Mettler Toledo</td>\n",
              "      <td>Health Care</td>\n",
              "      <td>Life Sciences Tools &amp; Services</td>\n",
              "      <td>Columbus, Ohio</td>\n",
              "      <td>2016-09-06</td>\n",
              "      <td>1037646</td>\n",
              "      <td>1945</td>\n",
              "    </tr>\n",
              "    <tr>\n",
              "      <th>495</th>\n",
              "      <td>WYNN</td>\n",
              "      <td>Wynn Resorts</td>\n",
              "      <td>Consumer Discretionary</td>\n",
              "      <td>Casinos &amp; Gaming</td>\n",
              "      <td>Paradise, Nevada</td>\n",
              "      <td>2008-11-14</td>\n",
              "      <td>1174922</td>\n",
              "      <td>2002</td>\n",
              "    </tr>\n",
              "    <tr>\n",
              "      <th>66</th>\n",
              "      <td>BIIB</td>\n",
              "      <td>Biogen</td>\n",
              "      <td>Health Care</td>\n",
              "      <td>Biotechnology</td>\n",
              "      <td>Cambridge, Massachusetts</td>\n",
              "      <td>2003-11-13</td>\n",
              "      <td>875045</td>\n",
              "      <td>1978</td>\n",
              "    </tr>\n",
              "    <tr>\n",
              "      <th>362</th>\n",
              "      <td>PARA</td>\n",
              "      <td>Paramount Global</td>\n",
              "      <td>Communication Services</td>\n",
              "      <td>Movies &amp; Entertainment</td>\n",
              "      <td>New York City, New York</td>\n",
              "      <td>1994-09-30</td>\n",
              "      <td>813828</td>\n",
              "      <td>2019 (Paramount Pictures 1912)</td>\n",
              "    </tr>\n",
              "    <tr>\n",
              "      <th>34</th>\n",
              "      <td>APH</td>\n",
              "      <td>Amphenol</td>\n",
              "      <td>Information Technology</td>\n",
              "      <td>Electronic Components</td>\n",
              "      <td>Wallingford, Connecticut</td>\n",
              "      <td>2008-09-30</td>\n",
              "      <td>820313</td>\n",
              "      <td>1932</td>\n",
              "    </tr>\n",
              "    <tr>\n",
              "      <th>345</th>\n",
              "      <td>NCLH</td>\n",
              "      <td>Norwegian Cruise Line Holdings</td>\n",
              "      <td>Consumer Discretionary</td>\n",
              "      <td>Hotels, Resorts &amp; Cruise Lines</td>\n",
              "      <td>Miami, Florida</td>\n",
              "      <td>2017-10-13</td>\n",
              "      <td>1513761</td>\n",
              "      <td>2011 (1966)</td>\n",
              "    </tr>\n",
              "    <tr>\n",
              "      <th>175</th>\n",
              "      <td>EFX</td>\n",
              "      <td>Equifax</td>\n",
              "      <td>Industrials</td>\n",
              "      <td>Research &amp; Consulting Services</td>\n",
              "      <td>Atlanta, Georgia</td>\n",
              "      <td>1997-06-19</td>\n",
              "      <td>33185</td>\n",
              "      <td>1899</td>\n",
              "    </tr>\n",
              "    <tr>\n",
              "      <th>203</th>\n",
              "      <td>FTNT</td>\n",
              "      <td>Fortinet</td>\n",
              "      <td>Information Technology</td>\n",
              "      <td>Systems Software</td>\n",
              "      <td>Sunnyvale, California</td>\n",
              "      <td>2018-10-11</td>\n",
              "      <td>1262039</td>\n",
              "      <td>2000</td>\n",
              "    </tr>\n",
              "    <tr>\n",
              "      <th>181</th>\n",
              "      <td>EG</td>\n",
              "      <td>Everest Re</td>\n",
              "      <td>Financials</td>\n",
              "      <td>Reinsurance</td>\n",
              "      <td>Hamilton, Bermuda</td>\n",
              "      <td>2017-06-19</td>\n",
              "      <td>1095073</td>\n",
              "      <td>1973</td>\n",
              "    </tr>\n",
              "    <tr>\n",
              "      <th>309</th>\n",
              "      <td>MCK</td>\n",
              "      <td>McKesson</td>\n",
              "      <td>Health Care</td>\n",
              "      <td>Health Care Distributors</td>\n",
              "      <td>Irving, Texas</td>\n",
              "      <td>1999-01-13</td>\n",
              "      <td>927653</td>\n",
              "      <td>1833</td>\n",
              "    </tr>\n",
              "    <tr>\n",
              "      <th>235</th>\n",
              "      <td>HON</td>\n",
              "      <td>Honeywell</td>\n",
              "      <td>Industrials</td>\n",
              "      <td>Industrial Conglomerates</td>\n",
              "      <td>Charlotte, North Carolina</td>\n",
              "      <td>1957-03-04</td>\n",
              "      <td>773840</td>\n",
              "      <td>1906</td>\n",
              "    </tr>\n",
              "    <tr>\n",
              "      <th>445</th>\n",
              "      <td>TJX</td>\n",
              "      <td>TJX Companies</td>\n",
              "      <td>Consumer Discretionary</td>\n",
              "      <td>Apparel Retail</td>\n",
              "      <td>Framingham, Massachusetts</td>\n",
              "      <td>1985-09-30</td>\n",
              "      <td>109198</td>\n",
              "      <td>1987</td>\n",
              "    </tr>\n",
              "    <tr>\n",
              "      <th>330</th>\n",
              "      <td>MSI</td>\n",
              "      <td>Motorola Solutions</td>\n",
              "      <td>Information Technology</td>\n",
              "      <td>Communications Equipment</td>\n",
              "      <td>Chicago, Illinois</td>\n",
              "      <td>1957-03-04</td>\n",
              "      <td>68505</td>\n",
              "      <td>1928 (2011)</td>\n",
              "    </tr>\n",
              "    <tr>\n",
              "      <th>341</th>\n",
              "      <td>NDSN</td>\n",
              "      <td>Nordson Corporation</td>\n",
              "      <td>Industrials</td>\n",
              "      <td>Industrial Machinery &amp; Supplies &amp; Components</td>\n",
              "      <td>Westlake, Ohio</td>\n",
              "      <td>2022-02-15</td>\n",
              "      <td>72331</td>\n",
              "      <td>1935</td>\n",
              "    </tr>\n",
              "    <tr>\n",
              "      <th>4</th>\n",
              "      <td>ACN</td>\n",
              "      <td>Accenture</td>\n",
              "      <td>Information Technology</td>\n",
              "      <td>IT Consulting &amp; Other Services</td>\n",
              "      <td>Dublin, Ireland</td>\n",
              "      <td>2011-07-06</td>\n",
              "      <td>1467373</td>\n",
              "      <td>1989</td>\n",
              "    </tr>\n",
              "    <tr>\n",
              "      <th>481</th>\n",
              "      <td>WBD</td>\n",
              "      <td>Warner Bros. Discovery</td>\n",
              "      <td>Communication Services</td>\n",
              "      <td>Broadcasting</td>\n",
              "      <td>New York City, New York</td>\n",
              "      <td>2022-04-11</td>\n",
              "      <td>1437107</td>\n",
              "      <td>2022 (Warner Bros. 1923)</td>\n",
              "    </tr>\n",
              "    <tr>\n",
              "      <th>364</th>\n",
              "      <td>PAYX</td>\n",
              "      <td>Paychex</td>\n",
              "      <td>Industrials</td>\n",
              "      <td>Human Resource &amp; Employment Services</td>\n",
              "      <td>Penfield, New York</td>\n",
              "      <td>1998-10-01</td>\n",
              "      <td>723531</td>\n",
              "      <td>1971</td>\n",
              "    </tr>\n",
              "    <tr>\n",
              "      <th>348</th>\n",
              "      <td>NVDA</td>\n",
              "      <td>Nvidia</td>\n",
              "      <td>Information Technology</td>\n",
              "      <td>Semiconductors</td>\n",
              "      <td>Santa Clara, California</td>\n",
              "      <td>2001-11-30</td>\n",
              "      <td>1045810</td>\n",
              "      <td>1993</td>\n",
              "    </tr>\n",
              "    <tr>\n",
              "      <th>453</th>\n",
              "      <td>TSN</td>\n",
              "      <td>Tyson Foods</td>\n",
              "      <td>Consumer Staples</td>\n",
              "      <td>Packaged Foods &amp; Meats</td>\n",
              "      <td>Springdale, Arkansas</td>\n",
              "      <td>2005-08-10</td>\n",
              "      <td>100493</td>\n",
              "      <td>1935</td>\n",
              "    </tr>\n",
              "    <tr>\n",
              "      <th>357</th>\n",
              "      <td>ORCL</td>\n",
              "      <td>Oracle Corporation</td>\n",
              "      <td>Information Technology</td>\n",
              "      <td>Application Software</td>\n",
              "      <td>Austin, Texas</td>\n",
              "      <td>1989-08-31</td>\n",
              "      <td>1341439</td>\n",
              "      <td>1977</td>\n",
              "    </tr>\n",
              "    <tr>\n",
              "      <th>215</th>\n",
              "      <td>GE</td>\n",
              "      <td>General Electric</td>\n",
              "      <td>Industrials</td>\n",
              "      <td>Industrial Conglomerates</td>\n",
              "      <td>Boston, Massachusetts</td>\n",
              "      <td>1957-03-04</td>\n",
              "      <td>40545</td>\n",
              "      <td>1892</td>\n",
              "    </tr>\n",
              "    <tr>\n",
              "      <th>333</th>\n",
              "      <td>NTAP</td>\n",
              "      <td>NetApp</td>\n",
              "      <td>Information Technology</td>\n",
              "      <td>Technology Hardware, Storage &amp; Peripherals</td>\n",
              "      <td>San Jose, California</td>\n",
              "      <td>1999-06-25</td>\n",
              "      <td>1002047</td>\n",
              "      <td>1992</td>\n",
              "    </tr>\n",
              "    <tr>\n",
              "      <th>332</th>\n",
              "      <td>NDAQ</td>\n",
              "      <td>Nasdaq, Inc.</td>\n",
              "      <td>Financials</td>\n",
              "      <td>Financial Exchanges &amp; Data</td>\n",
              "      <td>New York City, New York</td>\n",
              "      <td>2008-10-22</td>\n",
              "      <td>1120193</td>\n",
              "      <td>1971</td>\n",
              "    </tr>\n",
              "    <tr>\n",
              "      <th>417</th>\n",
              "      <td>SWKS</td>\n",
              "      <td>Skyworks Solutions</td>\n",
              "      <td>Information Technology</td>\n",
              "      <td>Semiconductors</td>\n",
              "      <td>Irvine, California</td>\n",
              "      <td>2015-03-12</td>\n",
              "      <td>4127</td>\n",
              "      <td>2002</td>\n",
              "    </tr>\n",
              "    <tr>\n",
              "      <th>482</th>\n",
              "      <td>WM</td>\n",
              "      <td>Waste Management</td>\n",
              "      <td>Industrials</td>\n",
              "      <td>Environmental &amp; Facilities Services</td>\n",
              "      <td>Houston, Texas</td>\n",
              "      <td>1998-08-31</td>\n",
              "      <td>823768</td>\n",
              "      <td>1968</td>\n",
              "    </tr>\n",
              "    <tr>\n",
              "      <th>409</th>\n",
              "      <td>CRM</td>\n",
              "      <td>Salesforce</td>\n",
              "      <td>Information Technology</td>\n",
              "      <td>Application Software</td>\n",
              "      <td>San Francisco, California</td>\n",
              "      <td>2008-09-15</td>\n",
              "      <td>1108524</td>\n",
              "      <td>1999</td>\n",
              "    </tr>\n",
              "    <tr>\n",
              "      <th>104</th>\n",
              "      <td>CVX</td>\n",
              "      <td>Chevron Corporation</td>\n",
              "      <td>Energy</td>\n",
              "      <td>Integrated Oil &amp; Gas</td>\n",
              "      <td>San Ramon, California</td>\n",
              "      <td>1957-03-04</td>\n",
              "      <td>93410</td>\n",
              "      <td>1879</td>\n",
              "    </tr>\n",
              "    <tr>\n",
              "      <th>166</th>\n",
              "      <td>EA</td>\n",
              "      <td>Electronic Arts</td>\n",
              "      <td>Communication Services</td>\n",
              "      <td>Interactive Home Entertainment</td>\n",
              "      <td>Redwood City, California</td>\n",
              "      <td>2002-07-22</td>\n",
              "      <td>712515</td>\n",
              "      <td>1982</td>\n",
              "    </tr>\n",
              "    <tr>\n",
              "      <th>216</th>\n",
              "      <td>GIS</td>\n",
              "      <td>General Mills</td>\n",
              "      <td>Consumer Staples</td>\n",
              "      <td>Packaged Foods &amp; Meats</td>\n",
              "      <td>Golden Valley, Minnesota</td>\n",
              "      <td>1957-03-04</td>\n",
              "      <td>40704</td>\n",
              "      <td>1856</td>\n",
              "    </tr>\n",
              "    <tr>\n",
              "      <th>5</th>\n",
              "      <td>ADBE</td>\n",
              "      <td>Adobe Inc.</td>\n",
              "      <td>Information Technology</td>\n",
              "      <td>Application Software</td>\n",
              "      <td>San Jose, California</td>\n",
              "      <td>1997-05-05</td>\n",
              "      <td>796343</td>\n",
              "      <td>1982</td>\n",
              "    </tr>\n",
              "    <tr>\n",
              "      <th>422</th>\n",
              "      <td>SWK</td>\n",
              "      <td>Stanley Black &amp; Decker</td>\n",
              "      <td>Industrials</td>\n",
              "      <td>Industrial Machinery &amp; Supplies &amp; Components</td>\n",
              "      <td>New Britain, Connecticut</td>\n",
              "      <td>1982-09-30</td>\n",
              "      <td>93556</td>\n",
              "      <td>1843</td>\n",
              "    </tr>\n",
              "    <tr>\n",
              "      <th>452</th>\n",
              "      <td>TYL</td>\n",
              "      <td>Tyler Technologies</td>\n",
              "      <td>Information Technology</td>\n",
              "      <td>Application Software</td>\n",
              "      <td>Plano, Texas</td>\n",
              "      <td>2020-06-22</td>\n",
              "      <td>860731</td>\n",
              "      <td>1966</td>\n",
              "    </tr>\n",
              "    <tr>\n",
              "      <th>63</th>\n",
              "      <td>BBY</td>\n",
              "      <td>Best Buy</td>\n",
              "      <td>Consumer Discretionary</td>\n",
              "      <td>Computer &amp; Electronics Retail</td>\n",
              "      <td>Richfield, Minnesota</td>\n",
              "      <td>1999-06-29</td>\n",
              "      <td>764478</td>\n",
              "      <td>1966</td>\n",
              "    </tr>\n",
              "    <tr>\n",
              "      <th>494</th>\n",
              "      <td>GWW</td>\n",
              "      <td>W. W. Grainger</td>\n",
              "      <td>Industrials</td>\n",
              "      <td>Industrial Machinery &amp; Supplies &amp; Components</td>\n",
              "      <td>Lake Forest, Illinois</td>\n",
              "      <td>1981-06-30</td>\n",
              "      <td>277135</td>\n",
              "      <td>1927</td>\n",
              "    </tr>\n",
              "    <tr>\n",
              "      <th>375</th>\n",
              "      <td>PNC</td>\n",
              "      <td>PNC Financial Services</td>\n",
              "      <td>Financials</td>\n",
              "      <td>Regional Banks</td>\n",
              "      <td>Pittsburgh, Pennsylvania</td>\n",
              "      <td>1988-04-30</td>\n",
              "      <td>713676</td>\n",
              "      <td>1845</td>\n",
              "    </tr>\n",
              "    <tr>\n",
              "      <th>17</th>\n",
              "      <td>LNT</td>\n",
              "      <td>Alliant Energy</td>\n",
              "      <td>Utilities</td>\n",
              "      <td>Electric Utilities</td>\n",
              "      <td>Madison, Wisconsin</td>\n",
              "      <td>2016-07-01</td>\n",
              "      <td>352541</td>\n",
              "      <td>1917</td>\n",
              "    </tr>\n",
              "    <tr>\n",
              "      <th>353</th>\n",
              "      <td>ODFL</td>\n",
              "      <td>Old Dominion</td>\n",
              "      <td>Industrials</td>\n",
              "      <td>Cargo Ground Transportation</td>\n",
              "      <td>Thomasville, North Carolina</td>\n",
              "      <td>2019-12-09</td>\n",
              "      <td>878927</td>\n",
              "      <td>1934</td>\n",
              "    </tr>\n",
              "    <tr>\n",
              "      <th>405</th>\n",
              "      <td>ROP</td>\n",
              "      <td>Roper Technologies</td>\n",
              "      <td>Information Technology</td>\n",
              "      <td>Electronic Equipment &amp; Instruments</td>\n",
              "      <td>Sarasota, Florida</td>\n",
              "      <td>2009-12-23</td>\n",
              "      <td>882835</td>\n",
              "      <td>1981</td>\n",
              "    </tr>\n",
              "    <tr>\n",
              "      <th>87</th>\n",
              "      <td>KMX</td>\n",
              "      <td>CarMax</td>\n",
              "      <td>Consumer Discretionary</td>\n",
              "      <td>Automotive Retail</td>\n",
              "      <td>Richmond, Virginia</td>\n",
              "      <td>2010-06-28</td>\n",
              "      <td>1170010</td>\n",
              "      <td>1993</td>\n",
              "    </tr>\n",
              "    <tr>\n",
              "      <th>259</th>\n",
              "      <td>IVZ</td>\n",
              "      <td>Invesco</td>\n",
              "      <td>Financials</td>\n",
              "      <td>Asset Management &amp; Custody Banks</td>\n",
              "      <td>Atlanta, Georgia</td>\n",
              "      <td>2008-08-21</td>\n",
              "      <td>914208</td>\n",
              "      <td>1935</td>\n",
              "    </tr>\n",
              "    <tr>\n",
              "      <th>444</th>\n",
              "      <td>TMO</td>\n",
              "      <td>Thermo Fisher Scientific</td>\n",
              "      <td>Health Care</td>\n",
              "      <td>Life Sciences Tools &amp; Services</td>\n",
              "      <td>Waltham, Massachusetts</td>\n",
              "      <td>2004-08-03</td>\n",
              "      <td>97745</td>\n",
              "      <td>2006 (1902)</td>\n",
              "    </tr>\n",
              "    <tr>\n",
              "      <th>388</th>\n",
              "      <td>QRVO</td>\n",
              "      <td>Qorvo</td>\n",
              "      <td>Information Technology</td>\n",
              "      <td>Semiconductors</td>\n",
              "      <td>Greensboro, North Carolina</td>\n",
              "      <td>2015-06-11</td>\n",
              "      <td>1604778</td>\n",
              "      <td>2015</td>\n",
              "    </tr>\n",
              "    <tr>\n",
              "      <th>312</th>\n",
              "      <td>META</td>\n",
              "      <td>Meta Platforms</td>\n",
              "      <td>Communication Services</td>\n",
              "      <td>Interactive Media &amp; Services</td>\n",
              "      <td>Menlo Park, California</td>\n",
              "      <td>2013-12-23</td>\n",
              "      <td>1326801</td>\n",
              "      <td>2004</td>\n",
              "    </tr>\n",
              "    <tr>\n",
              "      <th>487</th>\n",
              "      <td>WST</td>\n",
              "      <td>West Pharmaceutical Services</td>\n",
              "      <td>Health Care</td>\n",
              "      <td>Health Care Supplies</td>\n",
              "      <td>Exton, Pennsylvania</td>\n",
              "      <td>2020-05-22</td>\n",
              "      <td>105770</td>\n",
              "      <td>1923</td>\n",
              "    </tr>\n",
              "    <tr>\n",
              "      <th>342</th>\n",
              "      <td>NSC</td>\n",
              "      <td>Norfolk Southern Railway</td>\n",
              "      <td>Industrials</td>\n",
              "      <td>Rail Transportation</td>\n",
              "      <td>Atlanta, Georgia</td>\n",
              "      <td>1957-03-04</td>\n",
              "      <td>702165</td>\n",
              "      <td>1881/1894 (1980)</td>\n",
              "    </tr>\n",
              "    <tr>\n",
              "      <th>287</th>\n",
              "      <td>LDOS</td>\n",
              "      <td>Leidos</td>\n",
              "      <td>Industrials</td>\n",
              "      <td>Diversified Support Services</td>\n",
              "      <td>Reston, Virginia</td>\n",
              "      <td>2019-08-09</td>\n",
              "      <td>1336920</td>\n",
              "      <td>1969</td>\n",
              "    </tr>\n",
              "    <tr>\n",
              "      <th>164</th>\n",
              "      <td>EIX</td>\n",
              "      <td>Edison International</td>\n",
              "      <td>Utilities</td>\n",
              "      <td>Electric Utilities</td>\n",
              "      <td>Rosemead, California</td>\n",
              "      <td>1957-03-04</td>\n",
              "      <td>827052</td>\n",
              "      <td>1886</td>\n",
              "    </tr>\n",
              "  </tbody>\n",
              "</table>\n",
              "</div>\n",
              "    <div class=\"colab-df-buttons\">\n",
              "\n",
              "  <div class=\"colab-df-container\">\n",
              "    <button class=\"colab-df-convert\" onclick=\"convertToInteractive('df-5206a3bd-c831-48dc-bfe9-5fe0967f94c0')\"\n",
              "            title=\"Convert this dataframe to an interactive table.\"\n",
              "            style=\"display:none;\">\n",
              "\n",
              "  <svg xmlns=\"http://www.w3.org/2000/svg\" height=\"24px\" viewBox=\"0 -960 960 960\">\n",
              "    <path d=\"M120-120v-720h720v720H120Zm60-500h600v-160H180v160Zm220 220h160v-160H400v160Zm0 220h160v-160H400v160ZM180-400h160v-160H180v160Zm440 0h160v-160H620v160ZM180-180h160v-160H180v160Zm440 0h160v-160H620v160Z\"/>\n",
              "  </svg>\n",
              "    </button>\n",
              "\n",
              "  <style>\n",
              "    .colab-df-container {\n",
              "      display:flex;\n",
              "      gap: 12px;\n",
              "    }\n",
              "\n",
              "    .colab-df-convert {\n",
              "      background-color: #E8F0FE;\n",
              "      border: none;\n",
              "      border-radius: 50%;\n",
              "      cursor: pointer;\n",
              "      display: none;\n",
              "      fill: #1967D2;\n",
              "      height: 32px;\n",
              "      padding: 0 0 0 0;\n",
              "      width: 32px;\n",
              "    }\n",
              "\n",
              "    .colab-df-convert:hover {\n",
              "      background-color: #E2EBFA;\n",
              "      box-shadow: 0px 1px 2px rgba(60, 64, 67, 0.3), 0px 1px 3px 1px rgba(60, 64, 67, 0.15);\n",
              "      fill: #174EA6;\n",
              "    }\n",
              "\n",
              "    .colab-df-buttons div {\n",
              "      margin-bottom: 4px;\n",
              "    }\n",
              "\n",
              "    [theme=dark] .colab-df-convert {\n",
              "      background-color: #3B4455;\n",
              "      fill: #D2E3FC;\n",
              "    }\n",
              "\n",
              "    [theme=dark] .colab-df-convert:hover {\n",
              "      background-color: #434B5C;\n",
              "      box-shadow: 0px 1px 3px 1px rgba(0, 0, 0, 0.15);\n",
              "      filter: drop-shadow(0px 1px 2px rgba(0, 0, 0, 0.3));\n",
              "      fill: #FFFFFF;\n",
              "    }\n",
              "  </style>\n",
              "\n",
              "    <script>\n",
              "      const buttonEl =\n",
              "        document.querySelector('#df-5206a3bd-c831-48dc-bfe9-5fe0967f94c0 button.colab-df-convert');\n",
              "      buttonEl.style.display =\n",
              "        google.colab.kernel.accessAllowed ? 'block' : 'none';\n",
              "\n",
              "      async function convertToInteractive(key) {\n",
              "        const element = document.querySelector('#df-5206a3bd-c831-48dc-bfe9-5fe0967f94c0');\n",
              "        const dataTable =\n",
              "          await google.colab.kernel.invokeFunction('convertToInteractive',\n",
              "                                                    [key], {});\n",
              "        if (!dataTable) return;\n",
              "\n",
              "        const docLinkHtml = 'Like what you see? Visit the ' +\n",
              "          '<a target=\"_blank\" href=https://colab.research.google.com/notebooks/data_table.ipynb>data table notebook</a>'\n",
              "          + ' to learn more about interactive tables.';\n",
              "        element.innerHTML = '';\n",
              "        dataTable['output_type'] = 'display_data';\n",
              "        await google.colab.output.renderOutput(dataTable, element);\n",
              "        const docLink = document.createElement('div');\n",
              "        docLink.innerHTML = docLinkHtml;\n",
              "        element.appendChild(docLink);\n",
              "      }\n",
              "    </script>\n",
              "  </div>\n",
              "\n",
              "\n",
              "<div id=\"df-a0dde153-13a9-4090-8581-b9d0af0012d3\">\n",
              "  <button class=\"colab-df-quickchart\" onclick=\"quickchart('df-a0dde153-13a9-4090-8581-b9d0af0012d3')\"\n",
              "            title=\"Suggest charts\"\n",
              "            style=\"display:none;\">\n",
              "\n",
              "<svg xmlns=\"http://www.w3.org/2000/svg\" height=\"24px\"viewBox=\"0 0 24 24\"\n",
              "     width=\"24px\">\n",
              "    <g>\n",
              "        <path d=\"M19 3H5c-1.1 0-2 .9-2 2v14c0 1.1.9 2 2 2h14c1.1 0 2-.9 2-2V5c0-1.1-.9-2-2-2zM9 17H7v-7h2v7zm4 0h-2V7h2v10zm4 0h-2v-4h2v4z\"/>\n",
              "    </g>\n",
              "</svg>\n",
              "  </button>\n",
              "\n",
              "<style>\n",
              "  .colab-df-quickchart {\n",
              "      --bg-color: #E8F0FE;\n",
              "      --fill-color: #1967D2;\n",
              "      --hover-bg-color: #E2EBFA;\n",
              "      --hover-fill-color: #174EA6;\n",
              "      --disabled-fill-color: #AAA;\n",
              "      --disabled-bg-color: #DDD;\n",
              "  }\n",
              "\n",
              "  [theme=dark] .colab-df-quickchart {\n",
              "      --bg-color: #3B4455;\n",
              "      --fill-color: #D2E3FC;\n",
              "      --hover-bg-color: #434B5C;\n",
              "      --hover-fill-color: #FFFFFF;\n",
              "      --disabled-bg-color: #3B4455;\n",
              "      --disabled-fill-color: #666;\n",
              "  }\n",
              "\n",
              "  .colab-df-quickchart {\n",
              "    background-color: var(--bg-color);\n",
              "    border: none;\n",
              "    border-radius: 50%;\n",
              "    cursor: pointer;\n",
              "    display: none;\n",
              "    fill: var(--fill-color);\n",
              "    height: 32px;\n",
              "    padding: 0;\n",
              "    width: 32px;\n",
              "  }\n",
              "\n",
              "  .colab-df-quickchart:hover {\n",
              "    background-color: var(--hover-bg-color);\n",
              "    box-shadow: 0 1px 2px rgba(60, 64, 67, 0.3), 0 1px 3px 1px rgba(60, 64, 67, 0.15);\n",
              "    fill: var(--button-hover-fill-color);\n",
              "  }\n",
              "\n",
              "  .colab-df-quickchart-complete:disabled,\n",
              "  .colab-df-quickchart-complete:disabled:hover {\n",
              "    background-color: var(--disabled-bg-color);\n",
              "    fill: var(--disabled-fill-color);\n",
              "    box-shadow: none;\n",
              "  }\n",
              "\n",
              "  .colab-df-spinner {\n",
              "    border: 2px solid var(--fill-color);\n",
              "    border-color: transparent;\n",
              "    border-bottom-color: var(--fill-color);\n",
              "    animation:\n",
              "      spin 1s steps(1) infinite;\n",
              "  }\n",
              "\n",
              "  @keyframes spin {\n",
              "    0% {\n",
              "      border-color: transparent;\n",
              "      border-bottom-color: var(--fill-color);\n",
              "      border-left-color: var(--fill-color);\n",
              "    }\n",
              "    20% {\n",
              "      border-color: transparent;\n",
              "      border-left-color: var(--fill-color);\n",
              "      border-top-color: var(--fill-color);\n",
              "    }\n",
              "    30% {\n",
              "      border-color: transparent;\n",
              "      border-left-color: var(--fill-color);\n",
              "      border-top-color: var(--fill-color);\n",
              "      border-right-color: var(--fill-color);\n",
              "    }\n",
              "    40% {\n",
              "      border-color: transparent;\n",
              "      border-right-color: var(--fill-color);\n",
              "      border-top-color: var(--fill-color);\n",
              "    }\n",
              "    60% {\n",
              "      border-color: transparent;\n",
              "      border-right-color: var(--fill-color);\n",
              "    }\n",
              "    80% {\n",
              "      border-color: transparent;\n",
              "      border-right-color: var(--fill-color);\n",
              "      border-bottom-color: var(--fill-color);\n",
              "    }\n",
              "    90% {\n",
              "      border-color: transparent;\n",
              "      border-bottom-color: var(--fill-color);\n",
              "    }\n",
              "  }\n",
              "</style>\n",
              "\n",
              "  <script>\n",
              "    async function quickchart(key) {\n",
              "      const quickchartButtonEl =\n",
              "        document.querySelector('#' + key + ' button');\n",
              "      quickchartButtonEl.disabled = true;  // To prevent multiple clicks.\n",
              "      quickchartButtonEl.classList.add('colab-df-spinner');\n",
              "      try {\n",
              "        const charts = await google.colab.kernel.invokeFunction(\n",
              "            'suggestCharts', [key], {});\n",
              "      } catch (error) {\n",
              "        console.error('Error during call to suggestCharts:', error);\n",
              "      }\n",
              "      quickchartButtonEl.classList.remove('colab-df-spinner');\n",
              "      quickchartButtonEl.classList.add('colab-df-quickchart-complete');\n",
              "    }\n",
              "    (() => {\n",
              "      let quickchartButtonEl =\n",
              "        document.querySelector('#df-a0dde153-13a9-4090-8581-b9d0af0012d3 button');\n",
              "      quickchartButtonEl.style.display =\n",
              "        google.colab.kernel.accessAllowed ? 'block' : 'none';\n",
              "    })();\n",
              "  </script>\n",
              "</div>\n",
              "\n",
              "  <div id=\"id_14cce533-0c4d-45db-a7eb-c6c7cea835ac\">\n",
              "    <style>\n",
              "      .colab-df-generate {\n",
              "        background-color: #E8F0FE;\n",
              "        border: none;\n",
              "        border-radius: 50%;\n",
              "        cursor: pointer;\n",
              "        display: none;\n",
              "        fill: #1967D2;\n",
              "        height: 32px;\n",
              "        padding: 0 0 0 0;\n",
              "        width: 32px;\n",
              "      }\n",
              "\n",
              "      .colab-df-generate:hover {\n",
              "        background-color: #E2EBFA;\n",
              "        box-shadow: 0px 1px 2px rgba(60, 64, 67, 0.3), 0px 1px 3px 1px rgba(60, 64, 67, 0.15);\n",
              "        fill: #174EA6;\n",
              "      }\n",
              "\n",
              "      [theme=dark] .colab-df-generate {\n",
              "        background-color: #3B4455;\n",
              "        fill: #D2E3FC;\n",
              "      }\n",
              "\n",
              "      [theme=dark] .colab-df-generate:hover {\n",
              "        background-color: #434B5C;\n",
              "        box-shadow: 0px 1px 3px 1px rgba(0, 0, 0, 0.15);\n",
              "        filter: drop-shadow(0px 1px 2px rgba(0, 0, 0, 0.3));\n",
              "        fill: #FFFFFF;\n",
              "      }\n",
              "    </style>\n",
              "    <button class=\"colab-df-generate\" onclick=\"generateWithVariable('sp500_constituents')\"\n",
              "            title=\"Generate code using this dataframe.\"\n",
              "            style=\"display:none;\">\n",
              "\n",
              "  <svg xmlns=\"http://www.w3.org/2000/svg\" height=\"24px\"viewBox=\"0 0 24 24\"\n",
              "       width=\"24px\">\n",
              "    <path d=\"M7,19H8.4L18.45,9,17,7.55,7,17.6ZM5,21V16.75L18.45,3.32a2,2,0,0,1,2.83,0l1.4,1.43a1.91,1.91,0,0,1,.58,1.4,1.91,1.91,0,0,1-.58,1.4L9.25,21ZM18.45,9,17,7.55Zm-12,3A5.31,5.31,0,0,0,4.9,8.1,5.31,5.31,0,0,0,1,6.5,5.31,5.31,0,0,0,4.9,4.9,5.31,5.31,0,0,0,6.5,1,5.31,5.31,0,0,0,8.1,4.9,5.31,5.31,0,0,0,12,6.5,5.46,5.46,0,0,0,6.5,12Z\"/>\n",
              "  </svg>\n",
              "    </button>\n",
              "    <script>\n",
              "      (() => {\n",
              "      const buttonEl =\n",
              "        document.querySelector('#id_14cce533-0c4d-45db-a7eb-c6c7cea835ac button.colab-df-generate');\n",
              "      buttonEl.style.display =\n",
              "        google.colab.kernel.accessAllowed ? 'block' : 'none';\n",
              "\n",
              "      buttonEl.onclick = () => {\n",
              "        google.colab.notebook.generateWithVariable('sp500_constituents');\n",
              "      }\n",
              "      })();\n",
              "    </script>\n",
              "  </div>\n",
              "\n",
              "    </div>\n",
              "  </div>\n"
            ],
            "application/vnd.google.colaboratory.intrinsic+json": {
              "type": "dataframe",
              "variable_name": "sp500_constituents",
              "repr_error": "0"
            }
          },
          "metadata": {},
          "execution_count": 234
        }
      ]
    },
    {
      "cell_type": "code",
      "source": [
        "DOW30"
      ],
      "metadata": {
        "colab": {
          "base_uri": "https://localhost:8080/"
        },
        "id": "T4tGD3j_29nb",
        "outputId": "7a29393d-166e-4552-b804-5c37c5390139"
      },
      "execution_count": 235,
      "outputs": [
        {
          "output_type": "execute_result",
          "data": {
            "text/plain": [
              "['AAPL',\n",
              " 'ADBE',\n",
              " 'ADI',\n",
              " 'ADP',\n",
              " 'ADSK',\n",
              " 'ALGN',\n",
              " 'AMAT',\n",
              " 'AMD',\n",
              " 'AMGN',\n",
              " 'AMZN',\n",
              " 'ASML',\n",
              " 'AVGO',\n",
              " 'BIDU',\n",
              " 'BIIB',\n",
              " 'BKNG',\n",
              " 'BMRN',\n",
              " 'CDNS',\n",
              " 'CHTR',\n",
              " 'CMCSA',\n",
              " 'COST',\n",
              " 'CPRT',\n",
              " 'CSCO',\n",
              " 'CSX',\n",
              " 'CTAS',\n",
              " 'CTSH',\n",
              " 'DLTR',\n",
              " 'DOCU',\n",
              " 'DXCM',\n",
              " 'EA',\n",
              " 'EBAY',\n",
              " 'EXC',\n",
              " 'FAST',\n",
              " 'FTNT',\n",
              " 'GILD',\n",
              " 'GOOG',\n",
              " 'GOOGL',\n",
              " 'HON',\n",
              " 'IDXX',\n",
              " 'ILMN',\n",
              " 'INTC',\n",
              " 'INTU',\n",
              " 'ISRG',\n",
              " 'JD',\n",
              " 'KDP',\n",
              " 'KHC',\n",
              " 'KLAC',\n",
              " 'LRCX',\n",
              " 'LULU',\n",
              " 'MAR',\n",
              " 'MCHP',\n",
              " 'MDLZ',\n",
              " 'MELI',\n",
              " 'MNST',\n",
              " 'MRNA',\n",
              " 'MRVL',\n",
              " 'MSFT',\n",
              " 'MTCH',\n",
              " 'MU',\n",
              " 'NFLX',\n",
              " 'NTES',\n",
              " 'NVDA',\n",
              " 'NXPI',\n",
              " 'OKTA',\n",
              " 'ORLY',\n",
              " 'PANW',\n",
              " 'PAYX',\n",
              " 'PCAR',\n",
              " 'PDD',\n",
              " 'PEP',\n",
              " 'PYPL',\n",
              " 'QCOM',\n",
              " 'REGN',\n",
              " 'ROST',\n",
              " 'SBUX',\n",
              " 'SIRI',\n",
              " 'SNPS',\n",
              " 'SPLK',\n",
              " 'SWKS',\n",
              " 'TEAM',\n",
              " 'TMUS',\n",
              " 'TSLA',\n",
              " 'TTWO',\n",
              " 'TXN',\n",
              " 'VRSK',\n",
              " 'VRSN',\n",
              " 'VRTX',\n",
              " 'WBA',\n",
              " 'WDAY',\n",
              " 'XEL',\n",
              " 'ZS']"
            ]
          },
          "metadata": {},
          "execution_count": 235
        }
      ]
    },
    {
      "cell_type": "code",
      "execution_count": 236,
      "metadata": {
        "id": "Mvd8f-g7Cmuz"
      },
      "outputs": [],
      "source": [
        "def ConvertToUSD(ticker, start, end, exchange):\n",
        "\n",
        "  try:\n",
        "      adjclose = yf.download(ticker,start,end)['Adj Close']\n",
        "      adjclose_usd = adjclose\n",
        "      close = yf.download(ticker,start,end)['Close']\n",
        "      open = yf.download(ticker,start,end)['Open']\n",
        "      usdtry = yf.download('TRY=X',start,end)['Adj Close']\n",
        "  except Exception as e:\n",
        "      print(e)\n",
        "\n",
        "  adjusted_factor = adjclose / close\n",
        "  adjopen = adjusted_factor * open\n",
        "  adjopen_usd = adjopen\n",
        "\n",
        "\n",
        "  if ( exchange != \"SP500\" and exchange != \"DOW30\" and exchange != \"CRYPTOS\" and ticker != \"GC=F\" and ticker != \"CL=F\"):\n",
        "    for i in np.arange(0,len(close)):\n",
        "        adjclose_usd[i] = adjclose[i]/usdtry[i]\n",
        "        adjopen_usd[i] = adjopen[i]/usdtry[i]\n",
        "\n",
        "  rets = adjclose_usd.pct_change()\n",
        "\n",
        "  return adjclose_usd, adjopen_usd, rets, adjclose"
      ]
    },
    {
      "cell_type": "code",
      "execution_count": 237,
      "metadata": {
        "id": "Wa8x3mz3VZuT"
      },
      "outputs": [],
      "source": [
        "def UpdateData(TickerIS, START, END, exchange):\n",
        "\n",
        "  # For data manupulations\n",
        "\n",
        "  # VF    LB    PEAK_CUM  CUM_LAST    REVERSED\n",
        "  # 0.25  45    6.11       4.29 OK    True\n",
        "  # 0.35  45    7.42       5.02 OK    True\n",
        "  # 0.40  45    7.64       5.17 OK    True\n",
        "  # 0.45  45    8.99       6.16 OK    True\n",
        "  # 0.45  45    1.22       1.05 OK    False\n",
        "  # 0.45  55    7.97       5.39 OK    True\n",
        "  # 0.45  40    9.35       6.31 OK    True\n",
        "  # 0.45  35    9.65       7.14 OK    True\n",
        "  # 0.45  33    9.78       7.24 OK    True  ***\n",
        "  # 0.45  32    10.02      7.42 OK    True  ****\n",
        "  # 0.45  30    9.16       6.78 OK    True\n",
        "  # 0.45  25    8.19       5.98 OK    True\n",
        "  # -   -       5.17       4.82 OK    True / original Gap up buy side.\n",
        "\n",
        "  # Read data from Yahoo finance\n",
        "  data = pd.DataFrame()\n",
        "\n",
        "  if ( exchange != \"SP500\" and exchange != \"DOW30\" and exchange != \"CRYPTOS\"):\n",
        "    # In Turkish exchange\n",
        "      data['Adj Close'], data['Adj Open'], data['rets'], data[\"Adj Close TR\"] = ConvertToUSD(TickerIS, START, END, \"BIST\")\n",
        "\n",
        "  else:\n",
        "    # In US exchange\n",
        "      data['Adj Close'], data['Adj Open'], data['rets'], _ = ConvertToUSD(TickerIS, START, END, \"DOW30\")\n",
        "\n",
        "  data.index = pd.to_datetime(data.index,format=\"%d-%m-%Y\")\n",
        "  # Buy at Close - Sell at Open (BACSAO) Strategy\n",
        "  data['returns'] = (data['Adj Open'] - data['Adj Close'].shift(1)) / data['Adj Close'].shift(1) - COMISSION_PERCENT*2\n",
        "  data['BAC_SAO_str_returns'] = (data.returns+1).cumprod()\n",
        "\n",
        " # Improved Gap-up Strategy\n",
        "  data['std'] = data['returns'].rolling(R_WINDOW).std()\n",
        "  data['positions'] = np.nan\n",
        "  data['close']= data['Adj Close']\n",
        "  data[\"log_returns\"] = data['close'].pct_change().apply(lambda x: np.log(1+x))\n",
        "  data[\"rel\"]= data['Adj Close'] / data['Adj Close'].iloc[0]\n",
        "\n",
        "\n",
        "  # Long entry condition\n",
        "  if REVERSED:\n",
        "      long_entry = data['returns'] < VOLATILITY_FACTOR  * data['std']\n",
        "      short_entry = data['returns'] >= VOLATILITY_FACTOR  * data['std']\n",
        "  else:\n",
        "  # Short entry condition\n",
        "      long_entry = data['returns'] >= VOLATILITY_FACTOR  * data['std']\n",
        "      short_entry = data['returns'] < VOLATILITY_FACTOR  * data['std']\n",
        "\n",
        "  # Store 1 when long entry condition is true\n",
        "  data.loc[long_entry, 'positions'] = 1\n",
        "  data.loc[short_entry, 'positions'] = 0\n",
        "\n",
        "  data = data.dropna()\n",
        "\n",
        "  data['positions'].fillna(method='ffill', inplace=True)\n",
        "\n",
        "  # BAOSAC STRATEGY: Buy at open, sell at Close\n",
        "  data['strategy_returns'] = ((data['Adj Close'] - data['Adj Open']) / data['Adj Open']) * data.positions - COMISSION_PERCENT*2\n",
        "  data['cumulative_strategy_returns'] = (data.strategy_returns+1).cumprod()\n",
        "\n",
        "  #print(data.tail(10))\n",
        "\n",
        "  return data"
      ]
    },
    {
      "cell_type": "code",
      "execution_count": 238,
      "metadata": {
        "id": "LCppA4pzAUyu"
      },
      "outputs": [],
      "source": [
        "# #GAP UP-GAP DOWN STRATEGY\n",
        "\n",
        "# # Long entry condition\n",
        "# long_entry = data['Adj Open'] > data['Adj Close'].shift(1)\n",
        "\n",
        "# # Short entry condition\n",
        "# short_entry = data['Adj Open'] < data['Adj Close'].shift(1)"
      ]
    },
    {
      "cell_type": "code",
      "execution_count": 239,
      "metadata": {
        "id": "kEBR-ALlVuDa"
      },
      "outputs": [],
      "source": [
        "# IMPROVED STRATEGY\n",
        "def Strategy(data):\n",
        "  global VOLATILITY_FACTOR\n",
        "  # Long entry condition\n",
        "  if REVERSED:\n",
        "    long_entry = data['returns'] < VOLATILITY_FACTOR  * data['std']\n",
        "    short_entry = data['returns'] >= VOLATILITY_FACTOR  * data['std']\n",
        "  else:\n",
        "  # Short entry condition\n",
        "    long_entry = data['returns'] >= VOLATILITY_FACTOR  * data['std']\n",
        "    short_entry = data['returns'] < VOLATILITY_FACTOR  * data['std']\n",
        "  # Store 1 when long entry condition is true\n",
        "  data.loc[long_entry, 'positions'] = 1\n",
        "\n",
        "  # Store -1 when short entry condition is true\n",
        "  # data.loc[short_entry, 'positions'] = -1\n",
        "\n",
        "  # Store 0 when wait condition is true\n",
        "  data.loc[short_entry, 'positions'] = 0\n",
        "\n",
        "  data['positions'].fillna(method='ffill', inplace=True)\n",
        "  return data\n",
        "\n"
      ]
    },
    {
      "cell_type": "code",
      "execution_count": 240,
      "metadata": {
        "id": "j7Xb_DDb3DMk"
      },
      "outputs": [],
      "source": [
        "# IMPROVED STRATEGY\n",
        "def Volatility_Strategy_USD_TR(data):\n",
        "  global VOLATILITY_FACTOR\n",
        "  # Long entry condition\n",
        "  if REVERSED:\n",
        "    long_entry = data['returns'] < VOLATILITY_FACTOR  * data['std']\n",
        "    short_entry = data['returns'] >= VOLATILITY_FACTOR  * data['std']\n",
        "  else:\n",
        "  # Short entry condition\n",
        "    long_entry = data['returns'] >= VOLATILITY_FACTOR  * data['std']\n",
        "    short_entry = data['returns'] < VOLATILITY_FACTOR  * data['std']\n",
        "  # Store 1 when long entry condition is true\n",
        "\n",
        "  data.loc[long_entry, 'positions'] = 1\n",
        "\n",
        "  # Store -1 when short entry condition is true\n",
        "  #data.loc[short_entry, 'positions'] = -1\n",
        "\n",
        "  # Store 0 when wait condition is true\n",
        "  data.loc[short_entry, 'positions'] = 0\n",
        "\n",
        "  data['positions'].fillna(method='ffill', inplace=True)\n",
        "\n",
        "\n",
        "  return data\n",
        "\n"
      ]
    },
    {
      "cell_type": "code",
      "execution_count": 241,
      "metadata": {
        "id": "At1lib6fAOJT"
      },
      "outputs": [],
      "source": [
        "\n",
        "\n",
        "# Drop NaN values\n",
        "#data = data.dropna()"
      ]
    },
    {
      "cell_type": "code",
      "execution_count": 242,
      "metadata": {
        "id": "UEasbkyqVxJf"
      },
      "outputs": [],
      "source": [
        "def CalculateStrReturns(data):\n",
        "  data['strategy_returns'] = ((data['Adj Close'] - data['Adj Open']) / data['Adj Open']) * data.positions\n",
        "  return data"
      ]
    },
    {
      "cell_type": "code",
      "execution_count": 243,
      "metadata": {
        "id": "G3ryp4bZbjdg"
      },
      "outputs": [],
      "source": [
        "def PlotUSDTROpenClosePerformance(Ticker,data):\n",
        "  print(f\"Plotting Open-Close Performance for {Ticker}\")\n",
        "  # Plot cumulative returns\n",
        "  global LEFT, RIGHT, exchange\n",
        "  import datetime\n",
        "\n",
        "  fig = plt.gcf()\n",
        "  fig.set_size_inches(16, 10)\n",
        "\n",
        "  # ----------------------------------------------------------------------------------\n",
        "  plt.subplot(1, 1, 1)\n",
        "  plt.xlim(LEFT, RIGHT)\n",
        "  plt.plot((data['rel']), color='b', label=\"price USD\")\n",
        "  plt.plot((data['BAC_SAO_str_returns']/data['BAC_SAO_str_returns'].iloc[0]), color='r', label=\"Open-Close\")\n",
        "  plt.plot((data['cumulative_strategy_returns']/data['cumulative_strategy_returns'].iloc[0]), color='g', label=\"Improved Gap\")\n",
        "\n",
        "  #  plt.plot((data['Adj Close TR']/data['Adj Close TR'].iloc[0]), color='c', label=\"Price TL\")\n",
        "\n",
        "  plt.grid(True)\n",
        "  plt.xticks(fontsize=12)\n",
        "  plt.yticks(fontsize=12)\n",
        "  plt.title(f\"{Ticker} Normalized price (USD,TL), open-close, improved gap strategies\", fontsize=12)\n",
        "  plt.xlabel('Date', fontsize=12)\n",
        "  plt.legend()\n",
        "  plt.ylabel('Normalized price', fontsize=12)\n",
        "\n",
        "  # ----------------------------------------------------------------------------------\n",
        "  # plt.subplot(4, 1, 2)\n",
        "  # plt.xlim(LEFT, RIGHT)\n",
        "  # plt.plot(data['BAC_SAO_str_returns'])\n",
        "  # plt.grid(True)\n",
        "  # plt.xticks(fontsize=12)\n",
        "  # plt.yticks(fontsize=12)\n",
        "  # plt.title(f\"{Ticker} data['BAC_SAO_str_returns'] \", fontsize=12)\n",
        "  # #plt.xlabel('Date', fontsize=12)\n",
        "  # plt.ylabel('Open-Close Trade Returns', fontsize=12)\n",
        "\n",
        "\n",
        "  # # ----------------------------------------------------------------------------------\n",
        "  # plt.subplot(4, 1, 3)\n",
        "  # plt.xlim(LEFT, RIGHT)\n",
        "  # plt.plot(data['cumulative_strategy_returns'])\n",
        "  # plt.grid(True)\n",
        "  # plt.xticks(fontsize=12)\n",
        "  # plt.yticks(fontsize=12)\n",
        "  # plt.title(f\"{Ticker} data['cumulative_strategy_returns'] \", fontsize=12)\n",
        "  # #plt.xlabel('Date', fontsize=12)\n",
        "  # plt.ylabel('Volatility Strategy Returns', fontsize=12)\n",
        "\n",
        " #----------------------------------------------------------------------------------\n",
        "  # plt.subplot(4, 1, 3)\n",
        "  # plt.xlim(LEFT, RIGHT)\n",
        "  # plt.plot(data['close'])\n",
        "  # plt.grid(True)\n",
        "  # plt.xticks(fontsize=12)\n",
        "  # plt.yticks(fontsize=12)\n",
        "  # plt.title(f\"{Ticker} TL price\", fontsize=12)\n",
        "  # #plt.xlabel('Date', fontsize=12)\n",
        "  # plt.ylabel('Price TL', fontsize=12)\n",
        "\n",
        "  # #----------------------------------------------------------------------------------\n",
        "  # plt.subplot(4, 1, 4)\n",
        "  # plt.xlim(LEFT, RIGHT)\n",
        "  # plt.plot(data['BAC_SAO_str_returns'])\n",
        "  # plt.grid(True)\n",
        "  # plt.xticks(fontsize=12)\n",
        "  # plt.yticks(fontsize=12)\n",
        "  # plt.title(f\"{Ticker} TL Open-Close Strategy\", fontsize=12)\n",
        "  # #plt.xlabel('Date', fontsize=12)\n",
        "  # plt.ylabel('Open-Close Strategy TL Returns', fontsize=12)\n",
        "\n",
        "  #----------------------------------------------------------------------------------\n",
        "  # plt.subplot(2, 1, 2)\n",
        "  # plt.xlim(LEFT, RIGHT)\n",
        "  # plt.title(f\"{Ticker} {R_WINDOW}-day rolling volatility\")\n",
        "  # plt.xlabel('Date', fontsize=14)\n",
        "  # plt.ylabel(f'{Ticker} volatility', fontsize=14)\n",
        "  # plt.grid()\n",
        "  # plt.xticks(fontsize=12)\n",
        "  # plt.plot(data['std']*252**0.5)\n",
        "\n",
        "  plt.show()"
      ]
    },
    {
      "cell_type": "code",
      "execution_count": 244,
      "metadata": {
        "id": "Rp0cjuVFDs29"
      },
      "outputs": [],
      "source": [
        "def ShowDataTable(data):\n",
        "  global year, day, month\n",
        "  return(data.loc[f'{year}-{month}-{day}':f'{year+delta}-{month}-{day}'].dropna())\n",
        "\n",
        "\n"
      ]
    },
    {
      "cell_type": "code",
      "execution_count": 245,
      "metadata": {
        "id": "tp6gqXvZGsft"
      },
      "outputs": [],
      "source": [
        "def CreateTearSheetForData(data):\n",
        "  # if we buy and hold performance would be:\n",
        "  print(\"\\nIf we buy and hold performance would be:\")\n",
        "  print(\"\\n======================================\")\n",
        "  pyf.create_simple_tear_sheet(data['rets'].dropna())\n",
        "\n",
        "  # if we apply open-close strategy, performance would be:\n",
        "  print(\"\\nIf we apply open-close strategy, performance would be:\")\n",
        "  print(\"\\n====================================================\")\n",
        "  pyf.create_simple_tear_sheet(data['returns'].dropna())\n"
      ]
    },
    {
      "cell_type": "code",
      "execution_count": 246,
      "metadata": {
        "id": "CPkVe-OmiC0S"
      },
      "outputs": [],
      "source": [
        "def EvaluateFeasibility(data):\n",
        "  Max_Cum_Norm_Ret = np.max(data.BAC_SAO_str_returns)\n",
        "  Max_Cum_Str_Ret = np.max(data.cumulative_strategy_returns)\n",
        "\n",
        "  Last_Cum_Norm_Ret = data.BAC_SAO_str_returns.iloc[-1]\n",
        "  Last_Cum_Str_Ret = data.cumulative_strategy_returns.iloc[-1]\n",
        "\n",
        "  Latest_Rel = data['rel'].iloc[-1]\n",
        "  Latest_Cum_Norm_Ret = data.BAC_SAO_str_returns.iloc[-1]\n",
        "  feasible = Latest_Cum_Norm_Ret / Latest_Rel\n",
        "  return Latest_Cum_Norm_Ret, Latest_Rel,feasible"
      ]
    },
    {
      "cell_type": "code",
      "execution_count": 246,
      "metadata": {
        "id": "pZaWhd1Td5-R"
      },
      "outputs": [],
      "source": [
        "\n"
      ]
    },
    {
      "cell_type": "code",
      "execution_count": 247,
      "metadata": {
        "id": "AL3t551xVZFO"
      },
      "outputs": [],
      "source": [
        "def PredictNextState(datareturns, Rtarget):\n",
        "    state_bins = [-np.inf, Rtarget, np.inf]\n",
        "    datastate = pd.cut(datareturns, bins=state_bins)\n",
        "    transition_matrix = pd.crosstab(datastate, datastate.shift(-1), normalize='index')\n",
        "    current_state = datastate.iloc[-1]\n",
        "    #next_state = np.random.choice(transition_matrix.columns, p=transition_matrix.loc[current_state].values)\n",
        "    next_state = transition_matrix.loc[current_state].idxmax()\n",
        "    state_probabilities = datastate.value_counts(sort=True, normalize=True)\n",
        "    return next_state, np.round(transition_matrix[1][1],3)\n"
      ]
    },
    {
      "cell_type": "code",
      "execution_count": 248,
      "metadata": {
        "id": "5BewmdeM6dug"
      },
      "outputs": [],
      "source": [
        "def ShowTRMarket(Tickers, target_return):\n",
        "  from datetime import datetime\n",
        "  my_dict = {'Ticker':[], 'Open-Close':[],'Close':[],'Eff':[], 'PWin_OC':[], 'PWin':[]};\n",
        "\n",
        "  for ticker in Tickers:\n",
        "    if ticker != \"GC=F\" and ticker != \"CL=F\":\n",
        "      ticker = ticker + \".IS\"\n",
        "    print(f\"\\n Downloading {ticker}...\")\n",
        "    d = UpdateData(ticker, START, END, \"BIST\");\n",
        "    #d = Volatility_Strategy_USD_TR(d)\n",
        "    opc,clo,fb = EvaluateFeasibility(d);\n",
        "\n",
        "    # print(\"\\n====================================================\")\n",
        "    # print(f\"Next State Probabilities for {ticker} Buy-Hold\")\n",
        "    # print(\"\\n====================================================\")\n",
        "    ns0, tm0 = PredictNextState(d['rets'], target_return)\n",
        "\n",
        "    # print(\"\\n====================================================\")\n",
        "    # print(f\"Next State Probabilities for {ticker} Open-Close\")\n",
        "    # print(\"\\n====================================================\")\n",
        "    ns1, tm1 = PredictNextState(d['returns'], target_return)\n",
        "\n",
        "    my_dict['Ticker'].append(ticker)\n",
        "    my_dict['Eff'].append(fb)\n",
        "    my_dict['Open-Close'].append(opc)\n",
        "    my_dict['Close'].append(clo)\n",
        "    my_dict['PWin_OC'].append(tm1)\n",
        "    my_dict['PWin'].append(tm0)\n",
        "\n",
        "  df = pd.DataFrame(my_dict)\n",
        "  if CLEAN_OC_ASSETS:\n",
        "    df_oc = df[ (df['PWin_OC']> WINNER_LIMIT_TR_OC) & (df['PWin']> WINNER_LIMIT_TR) ].sort_values(by=['PWin_OC'], ascending=False).reset_index(drop=True)\n",
        "  else:\n",
        "    df_oc = df[ (df['PWin_OC']> WINNER_LIMIT_TR_OC) ].sort_values(by=['PWin_OC'], ascending=False).reset_index(drop=True)\n",
        "\n",
        "  df_long = df[ (df['PWin']> WINNER_LIMIT_TR) ].sort_values(by=['PWin'], ascending=False).reset_index(drop=True)\n",
        "\n",
        "  # df_oc   = df[ (df['PWin_OC']> WINNER_LIMIT_TR_OC) ].sort_values(by=['PWin_OC'], ascending=False).reset_index(drop=True)\n",
        "  # df_long = df[ (df['PWin']   > WINNER_LIMIT_TR) ].sort_values(by=['PWin'],    ascending=False).reset_index(drop=True)\n",
        "\n",
        "\n",
        "  now = datetime.now()\n",
        "  #print(\"now =\", now)\n",
        "  # dd/mm/YY H:M:S\n",
        "  dt_string = now.strftime(\"%d/%m/%Y %H:%M:%S\")\n",
        "  print(\"Analysis date and time =\", dt_string)\n",
        "\n",
        "  print(\"\\n====================================================\")\n",
        "  print(f\"\\nList for Open-Close:\")\n",
        "  print(df_oc)\n",
        "\n",
        "  print(\"\\n====================================================\")\n",
        "  print(f\"\\nList for Long:\")\n",
        "  print(df_long)\n",
        "  return df_oc, df_long\n",
        "\n"
      ]
    },
    {
      "cell_type": "code",
      "execution_count": 248,
      "metadata": {
        "id": "CmNRV92Lh1Is"
      },
      "outputs": [],
      "source": [
        "\n"
      ]
    },
    {
      "cell_type": "code",
      "execution_count": 249,
      "metadata": {
        "id": "r4WCv-pokU9W"
      },
      "outputs": [],
      "source": [
        "def ShowUSMarket(Tickers,target_return):\n",
        "\n",
        "  from datetime import datetime\n",
        "  my_dict = {'Ticker':[], 'Open-Close':[],'Close':[],'Eff':[], 'PWin_OC':[], 'PWin':[]};\n",
        "\n",
        "  for ticker in Tickers:\n",
        "    print(f\"\\n Downloading {ticker}...\")\n",
        "    d = UpdateData(ticker, START, END, \"DOW30\");\n",
        "    opc,clo,fb = EvaluateFeasibility(d);\n",
        "\n",
        "    # print(\"\\n====================================================\")\n",
        "    # print(f\"Next State Probabilities for {ticker} Buy-Hold\")\n",
        "    # print(\"\\n====================================================\")\n",
        "    ns0, tm0 = PredictNextState(d['rets'], target_return)\n",
        "\n",
        "    # print(\"\\n====================================================\")\n",
        "    # print(f\"Next State Probabilities for {ticker} Open-Close\")\n",
        "    # print(\"\\n====================================================\")\n",
        "    ns1, tm1 = PredictNextState(d['returns'], target_return)\n",
        "\n",
        "    my_dict['Ticker'].append(ticker)\n",
        "    my_dict['Eff'].append(fb)\n",
        "    my_dict['Open-Close'].append(opc)\n",
        "    my_dict['Close'].append(clo)\n",
        "    my_dict['PWin_OC'].append(tm1)\n",
        "    my_dict['PWin'].append(tm0)\n",
        "\n",
        "  df = pd.DataFrame(my_dict)\n",
        "\n",
        "  # df_oc = df[ (df['PWin_OC']> WINNER_LIMIT_US) & (df['PWin']> WINNER_LIMIT_US) & (df['Eff']> 1)].sort_values(by=['PWin_OC'], ascending=False).reset_index(drop=True)\n",
        "  # df_long = df[ (df['PWin_OC']> WINNER_LIMIT_US) & (df['PWin']> WINNER_LIMIT_US) & (df['Eff']> 1)].sort_values(by=['PWin'], ascending=False).reset_index(drop=True)\n",
        "\n",
        "  df_oc   = df[ (df['PWin_OC']> WINNER_LIMIT_US) ].sort_values(by=['PWin_OC'], ascending=False).reset_index(drop=True)\n",
        "  df_long = df[ (df['PWin']   > WINNER_LIMIT_US) ].sort_values(by=['PWin'],    ascending=False).reset_index(drop=True)\n",
        "\n",
        "  now = datetime.now()\n",
        "  #print(\"now =\", now)\n",
        "  # dd/mm/YY H:M:S\n",
        "  dt_string = now.strftime(\"%d/%m/%Y %H:%M:%S\")\n",
        "  print(\"Analysis date and time =\", dt_string)\n",
        "\n",
        "  print(\"\\n====================================================\")\n",
        "  print(f\"\\nList for Open-Close:\")\n",
        "  print(df_oc)\n",
        "\n",
        "  print(\"\\n====================================================\")\n",
        "  print(f\"\\nList for Long:\")\n",
        "  print(df_long)\n",
        "\n",
        "\n",
        "  return df_oc, df_long"
      ]
    },
    {
      "cell_type": "code",
      "execution_count": 250,
      "metadata": {
        "id": "0KtJd14QaZV4"
      },
      "outputs": [],
      "source": [
        "def ShowTickerStats(ticker, exchange):\n",
        "  global SHOW_GRAPHICS\n",
        "  print(\"\\n====================================================\")\n",
        "  print(f\"\\nUpdating data for {ticker}\")\n",
        "  print(\"\\n====================================================\")\n",
        "  d = UpdateData(ticker, START, END, exchange)\n",
        "\n",
        "  if SHOW_GRAPHICS:\n",
        "    print(\"\\n====================================================\")\n",
        "    print(f\"\\nPlotting for {ticker}\")\n",
        "    print(\"\\n====================================================\")\n",
        "    PlotUSDTROpenClosePerformance(ticker, d)\n",
        "\n",
        "    print(\"\\n====================================================\")\n",
        "    print(f\"Creating Tear Sheet for {ticker}\")\n",
        "    print(\"\\n====================================================\")\n",
        "    CreateTearSheetForData(d)\n",
        "\n",
        "  return d"
      ]
    },
    {
      "cell_type": "code",
      "execution_count": 251,
      "metadata": {
        "id": "rmjUsNdUN19x"
      },
      "outputs": [],
      "source": [
        "def EmpyrialPortfolioPerformance():\n",
        "  !pip install Scikit-learn\n",
        "  !pip install empyrial\n",
        "\n",
        "  from empyrial import empyrial, Engine\n",
        "\n",
        "  pf2 = Engine(\n",
        "                    start_date= START, #start date for the backtesting\n",
        "                    portfolio = [\"ODAS.IS\", \"ALARK.IS\", \"KOZAA.IS\", \"ENKAI.IS\",\"KRDMD.IS\", \"ISCTR.IS\", \"PETKM.IS\", \"TAVHL.IS\", \"EREGL.IS\"],\n",
        "                    optimizer = \"MEANVAR\", # defines Mean-Variance as the optimizer\n",
        "                    max_vol = 40, #maximize the return for this level of volatility (25%)\n",
        "                    benchmark = [\"TRY=X\"], #NIFTY50 is set by default\n",
        "                    #rebalance = \"1Y\" #rebalance every year\n",
        "                    #risk_manager = {\"Take Profit\" : 1} #Stop the investment when the profit becomes superior to 25%\n",
        "  )\n",
        "  empyrial(pf2)\n",
        "  empyrial.orderbook\n"
      ]
    },
    {
      "cell_type": "code",
      "execution_count": 252,
      "metadata": {
        "id": "xLcpiYgtafJ9"
      },
      "outputs": [],
      "source": [
        "def main():\n",
        "\n",
        "  global BIST100, BIST_BANKA, BIST30, DOW30, SP_500, CRYPTOS\n",
        "\n",
        "\n",
        "  from datetime import datetime\n",
        "\n",
        "  target_return = RETURN_THRESHOLD\n",
        "\n",
        "  if BIST_30:\n",
        "    bist30_df, bist30_df_long = ShowTRMarket(BIST30, target_return)\n",
        "\n",
        "    if OVERNIGHT_STRATEGY:\n",
        "      pass\n",
        "    else:\n",
        "      bist30_df = bist30_df_long\n",
        "\n",
        "    for ticker in bist30_df['Ticker']:\n",
        "      print(\"\\n====================================================\")\n",
        "      print(f\"\\nShowing Ticker Stats for {ticker} : \")\n",
        "      print(\"\\n====================================================\")\n",
        "      ShowTickerStats( ticker,\"BIST\")\n",
        "\n",
        "    bist30_df = bist30_df.reset_index(drop=True)\n",
        "    bist30_df.to_csv('bist30_selected.csv')\n",
        "    print(bist30_df)\n",
        "\n",
        "\n",
        "  if BIST_100:\n",
        "    if (BIST_BANKA):\n",
        "      BIST100 = BANKALAR\n",
        "    bist100_df, bist100_df_long = ShowTRMarket(BIST100, target_return)\n",
        "    if OVERNIGHT_STRATEGY:\n",
        "      pass\n",
        "    else:\n",
        "      bist100_df = bist100_df_long\n",
        "\n",
        "    for ticker in bist100_df['Ticker']:\n",
        "      print(\"\\n====================================================\")\n",
        "      print(f\"\\nShowing Ticker Stats for {ticker} : \")\n",
        "      print(\"\\n====================================================\")\n",
        "      ShowTickerStats( ticker,\"BIST\")\n",
        "\n",
        "    bist100_df = bist100_df.reset_index(drop=True)\n",
        "    bist100_df.to_csv('bist100_selected.csv')\n",
        "    print(bist100_df)\n",
        "\n",
        "  if DOW_30:\n",
        "    dow_df, dow_df_long = ShowUSMarket(DOW30, target_return)\n",
        "\n",
        "    if OVERNIGHT_STRATEGY:\n",
        "      pass\n",
        "    else:\n",
        "      dow_df = dow_df_long\n",
        "\n",
        "    for ticker in dow_df['Ticker']:\n",
        "      print(\"\\n====================================================\")\n",
        "      print(f\"\\nShowing Ticker Stats for {ticker} : \")\n",
        "      print(\"\\n====================================================\")\n",
        "      ShowTickerStats( ticker,\"DOW30\")\n",
        "\n",
        "    dow_df = dow_df.reset_index(drop=True)\n",
        "    dow_df.to_csv('dow30_selected.csv')\n",
        "    print(dow_df)\n",
        "\n",
        "\n",
        "  if SP_500:\n",
        "    sp500_df, sp500_df_long = ShowUSMarket(sp500_constituents.Symbol, target_return)\n",
        "\n",
        "    if OVERNIGHT_STRATEGY:\n",
        "      pass\n",
        "    else:\n",
        "      sp500_df = sp500_df_long\n",
        "\n",
        "    for ticker in sp500_df['Ticker']:\n",
        "      print(\"\\n====================================================\")\n",
        "      print(f\"\\nShowing Ticker Stats for {ticker} : \")\n",
        "      print(\"\\n====================================================\")\n",
        "      ShowTickerStats( ticker,\"SP500\")\n",
        "\n",
        "    sp500_df = sp500_df.reset_index(drop=True)\n",
        "    sp500_df.to_csv('sp500_selected.csv')\n",
        "    print(sp500_df)\n",
        "\n",
        "  if CRYPTOS_ENABLE:\n",
        "    cryptos_df, cryptos_df_long = ShowUSMarket(CRYPTOS, target_return)\n",
        "\n",
        "    if OVERNIGHT_STRATEGY:\n",
        "      pass\n",
        "    else:\n",
        "      cryptos_df = cryptos_df_long\n",
        "\n",
        "    for ticker in cryptos_df['Ticker']:\n",
        "      print(\"\\n====================================================\")\n",
        "      print(f\"\\nShowing Ticker Stats for {ticker} : \")\n",
        "      print(\"\\n====================================================\")\n",
        "      ShowTickerStats( ticker,\"CRYPTOS\")\n",
        "\n",
        "    cryptos_df = cryptos_df.reset_index(drop=True)\n",
        "    cryptos_df.to_csv('cryptos_selected.csv')\n",
        "    print(cryptos_df)\n",
        "\n",
        "\n",
        "  print(f\"\\nHere is our most probable winner list (for TR = {target_return}) :\")\n",
        "  print(\"\\n====================================================\")\n",
        "  # datetime object containing current date and time\n",
        "  now = datetime.now()\n",
        "\n",
        "  dt_string = now.strftime(\"%d/%m/%Y %H:%M:%S\")\n",
        "  print(\"Analysis date and time =\", dt_string)\n",
        "\n",
        "  pd.set_option('display.max_columns', None)\n",
        "\n",
        "  from google.colab import files\n",
        "\n",
        "  if BIST_30:\n",
        "    #cnt_PWin = len(bist30_df_long[(bist30_df_long['PWin'] > WINNER_LIMIT_TR)])\n",
        "    cnt_PWin_OC = len(bist30_df[(bist30_df['PWin_OC'] > WINNER_LIMIT_TR)])\n",
        "    print(\"\\n====================================================\")\n",
        "    print(\"\\n====================================================\")\n",
        "    print(\"\\n====================================================\")\n",
        "    print(\"\\n====================================================\")\n",
        "    print(\"\\n====================================================\")\n",
        "    #print(f\"\\nOut of {len(bist30_df_long['PWin'])}, there are {cnt_PWin} assets have Pwin > {WINNER_LIMIT_TR}\")\n",
        "    print(f\"\\nOut of {len(bist30_df['PWin_OC'])}, there are {cnt_PWin_OC} assets have PWin_OC > {WINNER_LIMIT_TR}\")\n",
        "    files.download('bist30_selected.csv')\n",
        "\n",
        "  if BIST_100:\n",
        "    #cnt_PWin = len(bist100_df_long[(bist100_df_long['PWin'] > WINNER_LIMIT_TR)])\n",
        "    cnt_PWin_OC = len(bist100_df[(bist100_df['PWin_OC'] > WINNER_LIMIT_TR)])\n",
        "    print(\"\\n====================================================\")\n",
        "    print(\"\\n====================================================\")\n",
        "    print(\"\\n====================================================\")\n",
        "    print(\"\\n====================================================\")\n",
        "    print(\"\\n====================================================\")\n",
        "    #print(f\"\\nOut of {len(bist100_df_long['PWin'])}, there are {cnt_PWin} assets have Pwin > {WINNER_LIMIT_TR}\")\n",
        "    print(f\"\\nOut of {len(bist100_df['PWin_OC'])}, there are {cnt_PWin_OC} assets have PWin_OC > {WINNER_LIMIT_TR}\")\n",
        "    files.download('bist100_selected.csv')\n",
        "\n",
        "  if DOW_30:\n",
        "    #cnt_PWin = len(dow_df_long[(dow_df_long['PWin'] > WINNER_LIMIT_US)])\n",
        "    cnt_PWin_OC = len(dow_df[(dow_df['PWin_OC'] > WINNER_LIMIT_US)])\n",
        "    print(\"\\n====================================================\")\n",
        "    print(\"\\n====================================================\")\n",
        "    print(\"\\n====================================================\")\n",
        "    print(\"\\n====================================================\")\n",
        "    print(\"\\n====================================================\")\n",
        "    #print(f\"\\nOut of {len(dow_df_long['PWin'])}, there are {cnt_PWin} assets have Pwin > {WINNER_LIMIT_US}\")\n",
        "    print(f\"\\nOut of {len(dow_df['PWin_OC'])}, there are {cnt_PWin_OC} assets have PWin_OC > {WINNER_LIMIT_US}\")\n",
        "    files.download('dow30_selected.csv')\n",
        "\n",
        "  if SP_500:\n",
        "    #cnt_PWin = len(sp500_df_long[(sp500_df_long['PWin'] > WINNER_LIMIT_US)])\n",
        "    cnt_PWin_OC = len(sp500_df[(sp500_df['PWin_OC'] > WINNER_LIMIT_US)])\n",
        "    print(\"\\n====================================================\")\n",
        "    print(\"\\n====================================================\")\n",
        "    print(\"\\n====================================================\")\n",
        "    print(\"\\n====================================================\")\n",
        "    print(\"\\n====================================================\")\n",
        "    #print(f\"\\nOut of {len(sp500_df_long['PWin'])}, there are {cnt_PWin} assets have Pwin > {WINNER_LIMIT_US}\")\n",
        "    print(f\"\\nOut of {len(sp500_df['PWin_OC'])}, there are {cnt_PWin_OC} assets have PWin_OC > {WINNER_LIMIT_US}\")\n",
        "    files.download('sp500_selected.csv')\n",
        "\n",
        "  if CRYPTOS_ENABLE:\n",
        "    #cnt_PWin = len(bist30_df_long[(bist30_df_long['PWin'] > WINNER_LIMIT_TR)])\n",
        "    cnt_PWin_OC = len(cryptos_df[(cryptos_df['PWin_OC'] > WINNER_LIMIT_US)])\n",
        "    print(\"\\n====================================================\")\n",
        "    print(\"\\n====================================================\")\n",
        "    print(\"\\n====================================================\")\n",
        "    print(\"\\n====================================================\")\n",
        "    print(\"\\n====================================================\")\n",
        "    #print(f\"\\nOut of {len(bist30_df_long['PWin'])}, there are {cnt_PWin} assets have Pwin > {WINNER_LIMIT_TR}\")\n",
        "    print(f\"\\nOut of {len(cryptos_df['PWin_OC'])}, there are {cnt_PWin_OC} assets have PWin_OC > {WINNER_LIMIT_US}\")\n",
        "    files.download('cryptos_selected.csv')\n",
        "\n",
        "  print(\"..........END OF ASSET SELECTION.........................\")\n",
        "\n"
      ]
    },
    {
      "cell_type": "code",
      "source": [
        "if __name__ == \"__main__\":\n",
        "\n",
        "  import time\n",
        "  start_time = time.time()\n",
        "  main()\n",
        "  print(\"--- %s seconds ---\" % (time.time() - start_time))"
      ],
      "metadata": {
        "id": "qB9tJO-aoYEV",
        "colab": {
          "base_uri": "https://localhost:8080/",
          "height": 1000
        },
        "outputId": "85ef7050-b050-4362-f32f-31706f293349"
      },
      "execution_count": 253,
      "outputs": [
        {
          "output_type": "stream",
          "name": "stderr",
          "text": [
            "[*********************100%%**********************]  1 of 1 completed\n",
            "[*********************100%%**********************]  1 of 1 completed\n",
            "[*********************100%%**********************]  1 of 1 completed\n",
            "[*********************100%%**********************]  1 of 1 completed"
          ]
        },
        {
          "output_type": "stream",
          "name": "stdout",
          "text": [
            "\n",
            " Downloading AAPL...\n",
            "\n",
            " Downloading ADBE...\n"
          ]
        },
        {
          "output_type": "stream",
          "name": "stderr",
          "text": [
            "\n",
            "[*********************100%%**********************]  1 of 1 completed\n",
            "[*********************100%%**********************]  1 of 1 completed\n",
            "[*********************100%%**********************]  1 of 1 completed\n",
            "[*********************100%%**********************]  1 of 1 completed\n",
            "[*********************100%%**********************]  1 of 1 completed\n",
            "[*********************100%%**********************]  1 of 1 completed\n",
            "[*********************100%%**********************]  1 of 1 completed"
          ]
        },
        {
          "output_type": "stream",
          "name": "stdout",
          "text": [
            "\n",
            " Downloading ADI...\n"
          ]
        },
        {
          "output_type": "stream",
          "name": "stderr",
          "text": [
            "\n",
            "[*********************100%%**********************]  1 of 1 completed\n",
            "[*********************100%%**********************]  1 of 1 completed\n",
            "[*********************100%%**********************]  1 of 1 completed\n",
            "[*********************100%%**********************]  1 of 1 completed\n",
            "[*********************100%%**********************]  1 of 1 completed"
          ]
        },
        {
          "output_type": "stream",
          "name": "stdout",
          "text": [
            "\n",
            " Downloading ADP...\n"
          ]
        },
        {
          "output_type": "stream",
          "name": "stderr",
          "text": [
            "\n",
            "[*********************100%%**********************]  1 of 1 completed\n",
            "[*********************100%%**********************]  1 of 1 completed\n",
            "[*********************100%%**********************]  1 of 1 completed\n",
            "[*********************100%%**********************]  1 of 1 completed"
          ]
        },
        {
          "output_type": "stream",
          "name": "stdout",
          "text": [
            "\n",
            " Downloading ADSK...\n"
          ]
        },
        {
          "output_type": "stream",
          "name": "stderr",
          "text": [
            "\n",
            "[*********************100%%**********************]  1 of 1 completed\n",
            "[*********************100%%**********************]  1 of 1 completed\n",
            "[*********************100%%**********************]  1 of 1 completed\n",
            "[*********************100%%**********************]  1 of 1 completed\n"
          ]
        },
        {
          "output_type": "stream",
          "name": "stdout",
          "text": [
            "\n",
            " Downloading ALGN...\n",
            "\n",
            " Downloading AMAT...\n"
          ]
        },
        {
          "output_type": "stream",
          "name": "stderr",
          "text": [
            "[*********************100%%**********************]  1 of 1 completed\n",
            "[*********************100%%**********************]  1 of 1 completed\n",
            "[*********************100%%**********************]  1 of 1 completed\n",
            "[*********************100%%**********************]  1 of 1 completed\n",
            "[*********************100%%**********************]  1 of 1 completed\n",
            "[*********************100%%**********************]  1 of 1 completed\n",
            "[*********************100%%**********************]  1 of 1 completed\n",
            "[*********************100%%**********************]  1 of 1 completed\n",
            "[*********************100%%**********************]  1 of 1 completed"
          ]
        },
        {
          "output_type": "stream",
          "name": "stdout",
          "text": [
            "\n",
            " Downloading AMD...\n",
            "\n",
            " Downloading AMGN...\n"
          ]
        },
        {
          "output_type": "stream",
          "name": "stderr",
          "text": [
            "\n",
            "[*********************100%%**********************]  1 of 1 completed\n",
            "[*********************100%%**********************]  1 of 1 completed\n",
            "[*********************100%%**********************]  1 of 1 completed\n",
            "[*********************100%%**********************]  1 of 1 completed\n",
            "[*********************100%%**********************]  1 of 1 completed\n",
            "[*********************100%%**********************]  1 of 1 completed"
          ]
        },
        {
          "output_type": "stream",
          "name": "stdout",
          "text": [
            "\n",
            " Downloading AMZN...\n"
          ]
        },
        {
          "output_type": "stream",
          "name": "stderr",
          "text": [
            "\n",
            "[*********************100%%**********************]  1 of 1 completed\n",
            "[*********************100%%**********************]  1 of 1 completed\n",
            "[*********************100%%**********************]  1 of 1 completed\n",
            "[*********************100%%**********************]  1 of 1 completed\n",
            "[*********************100%%**********************]  1 of 1 completed"
          ]
        },
        {
          "output_type": "stream",
          "name": "stdout",
          "text": [
            "\n",
            " Downloading ASML...\n"
          ]
        },
        {
          "output_type": "stream",
          "name": "stderr",
          "text": [
            "\n",
            "[*********************100%%**********************]  1 of 1 completed\n",
            "[*********************100%%**********************]  1 of 1 completed\n",
            "[*********************100%%**********************]  1 of 1 completed"
          ]
        },
        {
          "output_type": "stream",
          "name": "stdout",
          "text": [
            "\n",
            " Downloading AVGO...\n"
          ]
        },
        {
          "output_type": "stream",
          "name": "stderr",
          "text": [
            "\n",
            "[*********************100%%**********************]  1 of 1 completed\n",
            "[*********************100%%**********************]  1 of 1 completed\n",
            "[*********************100%%**********************]  1 of 1 completed\n",
            "[*********************100%%**********************]  1 of 1 completed\n",
            "[*********************100%%**********************]  1 of 1 completed"
          ]
        },
        {
          "output_type": "stream",
          "name": "stdout",
          "text": [
            "\n",
            " Downloading BIDU...\n"
          ]
        },
        {
          "output_type": "stream",
          "name": "stderr",
          "text": [
            "\n",
            "[*********************100%%**********************]  1 of 1 completed\n",
            "[*********************100%%**********************]  1 of 1 completed\n",
            "[*********************100%%**********************]  1 of 1 completed\n",
            "[*********************100%%**********************]  1 of 1 completed"
          ]
        },
        {
          "output_type": "stream",
          "name": "stdout",
          "text": [
            "\n",
            " Downloading BIIB...\n"
          ]
        },
        {
          "output_type": "stream",
          "name": "stderr",
          "text": [
            "\n",
            "[*********************100%%**********************]  1 of 1 completed\n",
            "[*********************100%%**********************]  1 of 1 completed"
          ]
        },
        {
          "output_type": "stream",
          "name": "stdout",
          "text": [
            "\n",
            " Downloading BKNG...\n"
          ]
        },
        {
          "output_type": "stream",
          "name": "stderr",
          "text": [
            "\n",
            "[*********************100%%**********************]  1 of 1 completed\n",
            "[*********************100%%**********************]  1 of 1 completed\n",
            "[*********************100%%**********************]  1 of 1 completed"
          ]
        },
        {
          "output_type": "stream",
          "name": "stdout",
          "text": [
            "\n",
            " Downloading BMRN...\n"
          ]
        },
        {
          "output_type": "stream",
          "name": "stderr",
          "text": [
            "\n",
            "[*********************100%%**********************]  1 of 1 completed\n",
            "[*********************100%%**********************]  1 of 1 completed\n",
            "[*********************100%%**********************]  1 of 1 completed\n",
            "[*********************100%%**********************]  1 of 1 completed"
          ]
        },
        {
          "output_type": "stream",
          "name": "stdout",
          "text": [
            "\n",
            " Downloading CDNS...\n"
          ]
        },
        {
          "output_type": "stream",
          "name": "stderr",
          "text": [
            "\n",
            "[*********************100%%**********************]  1 of 1 completed\n",
            "[*********************100%%**********************]  1 of 1 completed\n",
            "[*********************100%%**********************]  1 of 1 completed\n",
            "[*********************100%%**********************]  1 of 1 completed\n",
            "[*********************100%%**********************]  1 of 1 completed\n",
            "[*********************100%%**********************]  1 of 1 completed"
          ]
        },
        {
          "output_type": "stream",
          "name": "stdout",
          "text": [
            "\n",
            " Downloading CHTR...\n"
          ]
        },
        {
          "output_type": "stream",
          "name": "stderr",
          "text": [
            "\n",
            "[*********************100%%**********************]  1 of 1 completed\n",
            "[*********************100%%**********************]  1 of 1 completed\n",
            "[*********************100%%**********************]  1 of 1 completed\n"
          ]
        },
        {
          "output_type": "stream",
          "name": "stdout",
          "text": [
            "\n",
            " Downloading CMCSA...\n"
          ]
        },
        {
          "output_type": "stream",
          "name": "stderr",
          "text": [
            "[*********************100%%**********************]  1 of 1 completed\n",
            "[*********************100%%**********************]  1 of 1 completed\n",
            "[*********************100%%**********************]  1 of 1 completed"
          ]
        },
        {
          "output_type": "stream",
          "name": "stdout",
          "text": [
            "\n",
            " Downloading COST...\n"
          ]
        },
        {
          "output_type": "stream",
          "name": "stderr",
          "text": [
            "\n",
            "[*********************100%%**********************]  1 of 1 completed\n",
            "[*********************100%%**********************]  1 of 1 completed\n",
            "[*********************100%%**********************]  1 of 1 completed\n",
            "[*********************100%%**********************]  1 of 1 completed\n",
            "[*********************100%%**********************]  1 of 1 completed"
          ]
        },
        {
          "output_type": "stream",
          "name": "stdout",
          "text": [
            "\n",
            " Downloading CPRT...\n"
          ]
        },
        {
          "output_type": "stream",
          "name": "stderr",
          "text": [
            "\n",
            "[*********************100%%**********************]  1 of 1 completed\n",
            "[*********************100%%**********************]  1 of 1 completed\n",
            "[*********************100%%**********************]  1 of 1 completed\n",
            "[*********************100%%**********************]  1 of 1 completed"
          ]
        },
        {
          "output_type": "stream",
          "name": "stdout",
          "text": [
            "\n",
            " Downloading CSCO...\n"
          ]
        },
        {
          "output_type": "stream",
          "name": "stderr",
          "text": [
            "\n",
            "[*********************100%%**********************]  1 of 1 completed\n",
            "[*********************100%%**********************]  1 of 1 completed\n",
            "[*********************100%%**********************]  1 of 1 completed"
          ]
        },
        {
          "output_type": "stream",
          "name": "stdout",
          "text": [
            "\n",
            " Downloading CSX...\n"
          ]
        },
        {
          "output_type": "stream",
          "name": "stderr",
          "text": [
            "\n",
            "[*********************100%%**********************]  1 of 1 completed\n",
            "[*********************100%%**********************]  1 of 1 completed\n",
            "[*********************100%%**********************]  1 of 1 completed\n",
            "[*********************100%%**********************]  1 of 1 completed"
          ]
        },
        {
          "output_type": "stream",
          "name": "stdout",
          "text": [
            "\n",
            " Downloading CTAS...\n"
          ]
        },
        {
          "output_type": "stream",
          "name": "stderr",
          "text": [
            "\n",
            "[*********************100%%**********************]  1 of 1 completed\n",
            "[*********************100%%**********************]  1 of 1 completed\n",
            "[*********************100%%**********************]  1 of 1 completed\n",
            "[*********************100%%**********************]  1 of 1 completed\n",
            "[*********************100%%**********************]  1 of 1 completed\n",
            "[*********************100%%**********************]  1 of 1 completed"
          ]
        },
        {
          "output_type": "stream",
          "name": "stdout",
          "text": [
            "\n",
            " Downloading CTSH...\n"
          ]
        },
        {
          "output_type": "stream",
          "name": "stderr",
          "text": [
            "\n",
            "[*********************100%%**********************]  1 of 1 completed\n",
            "[*********************100%%**********************]  1 of 1 completed\n",
            "[*********************100%%**********************]  1 of 1 completed"
          ]
        },
        {
          "output_type": "stream",
          "name": "stdout",
          "text": [
            "\n",
            " Downloading DLTR...\n"
          ]
        },
        {
          "output_type": "stream",
          "name": "stderr",
          "text": [
            "\n",
            "[*********************100%%**********************]  1 of 1 completed\n",
            "[*********************100%%**********************]  1 of 1 completed\n",
            "[*********************100%%**********************]  1 of 1 completed\n",
            "[*********************100%%**********************]  1 of 1 completed"
          ]
        },
        {
          "output_type": "stream",
          "name": "stdout",
          "text": [
            "\n",
            " Downloading DOCU...\n"
          ]
        },
        {
          "output_type": "stream",
          "name": "stderr",
          "text": [
            "\n",
            "[*********************100%%**********************]  1 of 1 completed\n",
            "[*********************100%%**********************]  1 of 1 completed\n",
            "[*********************100%%**********************]  1 of 1 completed\n",
            "[*********************100%%**********************]  1 of 1 completed\n",
            "[*********************100%%**********************]  1 of 1 completed"
          ]
        },
        {
          "output_type": "stream",
          "name": "stdout",
          "text": [
            "\n",
            " Downloading DXCM...\n"
          ]
        },
        {
          "output_type": "stream",
          "name": "stderr",
          "text": [
            "\n",
            "[*********************100%%**********************]  1 of 1 completed\n",
            "[*********************100%%**********************]  1 of 1 completed\n",
            "[*********************100%%**********************]  1 of 1 completed"
          ]
        },
        {
          "output_type": "stream",
          "name": "stdout",
          "text": [
            "\n",
            " Downloading EA...\n"
          ]
        },
        {
          "output_type": "stream",
          "name": "stderr",
          "text": [
            "\n",
            "[*********************100%%**********************]  1 of 1 completed\n",
            "[*********************100%%**********************]  1 of 1 completed\n",
            "[*********************100%%**********************]  1 of 1 completed\n",
            "[*********************100%%**********************]  1 of 1 completed"
          ]
        },
        {
          "output_type": "stream",
          "name": "stdout",
          "text": [
            "\n",
            " Downloading EBAY...\n"
          ]
        },
        {
          "output_type": "stream",
          "name": "stderr",
          "text": [
            "\n",
            "[*********************100%%**********************]  1 of 1 completed\n",
            "[*********************100%%**********************]  1 of 1 completed\n",
            "[*********************100%%**********************]  1 of 1 completed\n",
            "[*********************100%%**********************]  1 of 1 completed\n",
            "[*********************100%%**********************]  1 of 1 completed"
          ]
        },
        {
          "output_type": "stream",
          "name": "stdout",
          "text": [
            "\n",
            " Downloading EXC...\n"
          ]
        },
        {
          "output_type": "stream",
          "name": "stderr",
          "text": [
            "\n",
            "[*********************100%%**********************]  1 of 1 completed\n",
            "[*********************100%%**********************]  1 of 1 completed"
          ]
        },
        {
          "output_type": "stream",
          "name": "stdout",
          "text": [
            "\n",
            " Downloading FAST...\n"
          ]
        },
        {
          "output_type": "stream",
          "name": "stderr",
          "text": [
            "\n",
            "[*********************100%%**********************]  1 of 1 completed\n",
            "[*********************100%%**********************]  1 of 1 completed\n",
            "[*********************100%%**********************]  1 of 1 completed\n",
            "[*********************100%%**********************]  1 of 1 completed\n",
            "[*********************100%%**********************]  1 of 1 completed"
          ]
        },
        {
          "output_type": "stream",
          "name": "stdout",
          "text": [
            "\n",
            " Downloading FTNT...\n"
          ]
        },
        {
          "output_type": "stream",
          "name": "stderr",
          "text": [
            "\n",
            "[*********************100%%**********************]  1 of 1 completed\n",
            "[*********************100%%**********************]  1 of 1 completed\n",
            "[*********************100%%**********************]  1 of 1 completed\n",
            "[*********************100%%**********************]  1 of 1 completed\n",
            "[*********************100%%**********************]  1 of 1 completed"
          ]
        },
        {
          "output_type": "stream",
          "name": "stdout",
          "text": [
            "\n",
            " Downloading GILD...\n"
          ]
        },
        {
          "output_type": "stream",
          "name": "stderr",
          "text": [
            "\n",
            "[*********************100%%**********************]  1 of 1 completed\n",
            "[*********************100%%**********************]  1 of 1 completed\n",
            "[*********************100%%**********************]  1 of 1 completed\n",
            "[*********************100%%**********************]  1 of 1 completed"
          ]
        },
        {
          "output_type": "stream",
          "name": "stdout",
          "text": [
            "\n",
            " Downloading GOOG...\n"
          ]
        },
        {
          "output_type": "stream",
          "name": "stderr",
          "text": [
            "\n",
            "[*********************100%%**********************]  1 of 1 completed\n",
            "[*********************100%%**********************]  1 of 1 completed\n",
            "[*********************100%%**********************]  1 of 1 completed"
          ]
        },
        {
          "output_type": "stream",
          "name": "stdout",
          "text": [
            "\n",
            " Downloading GOOGL...\n"
          ]
        },
        {
          "output_type": "stream",
          "name": "stderr",
          "text": [
            "\n",
            "[*********************100%%**********************]  1 of 1 completed\n",
            "[*********************100%%**********************]  1 of 1 completed\n",
            "[*********************100%%**********************]  1 of 1 completed\n",
            "[*********************100%%**********************]  1 of 1 completed\n"
          ]
        },
        {
          "output_type": "stream",
          "name": "stdout",
          "text": [
            "\n",
            " Downloading HON...\n"
          ]
        },
        {
          "output_type": "stream",
          "name": "stderr",
          "text": [
            "[*********************100%%**********************]  1 of 1 completed\n",
            "[*********************100%%**********************]  1 of 1 completed\n",
            "[*********************100%%**********************]  1 of 1 completed\n",
            "[*********************100%%**********************]  1 of 1 completed\n",
            "[*********************100%%**********************]  1 of 1 completed"
          ]
        },
        {
          "output_type": "stream",
          "name": "stdout",
          "text": [
            "\n",
            " Downloading IDXX...\n"
          ]
        },
        {
          "output_type": "stream",
          "name": "stderr",
          "text": [
            "\n",
            "[*********************100%%**********************]  1 of 1 completed\n",
            "[*********************100%%**********************]  1 of 1 completed\n",
            "[*********************100%%**********************]  1 of 1 completed\n",
            "[*********************100%%**********************]  1 of 1 completed"
          ]
        },
        {
          "output_type": "stream",
          "name": "stdout",
          "text": [
            "\n",
            " Downloading ILMN...\n"
          ]
        },
        {
          "output_type": "stream",
          "name": "stderr",
          "text": [
            "\n",
            "[*********************100%%**********************]  1 of 1 completed\n",
            "[*********************100%%**********************]  1 of 1 completed"
          ]
        },
        {
          "output_type": "stream",
          "name": "stdout",
          "text": [
            "\n",
            " Downloading INTC...\n"
          ]
        },
        {
          "output_type": "stream",
          "name": "stderr",
          "text": [
            "\n",
            "[*********************100%%**********************]  1 of 1 completed\n",
            "[*********************100%%**********************]  1 of 1 completed\n",
            "[*********************100%%**********************]  1 of 1 completed\n"
          ]
        },
        {
          "output_type": "stream",
          "name": "stdout",
          "text": [
            "\n",
            " Downloading INTU...\n"
          ]
        },
        {
          "output_type": "stream",
          "name": "stderr",
          "text": [
            "[*********************100%%**********************]  1 of 1 completed\n",
            "[*********************100%%**********************]  1 of 1 completed\n",
            "[*********************100%%**********************]  1 of 1 completed\n",
            "[*********************100%%**********************]  1 of 1 completed\n",
            "[*********************100%%**********************]  1 of 1 completed"
          ]
        },
        {
          "output_type": "stream",
          "name": "stdout",
          "text": [
            "\n",
            " Downloading ISRG...\n"
          ]
        },
        {
          "output_type": "stream",
          "name": "stderr",
          "text": [
            "\n",
            "[*********************100%%**********************]  1 of 1 completed\n",
            "[*********************100%%**********************]  1 of 1 completed\n",
            "[*********************100%%**********************]  1 of 1 completed\n",
            "[*********************100%%**********************]  1 of 1 completed"
          ]
        },
        {
          "output_type": "stream",
          "name": "stdout",
          "text": [
            "\n",
            " Downloading JD...\n"
          ]
        },
        {
          "output_type": "stream",
          "name": "stderr",
          "text": [
            "\n",
            "[*********************100%%**********************]  1 of 1 completed\n",
            "[*********************100%%**********************]  1 of 1 completed\n",
            "[*********************100%%**********************]  1 of 1 completed\n",
            "[*********************100%%**********************]  1 of 1 completed"
          ]
        },
        {
          "output_type": "stream",
          "name": "stdout",
          "text": [
            "\n",
            " Downloading KDP...\n"
          ]
        },
        {
          "output_type": "stream",
          "name": "stderr",
          "text": [
            "\n",
            "[*********************100%%**********************]  1 of 1 completed\n",
            "[*********************100%%**********************]  1 of 1 completed\n",
            "[*********************100%%**********************]  1 of 1 completed\n",
            "[*********************100%%**********************]  1 of 1 completed\n",
            "[*********************100%%**********************]  1 of 1 completed"
          ]
        },
        {
          "output_type": "stream",
          "name": "stdout",
          "text": [
            "\n",
            " Downloading KHC...\n"
          ]
        },
        {
          "output_type": "stream",
          "name": "stderr",
          "text": [
            "\n",
            "[*********************100%%**********************]  1 of 1 completed\n",
            "[*********************100%%**********************]  1 of 1 completed\n",
            "[*********************100%%**********************]  1 of 1 completed\n",
            "[*********************100%%**********************]  1 of 1 completed"
          ]
        },
        {
          "output_type": "stream",
          "name": "stdout",
          "text": [
            "\n",
            " Downloading KLAC...\n"
          ]
        },
        {
          "output_type": "stream",
          "name": "stderr",
          "text": [
            "\n",
            "[*********************100%%**********************]  1 of 1 completed\n",
            "[*********************100%%**********************]  1 of 1 completed\n",
            "[*********************100%%**********************]  1 of 1 completed\n",
            "[*********************100%%**********************]  1 of 1 completed\n",
            "[*********************100%%**********************]  1 of 1 completed"
          ]
        },
        {
          "output_type": "stream",
          "name": "stdout",
          "text": [
            "\n",
            " Downloading LRCX...\n"
          ]
        },
        {
          "output_type": "stream",
          "name": "stderr",
          "text": [
            "\n",
            "[*********************100%%**********************]  1 of 1 completed\n",
            "[*********************100%%**********************]  1 of 1 completed\n",
            "[*********************100%%**********************]  1 of 1 completed"
          ]
        },
        {
          "output_type": "stream",
          "name": "stdout",
          "text": [
            "\n",
            " Downloading LULU...\n"
          ]
        },
        {
          "output_type": "stream",
          "name": "stderr",
          "text": [
            "\n",
            "[*********************100%%**********************]  1 of 1 completed\n",
            "[*********************100%%**********************]  1 of 1 completed\n",
            "[*********************100%%**********************]  1 of 1 completed"
          ]
        },
        {
          "output_type": "stream",
          "name": "stdout",
          "text": [
            "\n",
            " Downloading MAR...\n"
          ]
        },
        {
          "output_type": "stream",
          "name": "stderr",
          "text": [
            "\n",
            "[*********************100%%**********************]  1 of 1 completed\n",
            "[*********************100%%**********************]  1 of 1 completed\n",
            "[*********************100%%**********************]  1 of 1 completed\n"
          ]
        },
        {
          "output_type": "stream",
          "name": "stdout",
          "text": [
            "\n",
            " Downloading MCHP...\n"
          ]
        },
        {
          "output_type": "stream",
          "name": "stderr",
          "text": [
            "[*********************100%%**********************]  1 of 1 completed\n",
            "[*********************100%%**********************]  1 of 1 completed\n",
            "[*********************100%%**********************]  1 of 1 completed\n",
            "[*********************100%%**********************]  1 of 1 completed\n",
            "[*********************100%%**********************]  1 of 1 completed"
          ]
        },
        {
          "output_type": "stream",
          "name": "stdout",
          "text": [
            "\n",
            " Downloading MDLZ...\n"
          ]
        },
        {
          "output_type": "stream",
          "name": "stderr",
          "text": [
            "\n",
            "[*********************100%%**********************]  1 of 1 completed\n",
            "[*********************100%%**********************]  1 of 1 completed\n",
            "[*********************100%%**********************]  1 of 1 completed\n",
            "[*********************100%%**********************]  1 of 1 completed"
          ]
        },
        {
          "output_type": "stream",
          "name": "stdout",
          "text": [
            "\n",
            " Downloading MELI...\n"
          ]
        },
        {
          "output_type": "stream",
          "name": "stderr",
          "text": [
            "\n",
            "[*********************100%%**********************]  1 of 1 completed\n",
            "[*********************100%%**********************]  1 of 1 completed\n",
            "[*********************100%%**********************]  1 of 1 completed\n",
            "[*********************100%%**********************]  1 of 1 completed"
          ]
        },
        {
          "output_type": "stream",
          "name": "stdout",
          "text": [
            "\n",
            " Downloading MNST...\n"
          ]
        },
        {
          "output_type": "stream",
          "name": "stderr",
          "text": [
            "\n",
            "[*********************100%%**********************]  1 of 1 completed\n",
            "[*********************100%%**********************]  1 of 1 completed\n",
            "[*********************100%%**********************]  1 of 1 completed\n",
            "[*********************100%%**********************]  1 of 1 completed\n",
            "[*********************100%%**********************]  1 of 1 completed\n",
            "[*********************100%%**********************]  1 of 1 completed\n",
            "[*********************100%%**********************]  1 of 1 completed"
          ]
        },
        {
          "output_type": "stream",
          "name": "stdout",
          "text": [
            "\n",
            " Downloading MRNA...\n"
          ]
        },
        {
          "output_type": "stream",
          "name": "stderr",
          "text": [
            "\n",
            "[*********************100%%**********************]  1 of 1 completed\n",
            "[*********************100%%**********************]  1 of 1 completed"
          ]
        },
        {
          "output_type": "stream",
          "name": "stdout",
          "text": [
            "\n",
            " Downloading MRVL...\n"
          ]
        },
        {
          "output_type": "stream",
          "name": "stderr",
          "text": [
            "\n",
            "[*********************100%%**********************]  1 of 1 completed\n",
            "[*********************100%%**********************]  1 of 1 completed\n",
            "[*********************100%%**********************]  1 of 1 completed\n",
            "[*********************100%%**********************]  1 of 1 completed"
          ]
        },
        {
          "output_type": "stream",
          "name": "stdout",
          "text": [
            "\n",
            " Downloading MSFT...\n"
          ]
        },
        {
          "output_type": "stream",
          "name": "stderr",
          "text": [
            "\n",
            "[*********************100%%**********************]  1 of 1 completed\n",
            "[*********************100%%**********************]  1 of 1 completed\n",
            "[*********************100%%**********************]  1 of 1 completed\n",
            "[*********************100%%**********************]  1 of 1 completed"
          ]
        },
        {
          "output_type": "stream",
          "name": "stdout",
          "text": [
            "\n",
            " Downloading MTCH...\n"
          ]
        },
        {
          "output_type": "stream",
          "name": "stderr",
          "text": [
            "\n",
            "[*********************100%%**********************]  1 of 1 completed\n",
            "[*********************100%%**********************]  1 of 1 completed\n"
          ]
        },
        {
          "output_type": "stream",
          "name": "stdout",
          "text": [
            "\n",
            " Downloading MU...\n"
          ]
        },
        {
          "output_type": "stream",
          "name": "stderr",
          "text": [
            "[*********************100%%**********************]  1 of 1 completed\n",
            "[*********************100%%**********************]  1 of 1 completed\n",
            "[*********************100%%**********************]  1 of 1 completed\n",
            "[*********************100%%**********************]  1 of 1 completed\n",
            "[*********************100%%**********************]  1 of 1 completed"
          ]
        },
        {
          "output_type": "stream",
          "name": "stdout",
          "text": [
            "\n",
            " Downloading NFLX...\n"
          ]
        },
        {
          "output_type": "stream",
          "name": "stderr",
          "text": [
            "\n",
            "[*********************100%%**********************]  1 of 1 completed\n",
            "[*********************100%%**********************]  1 of 1 completed\n",
            "[*********************100%%**********************]  1 of 1 completed\n",
            "[*********************100%%**********************]  1 of 1 completed\n",
            "[*********************100%%**********************]  1 of 1 completed\n",
            "[*********************100%%**********************]  1 of 1 completed"
          ]
        },
        {
          "output_type": "stream",
          "name": "stdout",
          "text": [
            "\n",
            " Downloading NTES...\n"
          ]
        },
        {
          "output_type": "stream",
          "name": "stderr",
          "text": [
            "\n",
            "[*********************100%%**********************]  1 of 1 completed\n",
            "[*********************100%%**********************]  1 of 1 completed\n",
            "[*********************100%%**********************]  1 of 1 completed\n",
            "[*********************100%%**********************]  1 of 1 completed\n",
            "[*********************100%%**********************]  1 of 1 completed"
          ]
        },
        {
          "output_type": "stream",
          "name": "stdout",
          "text": [
            "\n",
            " Downloading NVDA...\n"
          ]
        },
        {
          "output_type": "stream",
          "name": "stderr",
          "text": [
            "\n",
            "[*********************100%%**********************]  1 of 1 completed\n",
            "[*********************100%%**********************]  1 of 1 completed\n",
            "[*********************100%%**********************]  1 of 1 completed"
          ]
        },
        {
          "output_type": "stream",
          "name": "stdout",
          "text": [
            "\n",
            " Downloading NXPI...\n"
          ]
        },
        {
          "output_type": "stream",
          "name": "stderr",
          "text": [
            "\n",
            "[*********************100%%**********************]  1 of 1 completed\n",
            "[*********************100%%**********************]  1 of 1 completed\n",
            "[*********************100%%**********************]  1 of 1 completed\n",
            "[*********************100%%**********************]  1 of 1 completed\n",
            "[*********************100%%**********************]  1 of 1 completed"
          ]
        },
        {
          "output_type": "stream",
          "name": "stdout",
          "text": [
            "\n",
            " Downloading OKTA...\n"
          ]
        },
        {
          "output_type": "stream",
          "name": "stderr",
          "text": [
            "\n",
            "[*********************100%%**********************]  1 of 1 completed\n",
            "[*********************100%%**********************]  1 of 1 completed\n",
            "[*********************100%%**********************]  1 of 1 completed\n",
            "[*********************100%%**********************]  1 of 1 completed"
          ]
        },
        {
          "output_type": "stream",
          "name": "stdout",
          "text": [
            "\n",
            " Downloading ORLY...\n"
          ]
        },
        {
          "output_type": "stream",
          "name": "stderr",
          "text": [
            "\n",
            "[*********************100%%**********************]  1 of 1 completed\n",
            "[*********************100%%**********************]  1 of 1 completed\n",
            "[*********************100%%**********************]  1 of 1 completed\n",
            "[*********************100%%**********************]  1 of 1 completed"
          ]
        },
        {
          "output_type": "stream",
          "name": "stdout",
          "text": [
            "\n",
            " Downloading PANW...\n"
          ]
        },
        {
          "output_type": "stream",
          "name": "stderr",
          "text": [
            "\n",
            "[*********************100%%**********************]  1 of 1 completed\n",
            "[*********************100%%**********************]  1 of 1 completed"
          ]
        },
        {
          "output_type": "stream",
          "name": "stdout",
          "text": [
            "\n",
            " Downloading PAYX...\n"
          ]
        },
        {
          "output_type": "stream",
          "name": "stderr",
          "text": [
            "\n",
            "[*********************100%%**********************]  1 of 1 completed\n",
            "[*********************100%%**********************]  1 of 1 completed\n",
            "[*********************100%%**********************]  1 of 1 completed\n",
            "[*********************100%%**********************]  1 of 1 completed\n",
            "[*********************100%%**********************]  1 of 1 completed"
          ]
        },
        {
          "output_type": "stream",
          "name": "stdout",
          "text": [
            "\n",
            " Downloading PCAR...\n"
          ]
        },
        {
          "output_type": "stream",
          "name": "stderr",
          "text": [
            "\n",
            "[*********************100%%**********************]  1 of 1 completed\n",
            "[*********************100%%**********************]  1 of 1 completed\n",
            "[*********************100%%**********************]  1 of 1 completed\n",
            "[*********************100%%**********************]  1 of 1 completed"
          ]
        },
        {
          "output_type": "stream",
          "name": "stdout",
          "text": [
            "\n",
            " Downloading PDD...\n"
          ]
        },
        {
          "output_type": "stream",
          "name": "stderr",
          "text": [
            "\n",
            "[*********************100%%**********************]  1 of 1 completed\n",
            "[*********************100%%**********************]  1 of 1 completed"
          ]
        },
        {
          "output_type": "stream",
          "name": "stdout",
          "text": [
            "\n",
            " Downloading PEP...\n"
          ]
        },
        {
          "output_type": "stream",
          "name": "stderr",
          "text": [
            "\n",
            "[*********************100%%**********************]  1 of 1 completed\n",
            "[*********************100%%**********************]  1 of 1 completed\n",
            "[*********************100%%**********************]  1 of 1 completed\n",
            "[*********************100%%**********************]  1 of 1 completed\n",
            "[*********************100%%**********************]  1 of 1 completed\n",
            "[*********************100%%**********************]  1 of 1 completed\n",
            "[*********************100%%**********************]  1 of 1 completed"
          ]
        },
        {
          "output_type": "stream",
          "name": "stdout",
          "text": [
            "\n",
            " Downloading PYPL...\n"
          ]
        },
        {
          "output_type": "stream",
          "name": "stderr",
          "text": [
            "\n",
            "[*********************100%%**********************]  1 of 1 completed\n",
            "[*********************100%%**********************]  1 of 1 completed\n",
            "[*********************100%%**********************]  1 of 1 completed"
          ]
        },
        {
          "output_type": "stream",
          "name": "stdout",
          "text": [
            "\n",
            " Downloading QCOM...\n"
          ]
        },
        {
          "output_type": "stream",
          "name": "stderr",
          "text": [
            "\n",
            "[*********************100%%**********************]  1 of 1 completed\n",
            "[*********************100%%**********************]  1 of 1 completed\n",
            "[*********************100%%**********************]  1 of 1 completed\n",
            "[*********************100%%**********************]  1 of 1 completed"
          ]
        },
        {
          "output_type": "stream",
          "name": "stdout",
          "text": [
            "\n",
            " Downloading REGN...\n"
          ]
        },
        {
          "output_type": "stream",
          "name": "stderr",
          "text": [
            "\n",
            "[*********************100%%**********************]  1 of 1 completed\n",
            "[*********************100%%**********************]  1 of 1 completed"
          ]
        },
        {
          "output_type": "stream",
          "name": "stdout",
          "text": [
            "\n",
            " Downloading ROST...\n"
          ]
        },
        {
          "output_type": "stream",
          "name": "stderr",
          "text": [
            "\n",
            "[*********************100%%**********************]  1 of 1 completed\n",
            "[*********************100%%**********************]  1 of 1 completed\n",
            "[*********************100%%**********************]  1 of 1 completed\n",
            "[*********************100%%**********************]  1 of 1 completed\n",
            "[*********************100%%**********************]  1 of 1 completed\n",
            "[*********************100%%**********************]  1 of 1 completed"
          ]
        },
        {
          "output_type": "stream",
          "name": "stdout",
          "text": [
            "\n",
            " Downloading SBUX...\n"
          ]
        },
        {
          "output_type": "stream",
          "name": "stderr",
          "text": [
            "\n",
            "[*********************100%%**********************]  1 of 1 completed\n",
            "[*********************100%%**********************]  1 of 1 completed\n",
            "[*********************100%%**********************]  1 of 1 completed"
          ]
        },
        {
          "output_type": "stream",
          "name": "stdout",
          "text": [
            "\n",
            " Downloading SIRI...\n"
          ]
        },
        {
          "output_type": "stream",
          "name": "stderr",
          "text": [
            "\n",
            "[*********************100%%**********************]  1 of 1 completed\n",
            "[*********************100%%**********************]  1 of 1 completed\n",
            "[*********************100%%**********************]  1 of 1 completed\n",
            "[*********************100%%**********************]  1 of 1 completed\n",
            "[*********************100%%**********************]  1 of 1 completed\n",
            "[*********************100%%**********************]  1 of 1 completed"
          ]
        },
        {
          "output_type": "stream",
          "name": "stdout",
          "text": [
            "\n",
            " Downloading SNPS...\n"
          ]
        },
        {
          "output_type": "stream",
          "name": "stderr",
          "text": [
            "\n",
            "[*********************100%%**********************]  1 of 1 completed\n",
            "[*********************100%%**********************]  1 of 1 completed\n",
            "[*********************100%%**********************]  1 of 1 completed\n",
            "[*********************100%%**********************]  1 of 1 completed"
          ]
        },
        {
          "output_type": "stream",
          "name": "stdout",
          "text": [
            "\n",
            " Downloading SPLK...\n"
          ]
        },
        {
          "output_type": "stream",
          "name": "stderr",
          "text": [
            "\n",
            "[*********************100%%**********************]  1 of 1 completed\n",
            "[*********************100%%**********************]  1 of 1 completed\n",
            "[*********************100%%**********************]  1 of 1 completed\n",
            "[*********************100%%**********************]  1 of 1 completed"
          ]
        },
        {
          "output_type": "stream",
          "name": "stdout",
          "text": [
            "\n",
            " Downloading SWKS...\n"
          ]
        },
        {
          "output_type": "stream",
          "name": "stderr",
          "text": [
            "\n",
            "[*********************100%%**********************]  1 of 1 completed\n",
            "[*********************100%%**********************]  1 of 1 completed\n",
            "[*********************100%%**********************]  1 of 1 completed\n",
            "[*********************100%%**********************]  1 of 1 completed"
          ]
        },
        {
          "output_type": "stream",
          "name": "stdout",
          "text": [
            "\n",
            " Downloading TEAM...\n"
          ]
        },
        {
          "output_type": "stream",
          "name": "stderr",
          "text": [
            "\n",
            "[*********************100%%**********************]  1 of 1 completed\n",
            "[*********************100%%**********************]  1 of 1 completed\n",
            "[*********************100%%**********************]  1 of 1 completed"
          ]
        },
        {
          "output_type": "stream",
          "name": "stdout",
          "text": [
            "\n",
            " Downloading TMUS...\n"
          ]
        },
        {
          "output_type": "stream",
          "name": "stderr",
          "text": [
            "\n",
            "[*********************100%%**********************]  1 of 1 completed\n",
            "[*********************100%%**********************]  1 of 1 completed\n",
            "[*********************100%%**********************]  1 of 1 completed\n",
            "[*********************100%%**********************]  1 of 1 completed\n",
            "[*********************100%%**********************]  1 of 1 completed"
          ]
        },
        {
          "output_type": "stream",
          "name": "stdout",
          "text": [
            "\n",
            " Downloading TSLA...\n"
          ]
        },
        {
          "output_type": "stream",
          "name": "stderr",
          "text": [
            "\n",
            "[*********************100%%**********************]  1 of 1 completed\n",
            "[*********************100%%**********************]  1 of 1 completed\n",
            "[*********************100%%**********************]  1 of 1 completed\n",
            "[*********************100%%**********************]  1 of 1 completed"
          ]
        },
        {
          "output_type": "stream",
          "name": "stdout",
          "text": [
            "\n",
            " Downloading TTWO...\n"
          ]
        },
        {
          "output_type": "stream",
          "name": "stderr",
          "text": [
            "\n",
            "[*********************100%%**********************]  1 of 1 completed\n",
            "[*********************100%%**********************]  1 of 1 completed\n",
            "[*********************100%%**********************]  1 of 1 completed"
          ]
        },
        {
          "output_type": "stream",
          "name": "stdout",
          "text": [
            "\n",
            " Downloading TXN...\n"
          ]
        },
        {
          "output_type": "stream",
          "name": "stderr",
          "text": [
            "\n",
            "[*********************100%%**********************]  1 of 1 completed\n",
            "[*********************100%%**********************]  1 of 1 completed\n",
            "[*********************100%%**********************]  1 of 1 completed\n",
            "[*********************100%%**********************]  1 of 1 completed"
          ]
        },
        {
          "output_type": "stream",
          "name": "stdout",
          "text": [
            "\n",
            " Downloading VRSK...\n"
          ]
        },
        {
          "output_type": "stream",
          "name": "stderr",
          "text": [
            "\n",
            "[*********************100%%**********************]  1 of 1 completed\n",
            "[*********************100%%**********************]  1 of 1 completed\n",
            "[*********************100%%**********************]  1 of 1 completed\n",
            "[*********************100%%**********************]  1 of 1 completed\n",
            "[*********************100%%**********************]  1 of 1 completed"
          ]
        },
        {
          "output_type": "stream",
          "name": "stdout",
          "text": [
            "\n",
            " Downloading VRSN...\n"
          ]
        },
        {
          "output_type": "stream",
          "name": "stderr",
          "text": [
            "\n",
            "[*********************100%%**********************]  1 of 1 completed\n",
            "[*********************100%%**********************]  1 of 1 completed\n",
            "[*********************100%%**********************]  1 of 1 completed\n",
            "[*********************100%%**********************]  1 of 1 completed"
          ]
        },
        {
          "output_type": "stream",
          "name": "stdout",
          "text": [
            "\n",
            " Downloading VRTX...\n"
          ]
        },
        {
          "output_type": "stream",
          "name": "stderr",
          "text": [
            "\n",
            "[*********************100%%**********************]  1 of 1 completed\n",
            "[*********************100%%**********************]  1 of 1 completed\n",
            "[*********************100%%**********************]  1 of 1 completed"
          ]
        },
        {
          "output_type": "stream",
          "name": "stdout",
          "text": [
            "\n",
            " Downloading WBA...\n"
          ]
        },
        {
          "output_type": "stream",
          "name": "stderr",
          "text": [
            "\n",
            "[*********************100%%**********************]  1 of 1 completed\n",
            "[*********************100%%**********************]  1 of 1 completed\n",
            "[*********************100%%**********************]  1 of 1 completed\n",
            "[*********************100%%**********************]  1 of 1 completed\n",
            "[*********************100%%**********************]  1 of 1 completed"
          ]
        },
        {
          "output_type": "stream",
          "name": "stdout",
          "text": [
            "\n",
            " Downloading WDAY...\n"
          ]
        },
        {
          "output_type": "stream",
          "name": "stderr",
          "text": [
            "\n",
            "[*********************100%%**********************]  1 of 1 completed\n",
            "[*********************100%%**********************]  1 of 1 completed\n",
            "[*********************100%%**********************]  1 of 1 completed"
          ]
        },
        {
          "output_type": "stream",
          "name": "stdout",
          "text": [
            "\n",
            " Downloading XEL...\n"
          ]
        },
        {
          "output_type": "stream",
          "name": "stderr",
          "text": [
            "\n",
            "[*********************100%%**********************]  1 of 1 completed\n",
            "[*********************100%%**********************]  1 of 1 completed\n",
            "[*********************100%%**********************]  1 of 1 completed\n",
            "[*********************100%%**********************]  1 of 1 completed\n",
            "[*********************100%%**********************]  1 of 1 completed"
          ]
        },
        {
          "output_type": "stream",
          "name": "stdout",
          "text": [
            "\n",
            " Downloading ZS...\n"
          ]
        },
        {
          "output_type": "stream",
          "name": "stderr",
          "text": [
            "\n",
            "[*********************100%%**********************]  1 of 1 completed\n",
            "[*********************100%%**********************]  1 of 1 completed\n",
            "[*********************100%%**********************]  1 of 1 completed"
          ]
        },
        {
          "output_type": "stream",
          "name": "stdout",
          "text": [
            "Analysis date and time = 13/03/2024 22:00:45\n",
            "\n",
            "====================================================\n",
            "\n",
            "List for Open-Close:\n",
            "   Ticker  Open-Close     Close       Eff  PWin_OC   PWin\n",
            "0    SIRI    0.883738  1.157782  0.763302    0.590  0.448\n",
            "1    NVDA    1.922939  4.003417  0.480324    0.564  0.597\n",
            "2    MCHP    0.736133  1.155165  0.637253    0.545  0.469\n",
            "3    QCOM    0.818799  1.551424  0.527772    0.537  0.597\n",
            "4    AVGO    0.926528  2.143304  0.432290    0.536  0.570\n",
            "5    SNPS    1.190727  1.614151  0.737680    0.533  0.600\n",
            "6    LRCX    0.872982  2.021996  0.431743    0.528  0.474\n",
            "7    PANW    0.839210  1.531630  0.547920    0.527  0.625\n",
            "8    REGN    0.909681  1.290085  0.705132    0.519  0.542\n",
            "9     TXN    0.709634  1.037564  0.683942    0.514  0.473\n",
            "10   CDNS    0.919026  1.585978  0.579470    0.509  0.600\n",
            "11     ZS    1.115436  1.831786  0.608934    0.509  0.586\n",
            "12   IDXX    0.833047  1.186410  0.702158    0.505  0.509\n",
            "13   PCAR    0.961498  1.681826  0.571699    0.500  0.569\n",
            "14   AMAT    0.910861  1.784409  0.510455    0.500  0.509\n",
            "15   VRTX    0.968535  1.405473  0.689117    0.500  0.533\n",
            "16     MU    1.049918  1.819942  0.576896    0.495  0.521\n",
            "17   FTNT    0.584349  1.203644  0.485483    0.495  0.534\n",
            "18   CPRT    0.911359  1.625147  0.560786    0.490  0.592\n",
            "19   PYPL    0.606233  0.826746  0.733277    0.490  0.483\n",
            "20    ADI    0.656552  1.112053  0.590397    0.486  0.526\n",
            "21   TSLA    0.674349  1.017538  0.662726    0.485  0.564\n",
            "22   ADSK    0.820977  1.328044  0.618185    0.481  0.590\n",
            "23   FAST    0.917224  1.500879  0.611124    0.476  0.557\n",
            "24   ADBE    0.908107  1.785981  0.508464    0.474  0.565\n",
            "25   MRVL    1.070092  1.898026  0.563792    0.472  0.521\n",
            "26   CTAS    0.899761  1.469060  0.612474    0.471  0.590\n",
            "27   LULU    1.201310  1.588529  0.756241    0.470  0.580\n",
            "28   INTU    0.791163  1.703774  0.464359    0.469  0.575\n",
            "29   AMGN    0.936460  1.225838  0.763935    0.469  0.490\n",
            "30   TEAM    0.607592  1.372916  0.442556    0.469  0.529\n",
            "31   PAYX    0.892354  1.167302  0.764458    0.466  0.500\n",
            "32   BKNG    0.854292  1.438752  0.593773    0.464  0.566\n",
            "33    EXC    0.796279  0.928270  0.857810    0.463  0.519\n",
            "34   OKTA    0.724417  1.346668  0.537933    0.463  0.504\n",
            "35   MSFT    0.991405  1.648899  0.601253    0.462  0.557\n",
            "36   SWKS    0.657297  1.008758  0.651590    0.462  0.514\n",
            "37   KLAC    0.915502  1.935650  0.472969    0.458  0.537\n",
            "38    ADP    0.844862  1.171899  0.720934    0.457  0.521\n",
            "39   NXPI    0.766755  1.502702  0.510251    0.457  0.488\n",
            "40   AAPL    0.637724  1.157404  0.550995    0.456  0.550\n",
            "41   DOCU    0.755828  1.102045  0.685842    0.456  0.588\n",
            "42     EA    0.811413  1.242944  0.652816    0.456  0.482\n",
            "43   MNST    1.014835  1.192584  0.850955    0.455  0.513\n",
            "44    WBA    0.727206  0.678231  1.072210    0.453  0.415\n",
            "45   TTWO    0.948638  1.298212  0.730726    0.451  0.587\n",
            "46   NFLX    1.319192  2.081973  0.633626    0.451  0.538\n",
            "47   WDAY    0.681631  1.496331  0.455535    0.449  0.487\n",
            "48   GOOG    0.700205  1.523238  0.459682    0.446  0.550\n",
            "49     JD    0.449801  0.692637  0.649403    0.441  0.500\n",
            "50   AMZN    1.036494  1.897544  0.546229    0.441  0.504\n",
            "51   MELI    0.999958  1.329709  0.752013    0.441  0.530\n",
            "52    XEL    0.783479  0.821985  0.953155    0.440  0.471\n",
            "53  GOOGL    0.707981  1.520140  0.465734    0.435  0.557\n",
            "54   VRSN    0.703215  1.003765  0.700578    0.434  0.509\n",
            "55   NTES    0.608582  1.319505  0.461220    0.433  0.540\n",
            "56   EBAY    0.722203  1.267627  0.569728    0.432  0.513\n",
            "57   ORLY    0.812867  1.337766  0.607631    0.432  0.602\n",
            "58   INTC    0.830821  1.702139  0.488104    0.427  0.592\n",
            "59   DLTR    0.782522  1.052007  0.743837    0.426  0.495\n",
            "60   ROST    0.920083  1.429021  0.643855    0.423  0.559\n",
            "61    AMD    1.053209  2.472381  0.425990    0.422  0.496\n",
            "62    HON    0.872111  1.054207  0.827268    0.417  0.514\n",
            "63   DXCM    1.145236  1.223387  0.936119    0.417  0.473\n",
            "64    PEP    0.870462  0.975248  0.892554    0.416  0.527\n",
            "65    MAR    0.829931  1.577483  0.526111    0.413  0.579\n",
            "66   BMRN    0.811379  0.946234  0.857482    0.411  0.459\n",
            "67   ASML    0.854078  1.642929  0.519851    0.411  0.517\n",
            "68   VRSK    0.860765  1.323845  0.650201    0.409  0.579\n",
            "69   SBUX    0.844801  0.953099  0.886373    0.407  0.452\n",
            "70    KDP    0.848507  0.877365  0.967108    0.404  0.481\n",
            "71   CHTR    0.666617  0.879019  0.758364    0.404  0.491\n",
            "72    PDD    0.684864  1.296040  0.528428    0.402  0.526\n",
            "73   MRNA    0.642776  0.746653  0.860876    0.402  0.462\n",
            "74   BIDU    0.440859  0.787654  0.559711    0.400  0.448\n",
            "75   MTCH    0.991908  0.964070  1.028876    0.400  0.442\n",
            "76   ISRG    1.003099  1.709544  0.586764    0.398  0.579\n",
            "77   COST    0.874980  1.608345  0.544025    0.398  0.644\n",
            "78   TMUS    0.764118  1.181203  0.646898    0.398  0.587\n",
            "79   ALGN    0.693714  0.985004  0.704276    0.391  0.472\n",
            "80  CMCSA    0.855368  1.250611  0.683960    0.390  0.496\n",
            "81   ILMN    0.627814  0.584780  1.073590    0.388  0.402\n",
            "82   CTSH    0.783142  1.352218  0.579154    0.380  0.509\n",
            "83   CSCO    0.570709  1.065774  0.535488    0.365  0.557\n",
            "84    CSX    0.831693  1.319483  0.630317    0.364  0.517\n",
            "85   GILD    0.702656  0.980759  0.716441    0.360  0.500\n",
            "86    KHC    0.822888  0.949666  0.866503    0.356  0.427\n",
            "87   SPLK    1.021922  1.751286  0.583527    0.352  0.530\n",
            "88   MDLZ    0.828350  1.119788  0.739738    0.349  0.526\n",
            "89   BIIB    0.821023  0.879366  0.933654    0.348  0.481\n",
            "\n",
            "====================================================\n",
            "\n",
            "List for Long:\n",
            "   Ticker  Open-Close     Close       Eff  PWin_OC   PWin\n",
            "0    COST    0.874980  1.608345  0.544025    0.398  0.644\n",
            "1    PANW    0.839210  1.531630  0.547920    0.527  0.625\n",
            "2    ORLY    0.812867  1.337766  0.607631    0.432  0.602\n",
            "3    CDNS    0.919026  1.585978  0.579470    0.509  0.600\n",
            "4    SNPS    1.190727  1.614151  0.737680    0.533  0.600\n",
            "5    NVDA    1.922939  4.003417  0.480324    0.564  0.597\n",
            "6    QCOM    0.818799  1.551424  0.527772    0.537  0.597\n",
            "7    INTC    0.830821  1.702139  0.488104    0.427  0.592\n",
            "8    CPRT    0.911359  1.625147  0.560786    0.490  0.592\n",
            "9    ADSK    0.820977  1.328044  0.618185    0.481  0.590\n",
            "10   CTAS    0.899761  1.469060  0.612474    0.471  0.590\n",
            "11   DOCU    0.755828  1.102045  0.685842    0.456  0.588\n",
            "12   TTWO    0.948638  1.298212  0.730726    0.451  0.587\n",
            "13   TMUS    0.764118  1.181203  0.646898    0.398  0.587\n",
            "14     ZS    1.115436  1.831786  0.608934    0.509  0.586\n",
            "15   LULU    1.201310  1.588529  0.756241    0.470  0.580\n",
            "16    MAR    0.829931  1.577483  0.526111    0.413  0.579\n",
            "17   ISRG    1.003099  1.709544  0.586764    0.398  0.579\n",
            "18   VRSK    0.860765  1.323845  0.650201    0.409  0.579\n",
            "19   INTU    0.791163  1.703774  0.464359    0.469  0.575\n",
            "20   AVGO    0.926528  2.143304  0.432290    0.536  0.570\n",
            "21   PCAR    0.961498  1.681826  0.571699    0.500  0.569\n",
            "22   BKNG    0.854292  1.438752  0.593773    0.464  0.566\n",
            "23   ADBE    0.908107  1.785981  0.508464    0.474  0.565\n",
            "24   TSLA    0.674349  1.017538  0.662726    0.485  0.564\n",
            "25   ROST    0.920083  1.429021  0.643855    0.423  0.559\n",
            "26   FAST    0.917224  1.500879  0.611124    0.476  0.557\n",
            "27   MSFT    0.991405  1.648899  0.601253    0.462  0.557\n",
            "28   CSCO    0.570709  1.065774  0.535488    0.365  0.557\n",
            "29  GOOGL    0.707981  1.520140  0.465734    0.435  0.557\n",
            "30   GOOG    0.700205  1.523238  0.459682    0.446  0.550\n",
            "31   AAPL    0.637724  1.157404  0.550995    0.456  0.550\n",
            "32   REGN    0.909681  1.290085  0.705132    0.519  0.542\n",
            "33   NTES    0.608582  1.319505  0.461220    0.433  0.540\n",
            "34   NFLX    1.319192  2.081973  0.633626    0.451  0.538\n",
            "35   KLAC    0.915502  1.935650  0.472969    0.458  0.537\n",
            "36   FTNT    0.584349  1.203644  0.485483    0.495  0.534\n",
            "37   VRTX    0.968535  1.405473  0.689117    0.500  0.533\n",
            "38   SPLK    1.021922  1.751286  0.583527    0.352  0.530\n",
            "39   MELI    0.999958  1.329709  0.752013    0.441  0.530\n",
            "40   TEAM    0.607592  1.372916  0.442556    0.469  0.529\n",
            "41    PEP    0.870462  0.975248  0.892554    0.416  0.527\n",
            "42    PDD    0.684864  1.296040  0.528428    0.402  0.526\n",
            "43    ADI    0.656552  1.112053  0.590397    0.486  0.526\n",
            "44   MDLZ    0.828350  1.119788  0.739738    0.349  0.526\n",
            "45   MRVL    1.070092  1.898026  0.563792    0.472  0.521\n",
            "46    ADP    0.844862  1.171899  0.720934    0.457  0.521\n",
            "47     MU    1.049918  1.819942  0.576896    0.495  0.521\n",
            "48    EXC    0.796279  0.928270  0.857810    0.463  0.519\n",
            "49   ASML    0.854078  1.642929  0.519851    0.411  0.517\n",
            "50    CSX    0.831693  1.319483  0.630317    0.364  0.517\n",
            "51    HON    0.872111  1.054207  0.827268    0.417  0.514\n",
            "52   SWKS    0.657297  1.008758  0.651590    0.462  0.514\n",
            "53   MNST    1.014835  1.192584  0.850955    0.455  0.513\n",
            "54   EBAY    0.722203  1.267627  0.569728    0.432  0.513\n",
            "55   AMAT    0.910861  1.784409  0.510455    0.500  0.509\n",
            "56   CTSH    0.783142  1.352218  0.579154    0.380  0.509\n",
            "57   VRSN    0.703215  1.003765  0.700578    0.434  0.509\n",
            "58   IDXX    0.833047  1.186410  0.702158    0.505  0.509\n",
            "59   AMZN    1.036494  1.897544  0.546229    0.441  0.504\n",
            "60   OKTA    0.724417  1.346668  0.537933    0.463  0.504\n",
            "61   GILD    0.702656  0.980759  0.716441    0.360  0.500\n",
            "62     JD    0.449801  0.692637  0.649403    0.441  0.500\n",
            "63   PAYX    0.892354  1.167302  0.764458    0.466  0.500\n",
            "64  CMCSA    0.855368  1.250611  0.683960    0.390  0.496\n",
            "65    AMD    1.053209  2.472381  0.425990    0.422  0.496\n",
            "66   DLTR    0.782522  1.052007  0.743837    0.426  0.495\n",
            "67   CHTR    0.666617  0.879019  0.758364    0.404  0.491\n",
            "68   AMGN    0.936460  1.225838  0.763935    0.469  0.490\n",
            "69   NXPI    0.766755  1.502702  0.510251    0.457  0.488\n",
            "70   WDAY    0.681631  1.496331  0.455535    0.449  0.487\n",
            "71   PYPL    0.606233  0.826746  0.733277    0.490  0.483\n",
            "72     EA    0.811413  1.242944  0.652816    0.456  0.482\n",
            "73    KDP    0.848507  0.877365  0.967108    0.404  0.481\n",
            "74   BIIB    0.821023  0.879366  0.933654    0.348  0.481\n",
            "75   LRCX    0.872982  2.021996  0.431743    0.528  0.474\n",
            "76    TXN    0.709634  1.037564  0.683942    0.514  0.473\n",
            "77   DXCM    1.145236  1.223387  0.936119    0.417  0.473\n",
            "78   ALGN    0.693714  0.985004  0.704276    0.391  0.472\n",
            "79    XEL    0.783479  0.821985  0.953155    0.440  0.471\n",
            "80   MCHP    0.736133  1.155165  0.637253    0.545  0.469\n",
            "81   MRNA    0.642776  0.746653  0.860876    0.402  0.462\n",
            "82   BMRN    0.811379  0.946234  0.857482    0.411  0.459\n",
            "83   SBUX    0.844801  0.953099  0.886373    0.407  0.452\n",
            "84   BIDU    0.440859  0.787654  0.559711    0.400  0.448\n",
            "85   SIRI    0.883738  1.157782  0.763302    0.590  0.448\n",
            "86   MTCH    0.991908  0.964070  1.028876    0.400  0.442\n",
            "87    KHC    0.822888  0.949666  0.866503    0.356  0.427\n",
            "88    WBA    0.727206  0.678231  1.072210    0.453  0.415\n",
            "89   ILMN    0.627814  0.584780  1.073590    0.388  0.402\n",
            "\n",
            "====================================================\n",
            "\n",
            "Showing Ticker Stats for COST : \n",
            "\n",
            "====================================================\n",
            "\n",
            "====================================================\n",
            "\n",
            "Updating data for COST\n",
            "\n",
            "====================================================\n"
          ]
        },
        {
          "output_type": "stream",
          "name": "stderr",
          "text": [
            "\n",
            "[*********************100%%**********************]  1 of 1 completed\n",
            "[*********************100%%**********************]  1 of 1 completed\n",
            "[*********************100%%**********************]  1 of 1 completed\n",
            "[*********************100%%**********************]  1 of 1 completed\n",
            "[*********************100%%**********************]  1 of 1 completed\n",
            "[*********************100%%**********************]  1 of 1 completed\n",
            "[*********************100%%**********************]  1 of 1 completed"
          ]
        },
        {
          "output_type": "stream",
          "name": "stdout",
          "text": [
            "\n",
            "====================================================\n",
            "\n",
            "Showing Ticker Stats for PANW : \n",
            "\n",
            "====================================================\n",
            "\n",
            "====================================================\n",
            "\n",
            "Updating data for PANW\n",
            "\n",
            "====================================================\n",
            "\n",
            "====================================================\n",
            "\n",
            "Showing Ticker Stats for ORLY : \n",
            "\n",
            "====================================================\n",
            "\n",
            "====================================================\n",
            "\n",
            "Updating data for ORLY\n",
            "\n",
            "====================================================\n"
          ]
        },
        {
          "output_type": "stream",
          "name": "stderr",
          "text": [
            "\n",
            "[*********************100%%**********************]  1 of 1 completed\n",
            "[*********************100%%**********************]  1 of 1 completed\n",
            "[*********************100%%**********************]  1 of 1 completed\n",
            "[*********************100%%**********************]  1 of 1 completed\n",
            "[*********************100%%**********************]  1 of 1 completed\n",
            "[*********************100%%**********************]  1 of 1 completed\n"
          ]
        },
        {
          "output_type": "stream",
          "name": "stdout",
          "text": [
            "\n",
            "====================================================\n",
            "\n",
            "Showing Ticker Stats for CDNS : \n",
            "\n",
            "====================================================\n",
            "\n",
            "====================================================\n",
            "\n",
            "Updating data for CDNS\n",
            "\n",
            "====================================================\n",
            "\n",
            "====================================================\n",
            "\n",
            "Showing Ticker Stats for SNPS : \n",
            "\n",
            "====================================================\n",
            "\n",
            "====================================================\n",
            "\n",
            "Updating data for SNPS\n",
            "\n",
            "====================================================\n"
          ]
        },
        {
          "output_type": "stream",
          "name": "stderr",
          "text": [
            "[*********************100%%**********************]  1 of 1 completed\n",
            "[*********************100%%**********************]  1 of 1 completed\n",
            "[*********************100%%**********************]  1 of 1 completed\n",
            "[*********************100%%**********************]  1 of 1 completed\n",
            "[*********************100%%**********************]  1 of 1 completed\n",
            "[*********************100%%**********************]  1 of 1 completed\n",
            "[*********************100%%**********************]  1 of 1 completed\n",
            "[*********************100%%**********************]  1 of 1 completed\n",
            "[*********************100%%**********************]  1 of 1 completed\n"
          ]
        },
        {
          "output_type": "stream",
          "name": "stdout",
          "text": [
            "\n",
            "====================================================\n",
            "\n",
            "Showing Ticker Stats for NVDA : \n",
            "\n",
            "====================================================\n",
            "\n",
            "====================================================\n",
            "\n",
            "Updating data for NVDA\n",
            "\n",
            "====================================================\n",
            "\n",
            "====================================================\n",
            "\n",
            "Showing Ticker Stats for QCOM : \n",
            "\n",
            "====================================================\n",
            "\n",
            "====================================================\n",
            "\n",
            "Updating data for QCOM\n",
            "\n",
            "====================================================\n"
          ]
        },
        {
          "output_type": "stream",
          "name": "stderr",
          "text": [
            "[*********************100%%**********************]  1 of 1 completed\n",
            "[*********************100%%**********************]  1 of 1 completed\n",
            "[*********************100%%**********************]  1 of 1 completed\n",
            "[*********************100%%**********************]  1 of 1 completed\n",
            "[*********************100%%**********************]  1 of 1 completed\n",
            "[*********************100%%**********************]  1 of 1 completed\n",
            "[*********************100%%**********************]  1 of 1 completed\n"
          ]
        },
        {
          "output_type": "stream",
          "name": "stdout",
          "text": [
            "\n",
            "====================================================\n",
            "\n",
            "Showing Ticker Stats for INTC : \n",
            "\n",
            "====================================================\n",
            "\n",
            "====================================================\n",
            "\n",
            "Updating data for INTC\n",
            "\n",
            "====================================================\n",
            "\n",
            "====================================================\n",
            "\n",
            "Showing Ticker Stats for CPRT : \n",
            "\n",
            "====================================================\n",
            "\n",
            "====================================================\n",
            "\n",
            "Updating data for CPRT\n",
            "\n",
            "====================================================\n"
          ]
        },
        {
          "output_type": "stream",
          "name": "stderr",
          "text": [
            "[*********************100%%**********************]  1 of 1 completed\n",
            "[*********************100%%**********************]  1 of 1 completed\n",
            "[*********************100%%**********************]  1 of 1 completed\n",
            "[*********************100%%**********************]  1 of 1 completed\n",
            "[*********************100%%**********************]  1 of 1 completed\n",
            "[*********************100%%**********************]  1 of 1 completed\n",
            "[*********************100%%**********************]  1 of 1 completed\n"
          ]
        },
        {
          "output_type": "stream",
          "name": "stdout",
          "text": [
            "\n",
            "====================================================\n",
            "\n",
            "Showing Ticker Stats for ADSK : \n",
            "\n",
            "====================================================\n",
            "\n",
            "====================================================\n",
            "\n",
            "Updating data for ADSK\n",
            "\n",
            "====================================================\n"
          ]
        },
        {
          "output_type": "stream",
          "name": "stderr",
          "text": [
            "[*********************100%%**********************]  1 of 1 completed\n",
            "[*********************100%%**********************]  1 of 1 completed\n",
            "[*********************100%%**********************]  1 of 1 completed\n"
          ]
        },
        {
          "output_type": "stream",
          "name": "stdout",
          "text": [
            "\n",
            "====================================================\n",
            "\n",
            "Showing Ticker Stats for CTAS : \n",
            "\n",
            "====================================================\n",
            "\n",
            "====================================================\n",
            "\n",
            "Updating data for CTAS\n",
            "\n",
            "====================================================\n"
          ]
        },
        {
          "output_type": "stream",
          "name": "stderr",
          "text": [
            "[*********************100%%**********************]  1 of 1 completed\n",
            "[*********************100%%**********************]  1 of 1 completed\n",
            "[*********************100%%**********************]  1 of 1 completed\n",
            "[*********************100%%**********************]  1 of 1 completed\n",
            "[*********************100%%**********************]  1 of 1 completed\n",
            "[*********************100%%**********************]  1 of 1 completed\n"
          ]
        },
        {
          "output_type": "stream",
          "name": "stdout",
          "text": [
            "\n",
            "====================================================\n",
            "\n",
            "Showing Ticker Stats for DOCU : \n",
            "\n",
            "====================================================\n",
            "\n",
            "====================================================\n",
            "\n",
            "Updating data for DOCU\n",
            "\n",
            "====================================================\n",
            "\n",
            "====================================================\n",
            "\n",
            "Showing Ticker Stats for TTWO : \n",
            "\n",
            "===================================================="
          ]
        },
        {
          "output_type": "stream",
          "name": "stderr",
          "text": [
            "[*********************100%%**********************]  1 of 1 completed\n",
            "[*********************100%%**********************]  1 of 1 completed\n",
            "[*********************100%%**********************]  1 of 1 completed\n",
            "[*********************100%%**********************]  1 of 1 completed\n",
            "[*********************100%%**********************]  1 of 1 completed"
          ]
        },
        {
          "output_type": "stream",
          "name": "stdout",
          "text": [
            "\n",
            "\n",
            "====================================================\n",
            "\n",
            "Updating data for TTWO\n",
            "\n",
            "====================================================\n",
            "\n",
            "====================================================\n",
            "\n",
            "Showing Ticker Stats for TMUS : \n",
            "\n",
            "====================================================\n",
            "\n",
            "====================================================\n",
            "\n",
            "Updating data for TMUS\n",
            "\n",
            "====================================================\n"
          ]
        },
        {
          "output_type": "stream",
          "name": "stderr",
          "text": [
            "\n",
            "[*********************100%%**********************]  1 of 1 completed\n",
            "[*********************100%%**********************]  1 of 1 completed\n",
            "[*********************100%%**********************]  1 of 1 completed\n",
            "[*********************100%%**********************]  1 of 1 completed\n",
            "[*********************100%%**********************]  1 of 1 completed\n",
            "[*********************100%%**********************]  1 of 1 completed\n",
            "[*********************100%%**********************]  1 of 1 completed\n",
            "[*********************100%%**********************]  1 of 1 completed\n"
          ]
        },
        {
          "output_type": "stream",
          "name": "stdout",
          "text": [
            "\n",
            "====================================================\n",
            "\n",
            "Showing Ticker Stats for ZS : \n",
            "\n",
            "====================================================\n",
            "\n",
            "====================================================\n",
            "\n",
            "Updating data for ZS\n",
            "\n",
            "====================================================\n",
            "\n",
            "====================================================\n",
            "\n",
            "Showing Ticker Stats for LULU : \n",
            "\n",
            "====================================================\n",
            "\n",
            "====================================================\n",
            "\n",
            "Updating data for LULU\n",
            "\n",
            "====================================================\n"
          ]
        },
        {
          "output_type": "stream",
          "name": "stderr",
          "text": [
            "[*********************100%%**********************]  1 of 1 completed\n",
            "[*********************100%%**********************]  1 of 1 completed\n",
            "[*********************100%%**********************]  1 of 1 completed\n",
            "[*********************100%%**********************]  1 of 1 completed\n",
            "[*********************100%%**********************]  1 of 1 completed\n",
            "[*********************100%%**********************]  1 of 1 completed\n",
            "[*********************100%%**********************]  1 of 1 completed\n",
            "[*********************100%%**********************]  1 of 1 completed\n"
          ]
        },
        {
          "output_type": "stream",
          "name": "stdout",
          "text": [
            "\n",
            "====================================================\n",
            "\n",
            "Showing Ticker Stats for MAR : \n",
            "\n",
            "====================================================\n",
            "\n",
            "====================================================\n",
            "\n",
            "Updating data for MAR\n",
            "\n",
            "====================================================\n",
            "\n",
            "====================================================\n",
            "\n",
            "Showing Ticker Stats for ISRG : \n",
            "\n",
            "====================================================\n",
            "\n",
            "====================================================\n",
            "\n",
            "Updating data for ISRG\n",
            "\n",
            "====================================================\n"
          ]
        },
        {
          "output_type": "stream",
          "name": "stderr",
          "text": [
            "[*********************100%%**********************]  1 of 1 completed\n",
            "[*********************100%%**********************]  1 of 1 completed\n",
            "[*********************100%%**********************]  1 of 1 completed\n",
            "[*********************100%%**********************]  1 of 1 completed\n",
            "[*********************100%%**********************]  1 of 1 completed\n",
            "[*********************100%%**********************]  1 of 1 completed\n",
            "[*********************100%%**********************]  1 of 1 completed\n",
            "[*********************100%%**********************]  1 of 1 completed"
          ]
        },
        {
          "output_type": "stream",
          "name": "stdout",
          "text": [
            "\n",
            "====================================================\n",
            "\n",
            "Showing Ticker Stats for VRSK : \n",
            "\n",
            "====================================================\n",
            "\n",
            "====================================================\n",
            "\n",
            "Updating data for VRSK\n",
            "\n",
            "====================================================\n",
            "\n",
            "====================================================\n",
            "\n",
            "Showing Ticker Stats for INTU : \n",
            "\n",
            "====================================================\n",
            "\n",
            "====================================================\n",
            "\n",
            "Updating data for INTU\n",
            "\n",
            "====================================================\n"
          ]
        },
        {
          "output_type": "stream",
          "name": "stderr",
          "text": [
            "\n",
            "[*********************100%%**********************]  1 of 1 completed\n",
            "[*********************100%%**********************]  1 of 1 completed\n",
            "[*********************100%%**********************]  1 of 1 completed\n",
            "[*********************100%%**********************]  1 of 1 completed\n",
            "[*********************100%%**********************]  1 of 1 completed\n",
            "[*********************100%%**********************]  1 of 1 completed\n"
          ]
        },
        {
          "output_type": "stream",
          "name": "stdout",
          "text": [
            "\n",
            "====================================================\n",
            "\n",
            "Showing Ticker Stats for AVGO : \n",
            "\n",
            "====================================================\n",
            "\n",
            "====================================================\n",
            "\n",
            "Updating data for AVGO\n",
            "\n",
            "====================================================\n"
          ]
        },
        {
          "output_type": "stream",
          "name": "stderr",
          "text": [
            "[*********************100%%**********************]  1 of 1 completed\n",
            "[*********************100%%**********************]  1 of 1 completed\n",
            "[*********************100%%**********************]  1 of 1 completed\n",
            "[*********************100%%**********************]  1 of 1 completed\n",
            "[*********************100%%**********************]  1 of 1 completed\n"
          ]
        },
        {
          "output_type": "stream",
          "name": "stdout",
          "text": [
            "\n",
            "====================================================\n",
            "\n",
            "Showing Ticker Stats for PCAR : \n",
            "\n",
            "====================================================\n",
            "\n",
            "====================================================\n",
            "\n",
            "Updating data for PCAR\n",
            "\n",
            "====================================================\n",
            "\n",
            "====================================================\n",
            "\n",
            "Showing Ticker Stats for BKNG : \n",
            "\n",
            "====================================================\n",
            "\n",
            "====================================================\n",
            "\n",
            "Updating data for BKNG\n",
            "\n",
            "====================================================\n"
          ]
        },
        {
          "output_type": "stream",
          "name": "stderr",
          "text": [
            "[*********************100%%**********************]  1 of 1 completed\n",
            "[*********************100%%**********************]  1 of 1 completed\n",
            "[*********************100%%**********************]  1 of 1 completed\n",
            "[*********************100%%**********************]  1 of 1 completed\n",
            "[*********************100%%**********************]  1 of 1 completed\n",
            "[*********************100%%**********************]  1 of 1 completed\n",
            "[*********************100%%**********************]  1 of 1 completed\n"
          ]
        },
        {
          "output_type": "stream",
          "name": "stdout",
          "text": [
            "\n",
            "====================================================\n",
            "\n",
            "Showing Ticker Stats for ADBE : \n",
            "\n",
            "====================================================\n",
            "\n",
            "====================================================\n",
            "\n",
            "Updating data for ADBE\n",
            "\n",
            "====================================================\n"
          ]
        },
        {
          "output_type": "stream",
          "name": "stderr",
          "text": [
            "[*********************100%%**********************]  1 of 1 completed\n",
            "[*********************100%%**********************]  1 of 1 completed\n",
            "[*********************100%%**********************]  1 of 1 completed\n",
            "[*********************100%%**********************]  1 of 1 completed\n",
            "[*********************100%%**********************]  1 of 1 completed\n",
            "[*********************100%%**********************]  1 of 1 completed\n"
          ]
        },
        {
          "output_type": "stream",
          "name": "stdout",
          "text": [
            "\n",
            "====================================================\n",
            "\n",
            "Showing Ticker Stats for TSLA : \n",
            "\n",
            "====================================================\n",
            "\n",
            "====================================================\n",
            "\n",
            "Updating data for TSLA\n",
            "\n",
            "====================================================\n",
            "\n",
            "====================================================\n",
            "\n",
            "Showing Ticker Stats for ROST : \n",
            "\n",
            "====================================================\n",
            "\n",
            "====================================================\n",
            "\n",
            "Updating data for ROST\n",
            "\n",
            "====================================================\n"
          ]
        },
        {
          "output_type": "stream",
          "name": "stderr",
          "text": [
            "[*********************100%%**********************]  1 of 1 completed\n",
            "[*********************100%%**********************]  1 of 1 completed\n",
            "[*********************100%%**********************]  1 of 1 completed\n",
            "[*********************100%%**********************]  1 of 1 completed\n",
            "[*********************100%%**********************]  1 of 1 completed\n",
            "[*********************100%%**********************]  1 of 1 completed"
          ]
        },
        {
          "output_type": "stream",
          "name": "stdout",
          "text": [
            "\n",
            "====================================================\n",
            "\n",
            "Showing Ticker Stats for FAST : \n",
            "\n",
            "====================================================\n",
            "\n",
            "====================================================\n",
            "\n",
            "Updating data for FAST\n",
            "\n",
            "====================================================\n"
          ]
        },
        {
          "output_type": "stream",
          "name": "stderr",
          "text": [
            "\n",
            "[*********************100%%**********************]  1 of 1 completed\n",
            "[*********************100%%**********************]  1 of 1 completed\n",
            "[*********************100%%**********************]  1 of 1 completed\n",
            "[*********************100%%**********************]  1 of 1 completed\n",
            "[*********************100%%**********************]  1 of 1 completed\n"
          ]
        },
        {
          "output_type": "stream",
          "name": "stdout",
          "text": [
            "\n",
            "====================================================\n",
            "\n",
            "Showing Ticker Stats for MSFT : \n",
            "\n",
            "====================================================\n",
            "\n",
            "====================================================\n",
            "\n",
            "Updating data for MSFT\n",
            "\n",
            "====================================================\n",
            "\n",
            "====================================================\n",
            "\n",
            "Showing Ticker Stats for CSCO : \n",
            "\n",
            "====================================================\n",
            "\n",
            "====================================================\n",
            "\n",
            "Updating data for CSCO\n",
            "\n",
            "====================================================\n"
          ]
        },
        {
          "output_type": "stream",
          "name": "stderr",
          "text": [
            "[*********************100%%**********************]  1 of 1 completed\n",
            "[*********************100%%**********************]  1 of 1 completed\n",
            "[*********************100%%**********************]  1 of 1 completed\n",
            "[*********************100%%**********************]  1 of 1 completed\n",
            "[*********************100%%**********************]  1 of 1 completed\n",
            "[*********************100%%**********************]  1 of 1 completed\n",
            "[*********************100%%**********************]  1 of 1 completed\n",
            "[*********************100%%**********************]  1 of 1 completed\n"
          ]
        },
        {
          "output_type": "stream",
          "name": "stdout",
          "text": [
            "\n",
            "====================================================\n",
            "\n",
            "Showing Ticker Stats for GOOGL : \n",
            "\n",
            "====================================================\n",
            "\n",
            "====================================================\n",
            "\n",
            "Updating data for GOOGL\n",
            "\n",
            "====================================================\n",
            "\n",
            "====================================================\n",
            "\n",
            "Showing Ticker Stats for GOOG : \n",
            "\n",
            "===================================================="
          ]
        },
        {
          "output_type": "stream",
          "name": "stderr",
          "text": [
            "[*********************100%%**********************]  1 of 1 completed\n",
            "[*********************100%%**********************]  1 of 1 completed\n",
            "[*********************100%%**********************]  1 of 1 completed\n",
            "[*********************100%%**********************]  1 of 1 completed\n"
          ]
        },
        {
          "output_type": "stream",
          "name": "stdout",
          "text": [
            "\n",
            "\n",
            "====================================================\n",
            "\n",
            "Updating data for GOOG\n",
            "\n",
            "====================================================\n",
            "\n",
            "====================================================\n",
            "\n",
            "Showing Ticker Stats for AAPL : \n",
            "\n",
            "====================================================\n",
            "\n",
            "====================================================\n",
            "\n",
            "Updating data for AAPL\n",
            "\n",
            "====================================================\n"
          ]
        },
        {
          "output_type": "stream",
          "name": "stderr",
          "text": [
            "[*********************100%%**********************]  1 of 1 completed\n",
            "[*********************100%%**********************]  1 of 1 completed\n",
            "[*********************100%%**********************]  1 of 1 completed\n",
            "[*********************100%%**********************]  1 of 1 completed\n",
            "[*********************100%%**********************]  1 of 1 completed\n",
            "[*********************100%%**********************]  1 of 1 completed\n",
            "[*********************100%%**********************]  1 of 1 completed\n",
            "[*********************100%%**********************]  1 of 1 completed\n"
          ]
        },
        {
          "output_type": "stream",
          "name": "stdout",
          "text": [
            "\n",
            "====================================================\n",
            "\n",
            "Showing Ticker Stats for REGN : \n",
            "\n",
            "====================================================\n",
            "\n",
            "====================================================\n",
            "\n",
            "Updating data for REGN\n",
            "\n",
            "====================================================\n",
            "\n",
            "====================================================\n",
            "\n",
            "Showing Ticker Stats for NTES : \n",
            "\n",
            "====================================================\n",
            "\n",
            "====================================================\n",
            "\n",
            "Updating data for NTES\n",
            "\n",
            "====================================================\n"
          ]
        },
        {
          "output_type": "stream",
          "name": "stderr",
          "text": [
            "[*********************100%%**********************]  1 of 1 completed\n",
            "[*********************100%%**********************]  1 of 1 completed\n",
            "[*********************100%%**********************]  1 of 1 completed\n",
            "[*********************100%%**********************]  1 of 1 completed\n",
            "[*********************100%%**********************]  1 of 1 completed\n",
            "[*********************100%%**********************]  1 of 1 completed\n",
            "[*********************100%%**********************]  1 of 1 completed\n",
            "[*********************100%%**********************]  1 of 1 completed\n"
          ]
        },
        {
          "output_type": "stream",
          "name": "stdout",
          "text": [
            "\n",
            "====================================================\n",
            "\n",
            "Showing Ticker Stats for NFLX : \n",
            "\n",
            "====================================================\n",
            "\n",
            "====================================================\n",
            "\n",
            "Updating data for NFLX\n",
            "\n",
            "====================================================\n",
            "\n",
            "====================================================\n",
            "\n",
            "Showing Ticker Stats for KLAC : \n",
            "\n",
            "====================================================\n",
            "\n",
            "====================================================\n",
            "\n",
            "Updating data for KLAC\n",
            "\n",
            "====================================================\n"
          ]
        },
        {
          "output_type": "stream",
          "name": "stderr",
          "text": [
            "[*********************100%%**********************]  1 of 1 completed\n",
            "[*********************100%%**********************]  1 of 1 completed\n",
            "[*********************100%%**********************]  1 of 1 completed\n",
            "[*********************100%%**********************]  1 of 1 completed\n",
            "[*********************100%%**********************]  1 of 1 completed\n",
            "[*********************100%%**********************]  1 of 1 completed\n",
            "[*********************100%%**********************]  1 of 1 completed\n"
          ]
        },
        {
          "output_type": "stream",
          "name": "stdout",
          "text": [
            "\n",
            "====================================================\n",
            "\n",
            "Showing Ticker Stats for FTNT : \n",
            "\n",
            "====================================================\n",
            "\n",
            "====================================================\n",
            "\n",
            "Updating data for FTNT\n",
            "\n",
            "====================================================\n"
          ]
        },
        {
          "output_type": "stream",
          "name": "stderr",
          "text": [
            "[*********************100%%**********************]  1 of 1 completed\n",
            "[*********************100%%**********************]  1 of 1 completed\n",
            "[*********************100%%**********************]  1 of 1 completed\n",
            "[*********************100%%**********************]  1 of 1 completed\n",
            "[*********************100%%**********************]  1 of 1 completed\n"
          ]
        },
        {
          "output_type": "stream",
          "name": "stdout",
          "text": [
            "\n",
            "====================================================\n",
            "\n",
            "Showing Ticker Stats for VRTX : \n",
            "\n",
            "====================================================\n",
            "\n",
            "====================================================\n",
            "\n",
            "Updating data for VRTX\n",
            "\n",
            "====================================================\n",
            "\n",
            "====================================================\n",
            "\n",
            "Showing Ticker Stats for SPLK : \n",
            "\n",
            "====================================================\n",
            "\n",
            "====================================================\n",
            "\n",
            "Updating data for SPLK\n",
            "\n",
            "====================================================\n"
          ]
        },
        {
          "output_type": "stream",
          "name": "stderr",
          "text": [
            "[*********************100%%**********************]  1 of 1 completed\n",
            "[*********************100%%**********************]  1 of 1 completed\n",
            "[*********************100%%**********************]  1 of 1 completed\n",
            "[*********************100%%**********************]  1 of 1 completed\n",
            "[*********************100%%**********************]  1 of 1 completed\n",
            "[*********************100%%**********************]  1 of 1 completed\n",
            "[*********************100%%**********************]  1 of 1 completed\n"
          ]
        },
        {
          "output_type": "stream",
          "name": "stdout",
          "text": [
            "\n",
            "====================================================\n",
            "\n",
            "Showing Ticker Stats for MELI : \n",
            "\n",
            "====================================================\n",
            "\n",
            "====================================================\n",
            "\n",
            "Updating data for MELI\n",
            "\n",
            "====================================================\n"
          ]
        },
        {
          "output_type": "stream",
          "name": "stderr",
          "text": [
            "[*********************100%%**********************]  1 of 1 completed\n",
            "[*********************100%%**********************]  1 of 1 completed\n",
            "[*********************100%%**********************]  1 of 1 completed\n",
            "[*********************100%%**********************]  1 of 1 completed\n",
            "[*********************100%%**********************]  1 of 1 completed"
          ]
        },
        {
          "output_type": "stream",
          "name": "stdout",
          "text": [
            "\n",
            "====================================================\n",
            "\n",
            "Showing Ticker Stats for TEAM : \n",
            "\n",
            "====================================================\n",
            "\n",
            "====================================================\n",
            "\n",
            "Updating data for TEAM\n",
            "\n",
            "====================================================\n"
          ]
        },
        {
          "output_type": "stream",
          "name": "stderr",
          "text": [
            "\n",
            "[*********************100%%**********************]  1 of 1 completed\n",
            "[*********************100%%**********************]  1 of 1 completed\n",
            "[*********************100%%**********************]  1 of 1 completed\n"
          ]
        },
        {
          "output_type": "stream",
          "name": "stdout",
          "text": [
            "\n",
            "====================================================\n",
            "\n",
            "Showing Ticker Stats for PEP : \n",
            "\n",
            "====================================================\n",
            "\n",
            "====================================================\n",
            "\n",
            "Updating data for PEP\n",
            "\n",
            "====================================================\n"
          ]
        },
        {
          "output_type": "stream",
          "name": "stderr",
          "text": [
            "[*********************100%%**********************]  1 of 1 completed\n",
            "[*********************100%%**********************]  1 of 1 completed\n",
            "[*********************100%%**********************]  1 of 1 completed\n",
            "[*********************100%%**********************]  1 of 1 completed\n"
          ]
        },
        {
          "output_type": "stream",
          "name": "stdout",
          "text": [
            "\n",
            "====================================================\n",
            "\n",
            "Showing Ticker Stats for PDD : \n",
            "\n",
            "====================================================\n",
            "\n",
            "====================================================\n",
            "\n",
            "Updating data for PDD\n",
            "\n",
            "====================================================\n"
          ]
        },
        {
          "output_type": "stream",
          "name": "stderr",
          "text": [
            "[*********************100%%**********************]  1 of 1 completed\n",
            "[*********************100%%**********************]  1 of 1 completed\n",
            "[*********************100%%**********************]  1 of 1 completed"
          ]
        },
        {
          "output_type": "stream",
          "name": "stdout",
          "text": [
            "\n",
            "====================================================\n",
            "\n",
            "Showing Ticker Stats for ADI : \n",
            "\n",
            "====================================================\n",
            "\n",
            "====================================================\n",
            "\n",
            "Updating data for ADI\n",
            "\n",
            "====================================================\n"
          ]
        },
        {
          "output_type": "stream",
          "name": "stderr",
          "text": [
            "\n",
            "[*********************100%%**********************]  1 of 1 completed\n",
            "[*********************100%%**********************]  1 of 1 completed\n",
            "[*********************100%%**********************]  1 of 1 completed\n",
            "[*********************100%%**********************]  1 of 1 completed\n",
            "[*********************100%%**********************]  1 of 1 completed\n",
            "[*********************100%%**********************]  1 of 1 completed"
          ]
        },
        {
          "output_type": "stream",
          "name": "stdout",
          "text": [
            "\n",
            "====================================================\n",
            "\n",
            "Showing Ticker Stats for MDLZ : \n",
            "\n",
            "====================================================\n",
            "\n",
            "====================================================\n",
            "\n",
            "Updating data for MDLZ\n",
            "\n",
            "====================================================\n",
            "\n",
            "====================================================\n",
            "\n",
            "Showing Ticker Stats for MRVL : \n",
            "\n",
            "====================================================\n",
            "\n",
            "====================================================\n",
            "\n",
            "Updating data for MRVL\n",
            "\n",
            "====================================================\n"
          ]
        },
        {
          "output_type": "stream",
          "name": "stderr",
          "text": [
            "\n",
            "[*********************100%%**********************]  1 of 1 completed\n",
            "[*********************100%%**********************]  1 of 1 completed\n",
            "[*********************100%%**********************]  1 of 1 completed\n",
            "[*********************100%%**********************]  1 of 1 completed\n",
            "[*********************100%%**********************]  1 of 1 completed\n",
            "[*********************100%%**********************]  1 of 1 completed\n"
          ]
        },
        {
          "output_type": "stream",
          "name": "stdout",
          "text": [
            "\n",
            "====================================================\n",
            "\n",
            "Showing Ticker Stats for ADP : \n",
            "\n",
            "====================================================\n",
            "\n",
            "====================================================\n",
            "\n",
            "Updating data for ADP\n",
            "\n",
            "====================================================\n"
          ]
        },
        {
          "output_type": "stream",
          "name": "stderr",
          "text": [
            "[*********************100%%**********************]  1 of 1 completed\n",
            "[*********************100%%**********************]  1 of 1 completed\n",
            "[*********************100%%**********************]  1 of 1 completed\n",
            "[*********************100%%**********************]  1 of 1 completed\n",
            "[*********************100%%**********************]  1 of 1 completed\n",
            "[*********************100%%**********************]  1 of 1 completed\n"
          ]
        },
        {
          "output_type": "stream",
          "name": "stdout",
          "text": [
            "\n",
            "====================================================\n",
            "\n",
            "Showing Ticker Stats for MU : \n",
            "\n",
            "====================================================\n",
            "\n",
            "====================================================\n",
            "\n",
            "Updating data for MU\n",
            "\n",
            "====================================================\n",
            "\n",
            "====================================================\n",
            "\n",
            "Showing Ticker Stats for EXC : \n",
            "\n",
            "====================================================\n",
            "\n",
            "====================================================\n",
            "\n",
            "Updating data for EXC\n",
            "\n",
            "====================================================\n"
          ]
        },
        {
          "output_type": "stream",
          "name": "stderr",
          "text": [
            "[*********************100%%**********************]  1 of 1 completed\n",
            "[*********************100%%**********************]  1 of 1 completed\n",
            "[*********************100%%**********************]  1 of 1 completed\n",
            "[*********************100%%**********************]  1 of 1 completed\n",
            "[*********************100%%**********************]  1 of 1 completed\n",
            "[*********************100%%**********************]  1 of 1 completed\n",
            "[*********************100%%**********************]  1 of 1 completed\n"
          ]
        },
        {
          "output_type": "stream",
          "name": "stdout",
          "text": [
            "\n",
            "====================================================\n",
            "\n",
            "Showing Ticker Stats for ASML : \n",
            "\n",
            "====================================================\n",
            "\n",
            "====================================================\n",
            "\n",
            "Updating data for ASML\n",
            "\n",
            "====================================================\n"
          ]
        },
        {
          "output_type": "stream",
          "name": "stderr",
          "text": [
            "[*********************100%%**********************]  1 of 1 completed\n",
            "[*********************100%%**********************]  1 of 1 completed"
          ]
        },
        {
          "output_type": "stream",
          "name": "stdout",
          "text": [
            "\n",
            "====================================================\n",
            "\n",
            "Showing Ticker Stats for CSX : \n",
            "\n",
            "====================================================\n",
            "\n",
            "====================================================\n",
            "\n",
            "Updating data for CSX\n",
            "\n",
            "====================================================\n"
          ]
        },
        {
          "output_type": "stream",
          "name": "stderr",
          "text": [
            "\n",
            "[*********************100%%**********************]  1 of 1 completed\n",
            "[*********************100%%**********************]  1 of 1 completed\n",
            "[*********************100%%**********************]  1 of 1 completed\n",
            "[*********************100%%**********************]  1 of 1 completed\n"
          ]
        },
        {
          "output_type": "stream",
          "name": "stdout",
          "text": [
            "\n",
            "====================================================\n",
            "\n",
            "Showing Ticker Stats for HON : \n",
            "\n",
            "====================================================\n",
            "\n",
            "====================================================\n",
            "\n",
            "Updating data for HON\n",
            "\n",
            "====================================================\n"
          ]
        },
        {
          "output_type": "stream",
          "name": "stderr",
          "text": [
            "[*********************100%%**********************]  1 of 1 completed\n",
            "[*********************100%%**********************]  1 of 1 completed\n",
            "[*********************100%%**********************]  1 of 1 completed\n",
            "[*********************100%%**********************]  1 of 1 completed\n",
            "[*********************100%%**********************]  1 of 1 completed\n",
            "[*********************100%%**********************]  1 of 1 completed\n",
            "[*********************100%%**********************]  1 of 1 completed\n"
          ]
        },
        {
          "output_type": "stream",
          "name": "stdout",
          "text": [
            "\n",
            "====================================================\n",
            "\n",
            "Showing Ticker Stats for SWKS : \n",
            "\n",
            "====================================================\n",
            "\n",
            "====================================================\n",
            "\n",
            "Updating data for SWKS\n",
            "\n",
            "====================================================\n",
            "\n",
            "====================================================\n",
            "\n",
            "Showing Ticker Stats for MNST : \n",
            "\n",
            "====================================================\n",
            "\n",
            "====================================================\n",
            "\n",
            "Updating data for MNST\n",
            "\n",
            "====================================================\n"
          ]
        },
        {
          "output_type": "stream",
          "name": "stderr",
          "text": [
            "[*********************100%%**********************]  1 of 1 completed\n",
            "[*********************100%%**********************]  1 of 1 completed\n",
            "[*********************100%%**********************]  1 of 1 completed\n",
            "[*********************100%%**********************]  1 of 1 completed\n",
            "[*********************100%%**********************]  1 of 1 completed\n",
            "[*********************100%%**********************]  1 of 1 completed\n",
            "[*********************100%%**********************]  1 of 1 completed\n",
            "[*********************100%%**********************]  1 of 1 completed"
          ]
        },
        {
          "output_type": "stream",
          "name": "stdout",
          "text": [
            "\n",
            "====================================================\n",
            "\n",
            "Showing Ticker Stats for EBAY : \n",
            "\n",
            "====================================================\n",
            "\n",
            "====================================================\n",
            "\n",
            "Updating data for EBAY\n",
            "\n",
            "====================================================\n"
          ]
        },
        {
          "output_type": "stream",
          "name": "stderr",
          "text": [
            "\n",
            "[*********************100%%**********************]  1 of 1 completed\n",
            "[*********************100%%**********************]  1 of 1 completed\n"
          ]
        },
        {
          "output_type": "stream",
          "name": "stdout",
          "text": [
            "\n",
            "====================================================\n",
            "\n",
            "Showing Ticker Stats for AMAT : \n",
            "\n",
            "====================================================\n",
            "\n",
            "====================================================\n",
            "\n",
            "Updating data for AMAT\n",
            "\n",
            "====================================================\n"
          ]
        },
        {
          "output_type": "stream",
          "name": "stderr",
          "text": [
            "[*********************100%%**********************]  1 of 1 completed\n",
            "[*********************100%%**********************]  1 of 1 completed\n",
            "[*********************100%%**********************]  1 of 1 completed\n",
            "[*********************100%%**********************]  1 of 1 completed\n"
          ]
        },
        {
          "output_type": "stream",
          "name": "stdout",
          "text": [
            "\n",
            "====================================================\n",
            "\n",
            "Showing Ticker Stats for CTSH : \n",
            "\n",
            "====================================================\n",
            "\n",
            "====================================================\n",
            "\n",
            "Updating data for CTSH\n",
            "\n",
            "====================================================\n"
          ]
        },
        {
          "output_type": "stream",
          "name": "stderr",
          "text": [
            "[*********************100%%**********************]  1 of 1 completed\n",
            "[*********************100%%**********************]  1 of 1 completed\n",
            "[*********************100%%**********************]  1 of 1 completed\n",
            "[*********************100%%**********************]  1 of 1 completed\n",
            "[*********************100%%**********************]  1 of 1 completed\n",
            "[*********************100%%**********************]  1 of 1 completed\n"
          ]
        },
        {
          "output_type": "stream",
          "name": "stdout",
          "text": [
            "\n",
            "====================================================\n",
            "\n",
            "Showing Ticker Stats for VRSN : \n",
            "\n",
            "====================================================\n",
            "\n",
            "====================================================\n",
            "\n",
            "Updating data for VRSN\n",
            "\n",
            "====================================================\n",
            "\n",
            "====================================================\n",
            "\n",
            "Showing Ticker Stats for IDXX : \n",
            "\n",
            "====================================================\n",
            "\n",
            "====================================================\n",
            "\n",
            "Updating data for IDXX\n",
            "\n",
            "====================================================\n"
          ]
        },
        {
          "output_type": "stream",
          "name": "stderr",
          "text": [
            "[*********************100%%**********************]  1 of 1 completed\n",
            "[*********************100%%**********************]  1 of 1 completed\n",
            "[*********************100%%**********************]  1 of 1 completed\n",
            "[*********************100%%**********************]  1 of 1 completed\n",
            "[*********************100%%**********************]  1 of 1 completed\n",
            "[*********************100%%**********************]  1 of 1 completed\n",
            "[*********************100%%**********************]  1 of 1 completed\n",
            "[*********************100%%**********************]  1 of 1 completed"
          ]
        },
        {
          "output_type": "stream",
          "name": "stdout",
          "text": [
            "\n",
            "====================================================\n",
            "\n",
            "Showing Ticker Stats for AMZN : \n",
            "\n",
            "====================================================\n",
            "\n",
            "====================================================\n",
            "\n",
            "Updating data for AMZN\n",
            "\n",
            "====================================================\n"
          ]
        },
        {
          "output_type": "stream",
          "name": "stderr",
          "text": [
            "\n",
            "[*********************100%%**********************]  1 of 1 completed\n",
            "[*********************100%%**********************]  1 of 1 completed\n",
            "[*********************100%%**********************]  1 of 1 completed\n",
            "[*********************100%%**********************]  1 of 1 completed"
          ]
        },
        {
          "output_type": "stream",
          "name": "stdout",
          "text": [
            "\n",
            "====================================================\n",
            "\n",
            "Showing Ticker Stats for OKTA : \n",
            "\n",
            "====================================================\n",
            "\n",
            "====================================================\n",
            "\n",
            "Updating data for OKTA\n",
            "\n",
            "====================================================\n"
          ]
        },
        {
          "output_type": "stream",
          "name": "stderr",
          "text": [
            "\n",
            "[*********************100%%**********************]  1 of 1 completed\n",
            "[*********************100%%**********************]  1 of 1 completed\n"
          ]
        },
        {
          "output_type": "stream",
          "name": "stdout",
          "text": [
            "\n",
            "====================================================\n",
            "\n",
            "Showing Ticker Stats for GILD : \n",
            "\n",
            "====================================================\n",
            "\n",
            "====================================================\n",
            "\n",
            "Updating data for GILD\n",
            "\n",
            "====================================================\n"
          ]
        },
        {
          "output_type": "stream",
          "name": "stderr",
          "text": [
            "[*********************100%%**********************]  1 of 1 completed\n",
            "[*********************100%%**********************]  1 of 1 completed\n",
            "[*********************100%%**********************]  1 of 1 completed\n",
            "[*********************100%%**********************]  1 of 1 completed\n",
            "[*********************100%%**********************]  1 of 1 completed\n"
          ]
        },
        {
          "output_type": "stream",
          "name": "stdout",
          "text": [
            "\n",
            "====================================================\n",
            "\n",
            "Showing Ticker Stats for JD : \n",
            "\n",
            "====================================================\n",
            "\n",
            "====================================================\n",
            "\n",
            "Updating data for JD\n",
            "\n",
            "====================================================\n"
          ]
        },
        {
          "output_type": "stream",
          "name": "stderr",
          "text": [
            "[*********************100%%**********************]  1 of 1 completed\n",
            "[*********************100%%**********************]  1 of 1 completed\n",
            "[*********************100%%**********************]  1 of 1 completed\n"
          ]
        },
        {
          "output_type": "stream",
          "name": "stdout",
          "text": [
            "\n",
            "====================================================\n",
            "\n",
            "Showing Ticker Stats for PAYX : \n",
            "\n",
            "====================================================\n",
            "\n",
            "====================================================\n",
            "\n",
            "Updating data for PAYX\n",
            "\n",
            "====================================================\n"
          ]
        },
        {
          "output_type": "stream",
          "name": "stderr",
          "text": [
            "[*********************100%%**********************]  1 of 1 completed\n",
            "[*********************100%%**********************]  1 of 1 completed\n",
            "[*********************100%%**********************]  1 of 1 completed\n",
            "[*********************100%%**********************]  1 of 1 completed\n"
          ]
        },
        {
          "output_type": "stream",
          "name": "stdout",
          "text": [
            "\n",
            "====================================================\n",
            "\n",
            "Showing Ticker Stats for CMCSA : \n",
            "\n",
            "====================================================\n",
            "\n",
            "====================================================\n",
            "\n",
            "Updating data for CMCSA\n",
            "\n",
            "====================================================\n"
          ]
        },
        {
          "output_type": "stream",
          "name": "stderr",
          "text": [
            "[*********************100%%**********************]  1 of 1 completed\n",
            "[*********************100%%**********************]  1 of 1 completed\n",
            "[*********************100%%**********************]  1 of 1 completed\n",
            "[*********************100%%**********************]  1 of 1 completed\n",
            "[*********************100%%**********************]  1 of 1 completed\n",
            "[*********************100%%**********************]  1 of 1 completed"
          ]
        },
        {
          "output_type": "stream",
          "name": "stdout",
          "text": [
            "\n",
            "====================================================\n",
            "\n",
            "Showing Ticker Stats for AMD : \n",
            "\n",
            "====================================================\n",
            "\n",
            "====================================================\n",
            "\n",
            "Updating data for AMD\n",
            "\n",
            "====================================================\n"
          ]
        },
        {
          "output_type": "stream",
          "name": "stderr",
          "text": [
            "\n",
            "[*********************100%%**********************]  1 of 1 completed\n",
            "[*********************100%%**********************]  1 of 1 completed\n",
            "[*********************100%%**********************]  1 of 1 completed\n",
            "[*********************100%%**********************]  1 of 1 completed\n",
            "[*********************100%%**********************]  1 of 1 completed\n",
            "[*********************100%%**********************]  1 of 1 completed\n",
            "[*********************100%%**********************]  1 of 1 completed\n"
          ]
        },
        {
          "output_type": "stream",
          "name": "stdout",
          "text": [
            "\n",
            "====================================================\n",
            "\n",
            "Showing Ticker Stats for DLTR : \n",
            "\n",
            "====================================================\n",
            "\n",
            "====================================================\n",
            "\n",
            "Updating data for DLTR\n",
            "\n",
            "====================================================\n",
            "\n",
            "====================================================\n",
            "\n",
            "Showing Ticker Stats for CHTR : \n",
            "\n",
            "====================================================\n",
            "\n",
            "====================================================\n",
            "\n",
            "Updating data for CHTR\n",
            "\n",
            "====================================================\n"
          ]
        },
        {
          "output_type": "stream",
          "name": "stderr",
          "text": [
            "[*********************100%%**********************]  1 of 1 completed\n",
            "[*********************100%%**********************]  1 of 1 completed\n",
            "[*********************100%%**********************]  1 of 1 completed\n",
            "[*********************100%%**********************]  1 of 1 completed"
          ]
        },
        {
          "output_type": "stream",
          "name": "stdout",
          "text": [
            "\n",
            "====================================================\n",
            "\n",
            "Showing Ticker Stats for AMGN : \n",
            "\n",
            "====================================================\n",
            "\n",
            "====================================================\n",
            "\n",
            "Updating data for AMGN\n",
            "\n",
            "====================================================\n"
          ]
        },
        {
          "output_type": "stream",
          "name": "stderr",
          "text": [
            "\n",
            "[*********************100%%**********************]  1 of 1 completed\n",
            "[*********************100%%**********************]  1 of 1 completed\n",
            "[*********************100%%**********************]  1 of 1 completed\n",
            "[*********************100%%**********************]  1 of 1 completed"
          ]
        },
        {
          "output_type": "stream",
          "name": "stdout",
          "text": [
            "\n",
            "====================================================\n",
            "\n",
            "Showing Ticker Stats for NXPI : \n",
            "\n",
            "====================================================\n",
            "\n",
            "====================================================\n",
            "\n",
            "Updating data for NXPI\n",
            "\n",
            "====================================================\n"
          ]
        },
        {
          "output_type": "stream",
          "name": "stderr",
          "text": [
            "\n",
            "[*********************100%%**********************]  1 of 1 completed\n",
            "[*********************100%%**********************]  1 of 1 completed\n",
            "[*********************100%%**********************]  1 of 1 completed\n",
            "[*********************100%%**********************]  1 of 1 completed\n",
            "[*********************100%%**********************]  1 of 1 completed"
          ]
        },
        {
          "output_type": "stream",
          "name": "stdout",
          "text": [
            "\n",
            "====================================================\n",
            "\n",
            "Showing Ticker Stats for WDAY : \n",
            "\n",
            "====================================================\n",
            "\n",
            "====================================================\n",
            "\n",
            "Updating data for WDAY\n",
            "\n",
            "====================================================\n"
          ]
        },
        {
          "output_type": "stream",
          "name": "stderr",
          "text": [
            "\n",
            "[*********************100%%**********************]  1 of 1 completed\n",
            "[*********************100%%**********************]  1 of 1 completed\n",
            "[*********************100%%**********************]  1 of 1 completed\n",
            "[*********************100%%**********************]  1 of 1 completed"
          ]
        },
        {
          "output_type": "stream",
          "name": "stdout",
          "text": [
            "\n",
            "====================================================\n",
            "\n",
            "Showing Ticker Stats for PYPL : \n",
            "\n",
            "====================================================\n",
            "\n",
            "====================================================\n",
            "\n",
            "Updating data for PYPL\n",
            "\n",
            "====================================================\n"
          ]
        },
        {
          "output_type": "stream",
          "name": "stderr",
          "text": [
            "\n",
            "[*********************100%%**********************]  1 of 1 completed\n",
            "[*********************100%%**********************]  1 of 1 completed\n",
            "[*********************100%%**********************]  1 of 1 completed\n"
          ]
        },
        {
          "output_type": "stream",
          "name": "stdout",
          "text": [
            "\n",
            "====================================================\n",
            "\n",
            "Showing Ticker Stats for EA : \n",
            "\n",
            "====================================================\n",
            "\n",
            "====================================================\n",
            "\n",
            "Updating data for EA\n",
            "\n",
            "====================================================\n"
          ]
        },
        {
          "output_type": "stream",
          "name": "stderr",
          "text": [
            "[*********************100%%**********************]  1 of 1 completed\n",
            "[*********************100%%**********************]  1 of 1 completed\n",
            "[*********************100%%**********************]  1 of 1 completed\n",
            "[*********************100%%**********************]  1 of 1 completed"
          ]
        },
        {
          "output_type": "stream",
          "name": "stdout",
          "text": [
            "\n",
            "====================================================\n",
            "\n",
            "Showing Ticker Stats for KDP : \n",
            "\n",
            "====================================================\n",
            "\n",
            "====================================================\n",
            "\n",
            "Updating data for KDP\n",
            "\n",
            "====================================================\n"
          ]
        },
        {
          "output_type": "stream",
          "name": "stderr",
          "text": [
            "\n",
            "[*********************100%%**********************]  1 of 1 completed\n",
            "[*********************100%%**********************]  1 of 1 completed\n",
            "[*********************100%%**********************]  1 of 1 completed\n",
            "[*********************100%%**********************]  1 of 1 completed\n",
            "[*********************100%%**********************]  1 of 1 completed\n"
          ]
        },
        {
          "output_type": "stream",
          "name": "stdout",
          "text": [
            "\n",
            "====================================================\n",
            "\n",
            "Showing Ticker Stats for BIIB : \n",
            "\n",
            "====================================================\n",
            "\n",
            "====================================================\n",
            "\n",
            "Updating data for BIIB\n",
            "\n",
            "====================================================\n"
          ]
        },
        {
          "output_type": "stream",
          "name": "stderr",
          "text": [
            "[*********************100%%**********************]  1 of 1 completed\n",
            "[*********************100%%**********************]  1 of 1 completed\n",
            "[*********************100%%**********************]  1 of 1 completed\n"
          ]
        },
        {
          "output_type": "stream",
          "name": "stdout",
          "text": [
            "\n",
            "====================================================\n",
            "\n",
            "Showing Ticker Stats for LRCX : \n",
            "\n",
            "====================================================\n",
            "\n",
            "====================================================\n",
            "\n",
            "Updating data for LRCX\n",
            "\n",
            "====================================================\n"
          ]
        },
        {
          "output_type": "stream",
          "name": "stderr",
          "text": [
            "[*********************100%%**********************]  1 of 1 completed\n",
            "[*********************100%%**********************]  1 of 1 completed\n",
            "[*********************100%%**********************]  1 of 1 completed"
          ]
        },
        {
          "output_type": "stream",
          "name": "stdout",
          "text": [
            "\n",
            "====================================================\n",
            "\n",
            "Showing Ticker Stats for TXN : \n",
            "\n",
            "====================================================\n",
            "\n",
            "====================================================\n",
            "\n",
            "Updating data for TXN\n",
            "\n",
            "====================================================\n"
          ]
        },
        {
          "output_type": "stream",
          "name": "stderr",
          "text": [
            "\n",
            "[*********************100%%**********************]  1 of 1 completed\n",
            "[*********************100%%**********************]  1 of 1 completed\n",
            "[*********************100%%**********************]  1 of 1 completed\n",
            "[*********************100%%**********************]  1 of 1 completed\n",
            "[*********************100%%**********************]  1 of 1 completed\n",
            "[*********************100%%**********************]  1 of 1 completed"
          ]
        },
        {
          "output_type": "stream",
          "name": "stdout",
          "text": [
            "\n",
            "====================================================\n",
            "\n",
            "Showing Ticker Stats for DXCM : \n",
            "\n",
            "====================================================\n",
            "\n",
            "====================================================\n",
            "\n",
            "Updating data for DXCM\n",
            "\n",
            "====================================================\n"
          ]
        },
        {
          "output_type": "stream",
          "name": "stderr",
          "text": [
            "\n",
            "[*********************100%%**********************]  1 of 1 completed\n",
            "[*********************100%%**********************]  1 of 1 completed\n",
            "[*********************100%%**********************]  1 of 1 completed\n",
            "[*********************100%%**********************]  1 of 1 completed"
          ]
        },
        {
          "output_type": "stream",
          "name": "stdout",
          "text": [
            "\n",
            "====================================================\n",
            "\n",
            "Showing Ticker Stats for ALGN : \n",
            "\n",
            "====================================================\n",
            "\n",
            "====================================================\n",
            "\n",
            "Updating data for ALGN\n",
            "\n",
            "====================================================\n"
          ]
        },
        {
          "output_type": "stream",
          "name": "stderr",
          "text": [
            "\n",
            "[*********************100%%**********************]  1 of 1 completed\n",
            "[*********************100%%**********************]  1 of 1 completed"
          ]
        },
        {
          "output_type": "stream",
          "name": "stdout",
          "text": [
            "\n",
            "====================================================\n",
            "\n",
            "Showing Ticker Stats for XEL : \n",
            "\n",
            "====================================================\n",
            "\n",
            "====================================================\n",
            "\n",
            "Updating data for XEL\n",
            "\n",
            "====================================================\n"
          ]
        },
        {
          "output_type": "stream",
          "name": "stderr",
          "text": [
            "\n",
            "[*********************100%%**********************]  1 of 1 completed\n",
            "[*********************100%%**********************]  1 of 1 completed\n",
            "[*********************100%%**********************]  1 of 1 completed\n",
            "[*********************100%%**********************]  1 of 1 completed\n"
          ]
        },
        {
          "output_type": "stream",
          "name": "stdout",
          "text": [
            "\n",
            "====================================================\n",
            "\n",
            "Showing Ticker Stats for MCHP : \n",
            "\n",
            "====================================================\n",
            "\n",
            "====================================================\n",
            "\n",
            "Updating data for MCHP\n",
            "\n",
            "====================================================\n"
          ]
        },
        {
          "output_type": "stream",
          "name": "stderr",
          "text": [
            "[*********************100%%**********************]  1 of 1 completed\n",
            "[*********************100%%**********************]  1 of 1 completed\n",
            "[*********************100%%**********************]  1 of 1 completed\n",
            "[*********************100%%**********************]  1 of 1 completed\n",
            "[*********************100%%**********************]  1 of 1 completed\n",
            "[*********************100%%**********************]  1 of 1 completed"
          ]
        },
        {
          "output_type": "stream",
          "name": "stdout",
          "text": [
            "\n",
            "====================================================\n",
            "\n",
            "Showing Ticker Stats for MRNA : \n",
            "\n",
            "====================================================\n",
            "\n",
            "====================================================\n",
            "\n",
            "Updating data for MRNA\n",
            "\n",
            "====================================================\n"
          ]
        },
        {
          "output_type": "stream",
          "name": "stderr",
          "text": [
            "\n",
            "[*********************100%%**********************]  1 of 1 completed\n",
            "[*********************100%%**********************]  1 of 1 completed\n",
            "[*********************100%%**********************]  1 of 1 completed"
          ]
        },
        {
          "output_type": "stream",
          "name": "stdout",
          "text": [
            "\n",
            "====================================================\n",
            "\n",
            "Showing Ticker Stats for BMRN : \n",
            "\n",
            "====================================================\n",
            "\n",
            "====================================================\n",
            "\n",
            "Updating data for BMRN\n",
            "\n",
            "====================================================\n"
          ]
        },
        {
          "output_type": "stream",
          "name": "stderr",
          "text": [
            "\n",
            "[*********************100%%**********************]  1 of 1 completed\n",
            "[*********************100%%**********************]  1 of 1 completed\n",
            "[*********************100%%**********************]  1 of 1 completed\n",
            "[*********************100%%**********************]  1 of 1 completed\n"
          ]
        },
        {
          "output_type": "stream",
          "name": "stdout",
          "text": [
            "\n",
            "====================================================\n",
            "\n",
            "Showing Ticker Stats for SBUX : \n",
            "\n",
            "====================================================\n",
            "\n",
            "====================================================\n",
            "\n",
            "Updating data for SBUX\n",
            "\n",
            "====================================================\n"
          ]
        },
        {
          "output_type": "stream",
          "name": "stderr",
          "text": [
            "[*********************100%%**********************]  1 of 1 completed\n",
            "[*********************100%%**********************]  1 of 1 completed\n",
            "[*********************100%%**********************]  1 of 1 completed\n",
            "[*********************100%%**********************]  1 of 1 completed\n",
            "[*********************100%%**********************]  1 of 1 completed"
          ]
        },
        {
          "output_type": "stream",
          "name": "stdout",
          "text": [
            "\n",
            "====================================================\n",
            "\n",
            "Showing Ticker Stats for BIDU : \n",
            "\n",
            "====================================================\n",
            "\n",
            "====================================================\n",
            "\n",
            "Updating data for BIDU\n",
            "\n",
            "====================================================\n"
          ]
        },
        {
          "output_type": "stream",
          "name": "stderr",
          "text": [
            "\n",
            "[*********************100%%**********************]  1 of 1 completed\n",
            "[*********************100%%**********************]  1 of 1 completed\n",
            "[*********************100%%**********************]  1 of 1 completed\n"
          ]
        },
        {
          "output_type": "stream",
          "name": "stdout",
          "text": [
            "\n",
            "====================================================\n",
            "\n",
            "Showing Ticker Stats for SIRI : \n",
            "\n",
            "====================================================\n",
            "\n",
            "====================================================\n",
            "\n",
            "Updating data for SIRI\n",
            "\n",
            "====================================================\n"
          ]
        },
        {
          "output_type": "stream",
          "name": "stderr",
          "text": [
            "[*********************100%%**********************]  1 of 1 completed\n",
            "[*********************100%%**********************]  1 of 1 completed\n",
            "[*********************100%%**********************]  1 of 1 completed\n",
            "[*********************100%%**********************]  1 of 1 completed"
          ]
        },
        {
          "output_type": "stream",
          "name": "stdout",
          "text": [
            "\n",
            "====================================================\n",
            "\n",
            "Showing Ticker Stats for MTCH : \n",
            "\n",
            "====================================================\n",
            "\n",
            "====================================================\n",
            "\n",
            "Updating data for MTCH\n",
            "\n",
            "====================================================\n"
          ]
        },
        {
          "output_type": "stream",
          "name": "stderr",
          "text": [
            "\n",
            "[*********************100%%**********************]  1 of 1 completed\n",
            "[*********************100%%**********************]  1 of 1 completed\n",
            "[*********************100%%**********************]  1 of 1 completed\n"
          ]
        },
        {
          "output_type": "stream",
          "name": "stdout",
          "text": [
            "\n",
            "====================================================\n",
            "\n",
            "Showing Ticker Stats for KHC : \n",
            "\n",
            "====================================================\n",
            "\n",
            "====================================================\n",
            "\n",
            "Updating data for KHC\n",
            "\n",
            "====================================================\n"
          ]
        },
        {
          "output_type": "stream",
          "name": "stderr",
          "text": [
            "[*********************100%%**********************]  1 of 1 completed\n",
            "[*********************100%%**********************]  1 of 1 completed\n",
            "[*********************100%%**********************]  1 of 1 completed\n",
            "[*********************100%%**********************]  1 of 1 completed"
          ]
        },
        {
          "output_type": "stream",
          "name": "stdout",
          "text": [
            "\n",
            "====================================================\n",
            "\n",
            "Showing Ticker Stats for WBA : \n",
            "\n",
            "====================================================\n",
            "\n",
            "====================================================\n",
            "\n",
            "Updating data for WBA\n",
            "\n",
            "====================================================\n"
          ]
        },
        {
          "output_type": "stream",
          "name": "stderr",
          "text": [
            "\n",
            "[*********************100%%**********************]  1 of 1 completed\n",
            "[*********************100%%**********************]  1 of 1 completed\n",
            "[*********************100%%**********************]  1 of 1 completed\n",
            "[*********************100%%**********************]  1 of 1 completed"
          ]
        },
        {
          "output_type": "stream",
          "name": "stdout",
          "text": [
            "\n",
            "====================================================\n",
            "\n",
            "Showing Ticker Stats for ILMN : \n",
            "\n",
            "====================================================\n",
            "\n",
            "====================================================\n",
            "\n",
            "Updating data for ILMN\n",
            "\n",
            "====================================================\n"
          ]
        },
        {
          "output_type": "stream",
          "name": "stderr",
          "text": [
            "\n",
            "[*********************100%%**********************]  1 of 1 completed\n",
            "[*********************100%%**********************]  1 of 1 completed"
          ]
        },
        {
          "output_type": "stream",
          "name": "stdout",
          "text": [
            "   Ticker  Open-Close     Close       Eff  PWin_OC   PWin\n",
            "0    COST    0.874980  1.608345  0.544025    0.398  0.644\n",
            "1    PANW    0.839210  1.531630  0.547920    0.527  0.625\n",
            "2    ORLY    0.812867  1.337766  0.607631    0.432  0.602\n",
            "3    CDNS    0.919026  1.585978  0.579470    0.509  0.600\n",
            "4    SNPS    1.190727  1.614151  0.737680    0.533  0.600\n",
            "5    NVDA    1.922939  4.003417  0.480324    0.564  0.597\n",
            "6    QCOM    0.818799  1.551424  0.527772    0.537  0.597\n",
            "7    INTC    0.830821  1.702139  0.488104    0.427  0.592\n",
            "8    CPRT    0.911359  1.625147  0.560786    0.490  0.592\n",
            "9    ADSK    0.820977  1.328044  0.618185    0.481  0.590\n",
            "10   CTAS    0.899761  1.469060  0.612474    0.471  0.590\n",
            "11   DOCU    0.755828  1.102045  0.685842    0.456  0.588\n",
            "12   TTWO    0.948638  1.298212  0.730726    0.451  0.587\n",
            "13   TMUS    0.764118  1.181203  0.646898    0.398  0.587\n",
            "14     ZS    1.115436  1.831786  0.608934    0.509  0.586\n",
            "15   LULU    1.201310  1.588529  0.756241    0.470  0.580\n",
            "16    MAR    0.829931  1.577483  0.526111    0.413  0.579\n",
            "17   ISRG    1.003099  1.709544  0.586764    0.398  0.579\n",
            "18   VRSK    0.860765  1.323845  0.650201    0.409  0.579\n",
            "19   INTU    0.791163  1.703774  0.464359    0.469  0.575\n",
            "20   AVGO    0.926528  2.143304  0.432290    0.536  0.570\n",
            "21   PCAR    0.961498  1.681826  0.571699    0.500  0.569\n",
            "22   BKNG    0.854292  1.438752  0.593773    0.464  0.566\n",
            "23   ADBE    0.908107  1.785981  0.508464    0.474  0.565\n",
            "24   TSLA    0.674349  1.017538  0.662726    0.485  0.564\n",
            "25   ROST    0.920083  1.429021  0.643855    0.423  0.559\n",
            "26   FAST    0.917224  1.500879  0.611124    0.476  0.557\n",
            "27   MSFT    0.991405  1.648899  0.601253    0.462  0.557\n",
            "28   CSCO    0.570709  1.065774  0.535488    0.365  0.557\n",
            "29  GOOGL    0.707981  1.520140  0.465734    0.435  0.557\n",
            "30   GOOG    0.700205  1.523238  0.459682    0.446  0.550\n",
            "31   AAPL    0.637724  1.157404  0.550995    0.456  0.550\n",
            "32   REGN    0.909681  1.290085  0.705132    0.519  0.542\n",
            "33   NTES    0.608582  1.319505  0.461220    0.433  0.540\n",
            "34   NFLX    1.319192  2.081973  0.633626    0.451  0.538\n",
            "35   KLAC    0.915502  1.935650  0.472969    0.458  0.537\n",
            "36   FTNT    0.584349  1.203644  0.485483    0.495  0.534\n",
            "37   VRTX    0.968535  1.405473  0.689117    0.500  0.533\n",
            "38   SPLK    1.021922  1.751286  0.583527    0.352  0.530\n",
            "39   MELI    0.999958  1.329709  0.752013    0.441  0.530\n",
            "40   TEAM    0.607592  1.372916  0.442556    0.469  0.529\n",
            "41    PEP    0.870462  0.975248  0.892554    0.416  0.527\n",
            "42    PDD    0.684864  1.296040  0.528428    0.402  0.526\n",
            "43    ADI    0.656552  1.112053  0.590397    0.486  0.526\n",
            "44   MDLZ    0.828350  1.119788  0.739738    0.349  0.526\n",
            "45   MRVL    1.070092  1.898026  0.563792    0.472  0.521\n",
            "46    ADP    0.844862  1.171899  0.720934    0.457  0.521\n",
            "47     MU    1.049918  1.819942  0.576896    0.495  0.521\n",
            "48    EXC    0.796279  0.928270  0.857810    0.463  0.519\n",
            "49   ASML    0.854078  1.642929  0.519851    0.411  0.517\n",
            "50    CSX    0.831693  1.319483  0.630317    0.364  0.517\n",
            "51    HON    0.872111  1.054207  0.827268    0.417  0.514\n",
            "52   SWKS    0.657297  1.008758  0.651590    0.462  0.514\n",
            "53   MNST    1.014835  1.192584  0.850955    0.455  0.513\n",
            "54   EBAY    0.722203  1.267627  0.569728    0.432  0.513\n",
            "55   AMAT    0.910861  1.784409  0.510455    0.500  0.509\n",
            "56   CTSH    0.783142  1.352218  0.579154    0.380  0.509\n",
            "57   VRSN    0.703215  1.003765  0.700578    0.434  0.509\n",
            "58   IDXX    0.833047  1.186410  0.702158    0.505  0.509\n",
            "59   AMZN    1.036494  1.897544  0.546229    0.441  0.504\n",
            "60   OKTA    0.724417  1.346668  0.537933    0.463  0.504\n",
            "61   GILD    0.702656  0.980759  0.716441    0.360  0.500\n",
            "62     JD    0.449801  0.692637  0.649403    0.441  0.500\n",
            "63   PAYX    0.892354  1.167302  0.764458    0.466  0.500\n",
            "64  CMCSA    0.855368  1.250611  0.683960    0.390  0.496\n",
            "65    AMD    1.053209  2.472381  0.425990    0.422  0.496\n",
            "66   DLTR    0.782522  1.052007  0.743837    0.426  0.495\n",
            "67   CHTR    0.666617  0.879019  0.758364    0.404  0.491\n",
            "68   AMGN    0.936460  1.225838  0.763935    0.469  0.490\n",
            "69   NXPI    0.766755  1.502702  0.510251    0.457  0.488\n",
            "70   WDAY    0.681631  1.496331  0.455535    0.449  0.487\n",
            "71   PYPL    0.606233  0.826746  0.733277    0.490  0.483\n",
            "72     EA    0.811413  1.242944  0.652816    0.456  0.482\n",
            "73    KDP    0.848507  0.877365  0.967108    0.404  0.481\n",
            "74   BIIB    0.821023  0.879366  0.933654    0.348  0.481\n",
            "75   LRCX    0.872982  2.021996  0.431743    0.528  0.474\n",
            "76    TXN    0.709634  1.037564  0.683942    0.514  0.473\n",
            "77   DXCM    1.145236  1.223387  0.936119    0.417  0.473\n",
            "78   ALGN    0.693714  0.985004  0.704276    0.391  0.472\n",
            "79    XEL    0.783479  0.821985  0.953155    0.440  0.471\n",
            "80   MCHP    0.736133  1.155165  0.637253    0.545  0.469\n",
            "81   MRNA    0.642776  0.746653  0.860876    0.402  0.462\n",
            "82   BMRN    0.811379  0.946234  0.857482    0.411  0.459\n",
            "83   SBUX    0.844801  0.953099  0.886373    0.407  0.452\n",
            "84   BIDU    0.440859  0.787654  0.559711    0.400  0.448\n",
            "85   SIRI    0.883738  1.157782  0.763302    0.590  0.448\n",
            "86   MTCH    0.991908  0.964070  1.028876    0.400  0.442\n",
            "87    KHC    0.822888  0.949666  0.866503    0.356  0.427\n",
            "88    WBA    0.727206  0.678231  1.072210    0.453  0.415\n",
            "89   ILMN    0.627814  0.584780  1.073590    0.388  0.402\n",
            "\n",
            "Here is our most probable winner list (for TR = 0.0) :\n",
            "\n",
            "====================================================\n",
            "Analysis date and time = 13/03/2024 22:01:05\n",
            "\n",
            "====================================================\n",
            "\n",
            "====================================================\n",
            "\n",
            "====================================================\n",
            "\n",
            "====================================================\n",
            "\n",
            "====================================================\n",
            "\n",
            "Out of 90, there are 90 assets have PWin_OC > 0.01\n"
          ]
        },
        {
          "output_type": "stream",
          "name": "stderr",
          "text": [
            "\n"
          ]
        },
        {
          "output_type": "display_data",
          "data": {
            "text/plain": [
              "<IPython.core.display.Javascript object>"
            ],
            "application/javascript": [
              "\n",
              "    async function download(id, filename, size) {\n",
              "      if (!google.colab.kernel.accessAllowed) {\n",
              "        return;\n",
              "      }\n",
              "      const div = document.createElement('div');\n",
              "      const label = document.createElement('label');\n",
              "      label.textContent = `Downloading \"${filename}\": `;\n",
              "      div.appendChild(label);\n",
              "      const progress = document.createElement('progress');\n",
              "      progress.max = size;\n",
              "      div.appendChild(progress);\n",
              "      document.body.appendChild(div);\n",
              "\n",
              "      const buffers = [];\n",
              "      let downloaded = 0;\n",
              "\n",
              "      const channel = await google.colab.kernel.comms.open(id);\n",
              "      // Send a message to notify the kernel that we're ready.\n",
              "      channel.send({})\n",
              "\n",
              "      for await (const message of channel.messages) {\n",
              "        // Send a message to notify the kernel that we're ready.\n",
              "        channel.send({})\n",
              "        if (message.buffers) {\n",
              "          for (const buffer of message.buffers) {\n",
              "            buffers.push(buffer);\n",
              "            downloaded += buffer.byteLength;\n",
              "            progress.value = downloaded;\n",
              "          }\n",
              "        }\n",
              "      }\n",
              "      const blob = new Blob(buffers, {type: 'application/binary'});\n",
              "      const a = document.createElement('a');\n",
              "      a.href = window.URL.createObjectURL(blob);\n",
              "      a.download = filename;\n",
              "      div.appendChild(a);\n",
              "      a.click();\n",
              "      div.remove();\n",
              "    }\n",
              "  "
            ]
          },
          "metadata": {}
        },
        {
          "output_type": "display_data",
          "data": {
            "text/plain": [
              "<IPython.core.display.Javascript object>"
            ],
            "application/javascript": [
              "download(\"download_ebaf782b-f1ff-482b-b468-b97466789b9f\", \"dow30_selected.csv\", 6876)"
            ]
          },
          "metadata": {}
        },
        {
          "output_type": "stream",
          "name": "stdout",
          "text": [
            "..........END OF ASSET SELECTION.........................\n",
            "--- 54.89173340797424 seconds ---\n"
          ]
        }
      ]
    },
    {
      "cell_type": "code",
      "source": [],
      "metadata": {
        "id": "rAFzfPZA0OrX"
      },
      "execution_count": 253,
      "outputs": []
    }
  ],
  "metadata": {
    "colab": {
      "provenance": [],
      "machine_shape": "hm",
      "mount_file_id": "https://github.com/MarkovMarkowitz/MarkovMarkowitz/blob/main/ON1_Trading_Strategy_Functions_v11C_NO_GENIL.ipynb",
      "authorship_tag": "ABX9TyMVcybXfZdCrl51nCrqTvxZ",
      "include_colab_link": true
    },
    "kernelspec": {
      "display_name": "Python 3",
      "name": "python3"
    },
    "language_info": {
      "name": "python"
    }
  },
  "nbformat": 4,
  "nbformat_minor": 0
}